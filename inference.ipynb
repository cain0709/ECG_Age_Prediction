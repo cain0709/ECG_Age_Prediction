{
 "cells": [
  {
   "cell_type": "code",
   "execution_count": 52,
   "id": "646050e7-acce-4d2c-9c9c-e4c556f65839",
   "metadata": {},
   "outputs": [],
   "source": [
    "import os\n",
    "import gc\n",
    "import random\n",
    "import pandas as pd\n",
    "import numpy as np\n",
    "import matplotlib.pyplot as plt \n",
    "import matplotlib\n",
    "import glob\n",
    "import sklearn\n",
    "from sklearn.metrics import mean_absolute_error\n",
    "from sklearn.preprocessing import LabelEncoder, MinMaxScaler, StandardScaler\n",
    "from sklearn.model_selection import train_test_split, KFold\n",
    "\n",
    "from tqdm.auto import tqdm\n",
    "import torch\n",
    "import torch.nn as nn\n",
    "import torch.optim as optim\n",
    "import torch.nn.functional as F\n",
    "import torchinfo\n",
    "from torchinfo import summary\n",
    "from torch.utils.data import DataLoader, Dataset"
   ]
  },
  {
   "cell_type": "code",
   "execution_count": 53,
   "id": "220d736d-083c-420f-a32e-1945dde2cafe",
   "metadata": {},
   "outputs": [
    {
     "name": "stdout",
     "output_type": "stream",
     "text": [
      "sklearn ver : 1.2.2\n",
      "torch ver : 2.0.1\n",
      "pandas ver : 2.0.3\n",
      "numpy ver : 1.23.2\n",
      "torchinfo ver : 1.7.2\n",
      "matplotlib ver : 3.7.1\n",
      "OS : M1 Pro 14inch Ventura\n"
     ]
    }
   ],
   "source": [
    "## 많은 라이브러릴 사용하지 않았기 때문에, 아래의 라이브러리 버전만을 출력합니다.\n",
    "## 아래의 버전만 맞추어 주신다면 충분히 코드의 재현이 될 것이지만, 문제 생길경우 문의주시면 감사하겠습니다.\n",
    "print(f\"sklearn ver : {sklearn.__version__}\" )\n",
    "print(f\"torch ver : {torch.__version__}\" )\n",
    "print(f\"pandas ver : {pd.__version__}\" )\n",
    "print(f\"numpy ver : {np.__version__}\" )\n",
    "print(f\"torchinfo ver : {torchinfo.__version__}\" )\n",
    "print(f\"matplotlib ver : {matplotlib.__version__}\" )\n",
    "print(\"OS : M1 Pro 14inch Ventura\")"
   ]
  },
  {
   "cell_type": "code",
   "execution_count": 54,
   "id": "4b7b3169-2550-414b-a28d-fbb7612dc578",
   "metadata": {},
   "outputs": [
    {
     "data": {
      "text/plain": [
       "'\\ncuda사용시 2번째 줄의 코드를 주석 해제하시면 됩니다.\\n'"
      ]
     },
     "execution_count": 54,
     "metadata": {},
     "output_type": "execute_result"
    }
   ],
   "source": [
    "device = torch.device(\"mps\" if  torch.backends.mps.is_available() else \"cpu\")\n",
    "#device = torch.device(\"cuda\" if torch.cuda.is_available() else \"cpu\")\n",
    "'''\n",
    "cuda사용시 2번째 줄의 코드를 주석 해제하시면 됩니다.\n",
    "'''"
   ]
  },
  {
   "cell_type": "code",
   "execution_count": 55,
   "id": "eba6e6da-ec7b-4207-a052-2a0badc53048",
   "metadata": {},
   "outputs": [],
   "source": [
    "TIMESTEP = 5000\n",
    "EPOCHS = 70\n",
    "LR = 1e-3\n",
    "BS = 32\n",
    "SEED = 42\n",
    "MODEL_NAME ='Conv1d_ver_7'\n",
    "def seed_everything(seed):\n",
    "    random.seed(seed)\n",
    "    os.environ['PYTHONHASHSEED'] = str(seed)\n",
    "    np.random.seed(seed)\n",
    "    torch.manual_seed(seed)\n",
    "    torch.cuda.manual_seed(seed)\n",
    "    torch.backends.cudnn.deterministic = True\n",
    "    torch.backends.cudnn.benchmark = False\n",
    "    \n",
    "seed_everything(SEED) # Seed 고정"
   ]
  },
  {
   "cell_type": "code",
   "execution_count": 56,
   "id": "18a9ffe4-a031-4eab-b5b3-fac050829da7",
   "metadata": {},
   "outputs": [],
   "source": [
    "#Reference : https://doheon.github.io/%EC%BD%94%EB%93%9C%EA%B5%AC%ED%98%84/time-series/ci-3.lstm-post/\n",
    "class Model(nn.Module):\n",
    "    def __init__(self, input_size):\n",
    "        super(Model, self).__init__()\n",
    "        self.input_size = input_size\n",
    "        print\n",
    "        self.conv1 = self.return_conv(self.input_size, 16)\n",
    "        self.conv2 = self.return_conv(16, 32)\n",
    "        self.conv3 = self.return_conv(32, 64)\n",
    "        self.conv4 = self.return_conv(64, 128)\n",
    "        self.gap = nn.AdaptiveAvgPool1d(1)\n",
    "        self.output = nn.Sequential(\n",
    "            nn.Dropout(0.3),\n",
    "            nn.Linear(128+1,1)\n",
    "        )\n",
    "            \n",
    "        \n",
    "        self.init_weight()\n",
    "        \n",
    "    def forward(self, x, sex):\n",
    "        x = x.transpose(1,2)\n",
    "        x = self.conv1(x)\n",
    "        x = self.conv2(x)\n",
    "        x = self.conv3(x)\n",
    "        x = self.conv4(x)\n",
    "        x = self.gap(x)\n",
    "        x = x.transpose(1,2)\n",
    "        x = x.squeeze(1)\n",
    "        x = self.output(torch.cat((x, sex.reshape(-1,1)), dim=1))\n",
    "        return x\n",
    "    \n",
    "    def init_weight(self):\n",
    "        for m in self.modules():\n",
    "            if isinstance(m, nn.Linear):\n",
    "                nn.init.kaiming_normal_(m.weight)\n",
    "                nn.init.zeros_(m.bias)\n",
    "            elif isinstance(m, nn.GroupNorm):\n",
    "                nn.init.constant(m.weight, 1)\n",
    "                nn.init.constant(m.bias, 0)\n",
    "            elif isinstance(m, nn.Conv1d):\n",
    "                nn.init.kaiming_normal_(m.weight)\n",
    "                nn.init.zeros_(m.bias)\n",
    "                \n",
    "    def return_conv(self, input_s, output_s):\n",
    "        layer = nn.Sequential(\n",
    "            nn.Conv1d(in_channels =  input_s, out_channels = output_s, kernel_size = 3, padding='same'),\n",
    "            nn.ReLU(),\n",
    "            nn.GroupNorm(1,output_s),\n",
    "            nn.Conv1d(in_channels =  output_s, out_channels = output_s, kernel_size = 3, padding='same'),\n",
    "            nn.ReLU(),\n",
    "            nn.GroupNorm(1,output_s),\n",
    "            nn.Conv1d(in_channels =  output_s, out_channels = output_s, kernel_size = 3, padding='same'),\n",
    "            nn.ReLU(),\n",
    "            nn.GroupNorm(1,output_s),\n",
    "            nn.AvgPool1d(2)\n",
    "        )\n",
    "        return layer\n",
    "            "
   ]
  },
  {
   "cell_type": "code",
   "execution_count": 57,
   "id": "1d179606-f92b-4353-a7d1-e49b093e8d1d",
   "metadata": {},
   "outputs": [],
   "source": [
    "class TestDataset(Dataset):\n",
    "    def __init__(self, origin_x, sex):\n",
    "        self.data = origin_x\n",
    "        self.sex = sex\n",
    "    def __getitem__(self, index):\n",
    "        self.x = self.data[index]\n",
    "        return self.x, self.sex[index]\n",
    "    def __len__(self):\n",
    "        return len(self.data)\n"
   ]
  },
  {
   "cell_type": "code",
   "execution_count": 58,
   "id": "a9ef9b7c-24aa-44fa-8eaa-5f0ebc6611a3",
   "metadata": {},
   "outputs": [
    {
     "data": {
      "text/plain": [
       "\"\\n예시 코드입니다. 아래와 같이 경로가 설정될 수 있께 위의 변수들을 설정하여주세요.\\nadult_data_test_num = len(os.listdir('./ECG_adult_numpy_valid'))\\nchild_data_test_num = len(os.listdir('./ECG_child_numpy_valid'))\\n\\ntest_csv= pd.read_csv('./submission.csv')\\n\""
      ]
     },
     "execution_count": 58,
     "metadata": {},
     "output_type": "execute_result"
    }
   ],
   "source": [
    "ADULT_DATA_FOLDER = \"ECG_adult_numpy_valid\" # ex. ECG_adult_numpy_valid 이런식으로 문자열 입력\n",
    "CHILD_DATA_FOLDER = \"ECG_child_numpy_valid\" # ex. ECG_adult_numpy_valid 이런식으로 문자열 입력\n",
    "TEST_CSV = \"submission.csv\" #대회에서 주어진 submission.csv와 같은 .csv 파일명 입력\n",
    "\n",
    "'''\n",
    "경로\n",
    "\n",
    "--- inference.ipynb\n",
    "--- submission.csv\n",
    "--- models\n",
    "    --- .pth 파일들..\n",
    "    --- .pth 파일들..\n",
    "--- ECG_adult_numpy_test\n",
    "    --- .npy 파일들.. \n",
    "    --- .npy 파일들..\n",
    "--- ECG_child_numpy_test\n",
    "    --- .npy 파일들.. \n",
    "    --- .npy 파일들..\n",
    "'''\n",
    "\n",
    "'''\n",
    "예시 코드입니다. 아래와 같이 경로가 설정될 수 있께 위의 변수들을 설정하여주세요.\n",
    "adult_data_test_num = len(os.listdir('./ECG_adult_numpy_valid'))\n",
    "child_data_test_num = len(os.listdir('./ECG_child_numpy_valid'))\n",
    "\n",
    "test_csv= pd.read_csv('./submission.csv')\n",
    "'''\n"
   ]
  },
  {
   "cell_type": "code",
   "execution_count": 59,
   "id": "94c11b63-5d8e-4ee6-a91d-f6645b38aa91",
   "metadata": {},
   "outputs": [
    {
     "data": {
      "text/html": [
       "<div>\n",
       "<style scoped>\n",
       "    .dataframe tbody tr th:only-of-type {\n",
       "        vertical-align: middle;\n",
       "    }\n",
       "\n",
       "    .dataframe tbody tr th {\n",
       "        vertical-align: top;\n",
       "    }\n",
       "\n",
       "    .dataframe thead th {\n",
       "        text-align: right;\n",
       "    }\n",
       "</style>\n",
       "<table border=\"1\" class=\"dataframe\">\n",
       "  <thead>\n",
       "    <tr style=\"text-align: right;\">\n",
       "      <th></th>\n",
       "      <th>FILENAME</th>\n",
       "      <th>GENDER</th>\n",
       "      <th>AGE</th>\n",
       "    </tr>\n",
       "  </thead>\n",
       "  <tbody>\n",
       "    <tr>\n",
       "      <th>0</th>\n",
       "      <td>ecg_child_8781</td>\n",
       "      <td>FEMALE</td>\n",
       "      <td>NaN</td>\n",
       "    </tr>\n",
       "    <tr>\n",
       "      <th>1</th>\n",
       "      <td>ecg_child_8782</td>\n",
       "      <td>MALE</td>\n",
       "      <td>NaN</td>\n",
       "    </tr>\n",
       "    <tr>\n",
       "      <th>2</th>\n",
       "      <td>ecg_child_8783</td>\n",
       "      <td>MALE</td>\n",
       "      <td>NaN</td>\n",
       "    </tr>\n",
       "    <tr>\n",
       "      <th>3</th>\n",
       "      <td>ecg_child_8784</td>\n",
       "      <td>FEMALE</td>\n",
       "      <td>NaN</td>\n",
       "    </tr>\n",
       "    <tr>\n",
       "      <th>4</th>\n",
       "      <td>ecg_child_8785</td>\n",
       "      <td>FEMALE</td>\n",
       "      <td>NaN</td>\n",
       "    </tr>\n",
       "    <tr>\n",
       "      <th>...</th>\n",
       "      <td>...</td>\n",
       "      <td>...</td>\n",
       "      <td>...</td>\n",
       "    </tr>\n",
       "    <tr>\n",
       "      <th>5470</th>\n",
       "      <td>ecg_adult_39536</td>\n",
       "      <td>FEMALE</td>\n",
       "      <td>NaN</td>\n",
       "    </tr>\n",
       "    <tr>\n",
       "      <th>5471</th>\n",
       "      <td>ecg_adult_39537</td>\n",
       "      <td>FEMALE</td>\n",
       "      <td>NaN</td>\n",
       "    </tr>\n",
       "    <tr>\n",
       "      <th>5472</th>\n",
       "      <td>ecg_adult_39538</td>\n",
       "      <td>FEMALE</td>\n",
       "      <td>NaN</td>\n",
       "    </tr>\n",
       "    <tr>\n",
       "      <th>5473</th>\n",
       "      <td>ecg_adult_39539</td>\n",
       "      <td>FEMALE</td>\n",
       "      <td>NaN</td>\n",
       "    </tr>\n",
       "    <tr>\n",
       "      <th>5474</th>\n",
       "      <td>ecg_adult_39540</td>\n",
       "      <td>FEMALE</td>\n",
       "      <td>NaN</td>\n",
       "    </tr>\n",
       "  </tbody>\n",
       "</table>\n",
       "<p>5475 rows × 3 columns</p>\n",
       "</div>"
      ],
      "text/plain": [
       "             FILENAME  GENDER  AGE\n",
       "0      ecg_child_8781  FEMALE  NaN\n",
       "1      ecg_child_8782    MALE  NaN\n",
       "2      ecg_child_8783    MALE  NaN\n",
       "3      ecg_child_8784  FEMALE  NaN\n",
       "4      ecg_child_8785  FEMALE  NaN\n",
       "...               ...     ...  ...\n",
       "5470  ecg_adult_39536  FEMALE  NaN\n",
       "5471  ecg_adult_39537  FEMALE  NaN\n",
       "5472  ecg_adult_39538  FEMALE  NaN\n",
       "5473  ecg_adult_39539  FEMALE  NaN\n",
       "5474  ecg_adult_39540  FEMALE  NaN\n",
       "\n",
       "[5475 rows x 3 columns]"
      ]
     },
     "execution_count": 59,
     "metadata": {},
     "output_type": "execute_result"
    }
   ],
   "source": [
    "adult_data_test_num = len(os.listdir(f'./{ADULT_DATA_FOLDER}'))\n",
    "child_data_test_num = len(os.listdir(f'./{CHILD_DATA_FOLDER}'))\n",
    "\n",
    "test_csv= pd.read_csv(f'./{TEST_CSV}')\n",
    "test_csv"
   ]
  },
  {
   "cell_type": "code",
   "execution_count": 61,
   "id": "2375f668-3cfe-40da-abf0-ac4da74d9222",
   "metadata": {},
   "outputs": [
    {
     "data": {
      "text/html": [
       "<div>\n",
       "<style scoped>\n",
       "    .dataframe tbody tr th:only-of-type {\n",
       "        vertical-align: middle;\n",
       "    }\n",
       "\n",
       "    .dataframe tbody tr th {\n",
       "        vertical-align: top;\n",
       "    }\n",
       "\n",
       "    .dataframe thead th {\n",
       "        text-align: right;\n",
       "    }\n",
       "</style>\n",
       "<table border=\"1\" class=\"dataframe\">\n",
       "  <thead>\n",
       "    <tr style=\"text-align: right;\">\n",
       "      <th></th>\n",
       "      <th>FILENAME</th>\n",
       "      <th>GENDER</th>\n",
       "      <th>AGE</th>\n",
       "    </tr>\n",
       "  </thead>\n",
       "  <tbody>\n",
       "    <tr>\n",
       "      <th>0</th>\n",
       "      <td>ecg_child_8781</td>\n",
       "      <td>1</td>\n",
       "      <td>NaN</td>\n",
       "    </tr>\n",
       "    <tr>\n",
       "      <th>1</th>\n",
       "      <td>ecg_child_8782</td>\n",
       "      <td>0</td>\n",
       "      <td>NaN</td>\n",
       "    </tr>\n",
       "    <tr>\n",
       "      <th>2</th>\n",
       "      <td>ecg_child_8783</td>\n",
       "      <td>0</td>\n",
       "      <td>NaN</td>\n",
       "    </tr>\n",
       "    <tr>\n",
       "      <th>3</th>\n",
       "      <td>ecg_child_8784</td>\n",
       "      <td>1</td>\n",
       "      <td>NaN</td>\n",
       "    </tr>\n",
       "    <tr>\n",
       "      <th>4</th>\n",
       "      <td>ecg_child_8785</td>\n",
       "      <td>1</td>\n",
       "      <td>NaN</td>\n",
       "    </tr>\n",
       "    <tr>\n",
       "      <th>...</th>\n",
       "      <td>...</td>\n",
       "      <td>...</td>\n",
       "      <td>...</td>\n",
       "    </tr>\n",
       "    <tr>\n",
       "      <th>5470</th>\n",
       "      <td>ecg_adult_39536</td>\n",
       "      <td>1</td>\n",
       "      <td>NaN</td>\n",
       "    </tr>\n",
       "    <tr>\n",
       "      <th>5471</th>\n",
       "      <td>ecg_adult_39537</td>\n",
       "      <td>1</td>\n",
       "      <td>NaN</td>\n",
       "    </tr>\n",
       "    <tr>\n",
       "      <th>5472</th>\n",
       "      <td>ecg_adult_39538</td>\n",
       "      <td>1</td>\n",
       "      <td>NaN</td>\n",
       "    </tr>\n",
       "    <tr>\n",
       "      <th>5473</th>\n",
       "      <td>ecg_adult_39539</td>\n",
       "      <td>1</td>\n",
       "      <td>NaN</td>\n",
       "    </tr>\n",
       "    <tr>\n",
       "      <th>5474</th>\n",
       "      <td>ecg_adult_39540</td>\n",
       "      <td>1</td>\n",
       "      <td>NaN</td>\n",
       "    </tr>\n",
       "  </tbody>\n",
       "</table>\n",
       "<p>5475 rows × 3 columns</p>\n",
       "</div>"
      ],
      "text/plain": [
       "             FILENAME GENDER  AGE\n",
       "0      ecg_child_8781      1  NaN\n",
       "1      ecg_child_8782      0  NaN\n",
       "2      ecg_child_8783      0  NaN\n",
       "3      ecg_child_8784      1  NaN\n",
       "4      ecg_child_8785      1  NaN\n",
       "...               ...    ...  ...\n",
       "5470  ecg_adult_39536      1  NaN\n",
       "5471  ecg_adult_39537      1  NaN\n",
       "5472  ecg_adult_39538      1  NaN\n",
       "5473  ecg_adult_39539      1  NaN\n",
       "5474  ecg_adult_39540      1  NaN\n",
       "\n",
       "[5475 rows x 3 columns]"
      ]
     },
     "execution_count": 61,
     "metadata": {},
     "output_type": "execute_result"
    }
   ],
   "source": [
    "test_csv.loc[test_csv['GENDER'] == 'MALE',  'GENDER'] = 0\n",
    "test_csv.loc[test_csv['GENDER'] == 'FEMALE',  'GENDER'] = 1\n",
    "test_csv.loc[test_csv['GENDER'] == 'unknown',  'GENDER'] = 0\n",
    "test_csv"
   ]
  },
  {
   "cell_type": "code",
   "execution_count": 62,
   "id": "0dd01c99-622a-4e08-9d9b-6acdfd029206",
   "metadata": {},
   "outputs": [
    {
     "name": "stdout",
     "output_type": "stream",
     "text": [
      "['./ECG_adult_numpy_valid/ecg_adult_35141.npy', './ECG_adult_numpy_valid/ecg_adult_35142.npy', './ECG_adult_numpy_valid/ecg_adult_35143.npy', './ECG_adult_numpy_valid/ecg_adult_35144.npy', './ECG_adult_numpy_valid/ecg_adult_35145.npy', './ECG_adult_numpy_valid/ecg_adult_35146.npy', './ECG_adult_numpy_valid/ecg_adult_35147.npy', './ECG_adult_numpy_valid/ecg_adult_35148.npy', './ECG_adult_numpy_valid/ecg_adult_35149.npy', './ECG_adult_numpy_valid/ecg_adult_35150.npy']\n",
      "4375\n",
      "1100\n"
     ]
    },
    {
     "data": {
      "text/plain": [
       "\"\\nTest csv 형식이 주어진 submission.csv와 동일하다고 가정합니다.\\nTest csv가 Child 1100명 -> adult 4375명 순으로 인덱싱이 되어있다고 가정하였고,\\n만약 실제 테스트 데이터의 child 인원수가 다르다면 이 셀의 1100의 숫자와, 바로 아래의셀의 adult_sex_tmp=test_csv['GENDER'][1100+i]부분의 \\n1100숫자를 child의 인원수에맞게 수정해주시면 됩니다.\\n\""
      ]
     },
     "execution_count": 62,
     "metadata": {},
     "output_type": "execute_result"
    }
   ],
   "source": [
    "test_adult_path = [f'./{ADULT_DATA_FOLDER}/{name}.npy' for name in test_csv['FILENAME'][1100:]]\n",
    "test_child_path = [f'./{CHILD_DATA_FOLDER}/{name}.npy' for name in test_csv['FILENAME'][:1100]] \n",
    "print(test_adult_path[:10])\n",
    "print(len(test_adult_path))\n",
    "print(len(test_child_path))\n",
    "\n",
    "'''\n",
    "Test csv 형식이 주어진 submission.csv와 동일하다고 가정합니다.\n",
    "Test csv가 Child 1100명 -> adult 4375명 순으로 인덱싱이 되어있다고 가정하였고,\n",
    "만약 실제 테스트 데이터의 child 인원수가 다르다면 이 셀의 1100의 숫자와, 바로 아래의셀의 adult_sex_tmp=test_csv['GENDER'][1100+i]부분의 \n",
    "1100숫자를 child의 인원수에맞게 수정해주시면 됩니다.\n",
    "'''"
   ]
  },
  {
   "cell_type": "code",
   "execution_count": 63,
   "id": "fd0ca393-8df9-43f8-a35e-9d57c7478eea",
   "metadata": {},
   "outputs": [
    {
     "data": {
      "application/vnd.jupyter.widget-view+json": {
       "model_id": "c8b592a994ee4ea3a026d05ca7380ffa",
       "version_major": 2,
       "version_minor": 0
      },
      "text/plain": [
       "0it [00:00, ?it/s]"
      ]
     },
     "metadata": {},
     "output_type": "display_data"
    },
    {
     "data": {
      "text/plain": [
       "(4375, 5000, 12)"
      ]
     },
     "execution_count": 63,
     "metadata": {},
     "output_type": "execute_result"
    }
   ],
   "source": [
    "adult_test_np = []\n",
    "adult_test_sex =[]\n",
    "for i, path in tqdm(enumerate(test_adult_path)):\n",
    "    adult_test_np_tmp = np.load(path).reshape(5000,-1)[:,:]\n",
    "    adult_sex_tmp = test_csv['GENDER'][1100+i]\n",
    "    adult_test_np.append(adult_test_np_tmp)\n",
    "    adult_test_sex.append(adult_sex_tmp)\n",
    "adult_test_np = np.array(adult_test_np)\n",
    "adult_test_sex = np.array(adult_test_sex)\n",
    "adult_test_np.shape"
   ]
  },
  {
   "cell_type": "code",
   "execution_count": 64,
   "id": "55b8fbdb-b7f8-4845-80ce-e174adc1bb92",
   "metadata": {},
   "outputs": [
    {
     "data": {
      "application/vnd.jupyter.widget-view+json": {
       "model_id": "bc1bbcae782e45e09d06436a827aa5f4",
       "version_major": 2,
       "version_minor": 0
      },
      "text/plain": [
       "0it [00:00, ?it/s]"
      ]
     },
     "metadata": {},
     "output_type": "display_data"
    },
    {
     "data": {
      "text/plain": [
       "(1100, 5000, 12)"
      ]
     },
     "execution_count": 64,
     "metadata": {},
     "output_type": "execute_result"
    }
   ],
   "source": [
    "child_test_np = []\n",
    "child_test_sex = []\n",
    "for i, path in tqdm(enumerate(test_child_path)):\n",
    "    child_test_np_tmp = np.load(path).reshape(5000,-1)[:,:]\n",
    "    child_sex_tmp = test_csv['GENDER'][i]\n",
    "    child_test_np.append(child_test_np_tmp)\n",
    "    child_test_sex.append(child_sex_tmp)\n",
    "child_test_np = np.array(child_test_np)\n",
    "child_test_sex = np.array(child_test_sex)\n",
    "child_test_np.shape"
   ]
  },
  {
   "cell_type": "code",
   "execution_count": 65,
   "id": "abc33b57-9436-48e6-80b4-e6fcb47ffda3",
   "metadata": {},
   "outputs": [],
   "source": [
    "test_adult_dataset = TestDataset(torch.tensor(adult_test_np), torch.tensor(adult_test_sex))\n",
    "test_adult_loader = DataLoader(test_adult_dataset, batch_size=BS, shuffle=False)\n",
    "test_child_dataset = TestDataset(torch.tensor(child_test_np), torch.tensor(child_test_sex))\n",
    "test_child_loader = DataLoader(test_child_dataset, batch_size=BS, shuffle=False)"
   ]
  },
  {
   "cell_type": "code",
   "execution_count": 66,
   "id": "bfff1109-f38b-431e-9adb-cd37448dee6e",
   "metadata": {},
   "outputs": [
    {
     "data": {
      "application/vnd.jupyter.widget-view+json": {
       "model_id": "048de60f5d3747dd86201b8d98f97b36",
       "version_major": 2,
       "version_minor": 0
      },
      "text/plain": [
       "  0%|          | 0/10 [00:00<?, ?it/s]"
      ]
     },
     "metadata": {},
     "output_type": "display_data"
    },
    {
     "name": "stdout",
     "output_type": "stream",
     "text": [
      "(10, 4375)\n",
      "(10, 1100)\n"
     ]
    }
   ],
   "source": [
    "child_pred_list = []\n",
    "adult_pred_list = []\n",
    "for fold in tqdm(range(1,11)):\n",
    "    adult_pred = []\n",
    "    child_pred = []\n",
    "    pretrained_adult_model = torch.load('./model/' + MODEL_NAME + f\"_adult_{fold}.pth\")\n",
    "    pretrained_adult_model = pretrained_adult_model.to(device)\n",
    "    pretrained_adult_model.eval()\n",
    "    pretrained_child_model = torch.load('./model/' + MODEL_NAME + f\"_child_{fold}.pth\")\n",
    "    pretrained_child_model = pretrained_child_model.to(device)\n",
    "    pretrained_child_model.eval()\n",
    "    with torch.no_grad():\n",
    "        for x, sex in iter(test_adult_loader):\n",
    "            x = x.float().to(device)\n",
    "            sex = sex.to(device)\n",
    "            batch_pred = pretrained_adult_model(x,sex).squeeze(1)    \n",
    "            adult_pred += batch_pred.cpu().detach().tolist()\n",
    "    with torch.no_grad():\n",
    "        for x, sex in iter(test_child_loader):\n",
    "            x = x.float().to(device)\n",
    "            sex = sex.to(device)\n",
    "            batch_pred = pretrained_child_model(x,sex).squeeze(1) \n",
    "            child_pred += batch_pred.cpu().detach().tolist()\n",
    "    adult_pred_list.append(adult_pred)\n",
    "    child_pred_list.append(child_pred)\n",
    "\n",
    "adult_pred_arr = np.array(adult_pred_list)\n",
    "child_pred_arr = np.array(child_pred_list)\n",
    "print(adult_pred_arr.shape)\n",
    "print(child_pred_arr.shape)"
   ]
  },
  {
   "cell_type": "code",
   "execution_count": 67,
   "id": "f8a3e26f-4370-4e62-91cf-bdfbeb2e1ef2",
   "metadata": {},
   "outputs": [
    {
     "data": {
      "text/plain": [
       "4375"
      ]
     },
     "execution_count": 67,
     "metadata": {},
     "output_type": "execute_result"
    }
   ],
   "source": [
    "adult_pred = adult_pred_arr.mean(axis=0).tolist()\n",
    "child_pred = child_pred_arr.mean(axis=0).tolist()\n",
    "len(adult_pred)"
   ]
  },
  {
   "cell_type": "code",
   "execution_count": null,
   "id": "b4a505f0-6799-404b-a8bc-813fef70e039",
   "metadata": {},
   "outputs": [],
   "source": [
    "pred = child_pred+adult_pred\n",
    "\n",
    "test_csv['AGE']=pred\n",
    "test_csv"
   ]
  },
  {
   "cell_type": "code",
   "execution_count": 47,
   "id": "59689e16-725d-4861-9371-4842b1dd41b3",
   "metadata": {},
   "outputs": [],
   "source": [
    "test_csv.to_csv(f'./{MODEL_NAME}.csv')"
   ]
  }
 ],
 "metadata": {
  "kernelspec": {
   "display_name": "Python 3 (ipykernel)",
   "language": "python",
   "name": "python3"
  },
  "language_info": {
   "codemirror_mode": {
    "name": "ipython",
    "version": 3
   },
   "file_extension": ".py",
   "mimetype": "text/x-python",
   "name": "python",
   "nbconvert_exporter": "python",
   "pygments_lexer": "ipython3",
   "version": "3.8.16"
  }
 },
 "nbformat": 4,
 "nbformat_minor": 5
}
