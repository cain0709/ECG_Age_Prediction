{
 "cells": [
  {
   "cell_type": "code",
   "execution_count": 1,
   "id": "a3aefee7-b658-4123-9e62-5189a46f8e0c",
   "metadata": {},
   "outputs": [],
   "source": [
    "import os\n",
    "import gc\n",
    "import random\n",
    "import pandas as pd\n",
    "import numpy as np\n",
    "import matplotlib.pyplot as plt \n",
    "import matplotlib\n",
    "import glob\n",
    "import heartpy as hp\n",
    "from sklearn.metrics import mean_absolute_error\n",
    "from sklearn.preprocessing import LabelEncoder, MinMaxScaler, StandardScaler\n",
    "from sklearn.model_selection import train_test_split, KFold\n",
    "from imblearn.under_sampling import RandomUnderSampler\n",
    "\n",
    "from tqdm.auto import tqdm\n",
    "import torch\n",
    "import torch.nn as nn\n",
    "import torch.optim as optim\n",
    "import torch.nn.functional as F\n",
    "from torchinfo import summary\n",
    "from torch.utils.data import DataLoader, Dataset\n",
    "from scipy.signal import butter, lfilter\n",
    "from scipy.io import loadmat\n",
    "from scipy.stats import skew, kurtosis"
   ]
  },
  {
   "cell_type": "code",
   "execution_count": 2,
   "id": "6e9681bc-8066-4e8b-a90f-91e38d5252be",
   "metadata": {},
   "outputs": [],
   "source": [
    "TIMESTEP = 5000\n",
    "EPOCHS = 70\n",
    "LR = 1e-3\n",
    "BS = 32\n",
    "SEED = 42\n",
    "MODEL_NAME ='Conv1d_ver_7'\n",
    "def seed_everything(seed):\n",
    "    random.seed(seed)\n",
    "    os.environ['PYTHONHASHSEED'] = str(seed)\n",
    "    np.random.seed(seed)\n",
    "    torch.manual_seed(seed)\n",
    "    torch.cuda.manual_seed(seed)\n",
    "    torch.backends.cudnn.deterministic = True\n",
    "    torch.backends.cudnn.benchmark = False\n",
    "    \n",
    "seed_everything(SEED) # Seed 고정"
   ]
  },
  {
   "cell_type": "code",
   "execution_count": 3,
   "id": "a1fd02fa-27ab-499b-a042-84d842a67ab6",
   "metadata": {
    "scrolled": true
   },
   "outputs": [
    {
     "data": {
      "text/plain": [
       "device(type='mps')"
      ]
     },
     "execution_count": 3,
     "metadata": {},
     "output_type": "execute_result"
    }
   ],
   "source": [
    "device = torch.device(\"mps\" if  torch.backends.mps.is_available() else \"cpu\")\n",
    "device"
   ]
  },
  {
   "cell_type": "code",
   "execution_count": 4,
   "id": "2753767a-d605-408f-89bb-5de4be155acd",
   "metadata": {},
   "outputs": [],
   "source": [
    "adult_data_num = len(os.listdir('./ECG_adult_numpy_train'))\n",
    "child_data_num = len(os.listdir('./ECG_child_numpy_train'))"
   ]
  },
  {
   "cell_type": "code",
   "execution_count": 5,
   "id": "c2f4679e-62ff-407a-8d79-b0aa6621c555",
   "metadata": {},
   "outputs": [
    {
     "data": {
      "text/html": [
       "<div>\n",
       "<style scoped>\n",
       "    .dataframe tbody tr th:only-of-type {\n",
       "        vertical-align: middle;\n",
       "    }\n",
       "\n",
       "    .dataframe tbody tr th {\n",
       "        vertical-align: top;\n",
       "    }\n",
       "\n",
       "    .dataframe thead th {\n",
       "        text-align: right;\n",
       "    }\n",
       "</style>\n",
       "<table border=\"1\" class=\"dataframe\">\n",
       "  <thead>\n",
       "    <tr style=\"text-align: right;\">\n",
       "      <th></th>\n",
       "      <th>FILENAME</th>\n",
       "      <th>GENDER</th>\n",
       "      <th>AGE</th>\n",
       "    </tr>\n",
       "  </thead>\n",
       "  <tbody>\n",
       "    <tr>\n",
       "      <th>0</th>\n",
       "      <td>ecg_adult_0</td>\n",
       "      <td>MALE</td>\n",
       "      <td>53</td>\n",
       "    </tr>\n",
       "    <tr>\n",
       "      <th>1</th>\n",
       "      <td>ecg_adult_1</td>\n",
       "      <td>MALE</td>\n",
       "      <td>68</td>\n",
       "    </tr>\n",
       "    <tr>\n",
       "      <th>2</th>\n",
       "      <td>ecg_adult_2</td>\n",
       "      <td>MALE</td>\n",
       "      <td>68</td>\n",
       "    </tr>\n",
       "    <tr>\n",
       "      <th>3</th>\n",
       "      <td>ecg_adult_3</td>\n",
       "      <td>MALE</td>\n",
       "      <td>89</td>\n",
       "    </tr>\n",
       "    <tr>\n",
       "      <th>4</th>\n",
       "      <td>ecg_adult_4</td>\n",
       "      <td>MALE</td>\n",
       "      <td>79</td>\n",
       "    </tr>\n",
       "    <tr>\n",
       "      <th>...</th>\n",
       "      <td>...</td>\n",
       "      <td>...</td>\n",
       "      <td>...</td>\n",
       "    </tr>\n",
       "    <tr>\n",
       "      <th>34902</th>\n",
       "      <td>ecg_adult_35136</td>\n",
       "      <td>MALE</td>\n",
       "      <td>19</td>\n",
       "    </tr>\n",
       "    <tr>\n",
       "      <th>34903</th>\n",
       "      <td>ecg_adult_35137</td>\n",
       "      <td>FEMALE</td>\n",
       "      <td>63</td>\n",
       "    </tr>\n",
       "    <tr>\n",
       "      <th>34904</th>\n",
       "      <td>ecg_adult_35138</td>\n",
       "      <td>MALE</td>\n",
       "      <td>60</td>\n",
       "    </tr>\n",
       "    <tr>\n",
       "      <th>34905</th>\n",
       "      <td>ecg_adult_35139</td>\n",
       "      <td>FEMALE</td>\n",
       "      <td>60</td>\n",
       "    </tr>\n",
       "    <tr>\n",
       "      <th>34906</th>\n",
       "      <td>ecg_adult_35140</td>\n",
       "      <td>MALE</td>\n",
       "      <td>53</td>\n",
       "    </tr>\n",
       "  </tbody>\n",
       "</table>\n",
       "<p>34907 rows × 3 columns</p>\n",
       "</div>"
      ],
      "text/plain": [
       "              FILENAME  GENDER  AGE\n",
       "0          ecg_adult_0    MALE   53\n",
       "1          ecg_adult_1    MALE   68\n",
       "2          ecg_adult_2    MALE   68\n",
       "3          ecg_adult_3    MALE   89\n",
       "4          ecg_adult_4    MALE   79\n",
       "...                ...     ...  ...\n",
       "34902  ecg_adult_35136    MALE   19\n",
       "34903  ecg_adult_35137  FEMALE   63\n",
       "34904  ecg_adult_35138    MALE   60\n",
       "34905  ecg_adult_35139  FEMALE   60\n",
       "34906  ecg_adult_35140    MALE   53\n",
       "\n",
       "[34907 rows x 3 columns]"
      ]
     },
     "execution_count": 5,
     "metadata": {},
     "output_type": "execute_result"
    }
   ],
   "source": [
    "train_adult_csv = pd.read_csv('./ECG_adult_age_train.csv')\n",
    "train_child_csv = pd.read_csv('./ECG_child_age_train.csv')\n",
    "train_adult_csv"
   ]
  },
  {
   "cell_type": "code",
   "execution_count": 6,
   "id": "cd0b5392-8899-4ecd-9509-a4ff733ff381",
   "metadata": {},
   "outputs": [],
   "source": [
    "train_adult_csv.loc[train_adult_csv['GENDER'] == 'MALE',  'GENDER'] = 0\n",
    "train_adult_csv.loc[train_adult_csv['GENDER'] == 'FEMALE',  'GENDER'] = 1\n",
    "train_adult_csv.loc[train_adult_csv['GENDER'] == 'unknown',  'GENDER'] = 0\n",
    "train_child_csv.loc[train_child_csv['GENDER'] == 'MALE',  'GENDER'] = 0\n",
    "train_child_csv.loc[train_child_csv['GENDER'] == 'FEMALE',  'GENDER'] = 1\n",
    "train_child_csv.loc[train_child_csv['GENDER'] == 'unknown',  'GENDER'] = 0"
   ]
  },
  {
   "cell_type": "code",
   "execution_count": 7,
   "id": "8e15f921-7d83-490e-a970-044d8b8932e9",
   "metadata": {},
   "outputs": [
    {
     "name": "stdout",
     "output_type": "stream",
     "text": [
      "(34907,)\n"
     ]
    }
   ],
   "source": [
    "train_adult_age = np.array(train_adult_csv['AGE'])\n",
    "train_child_age = np.array(train_child_csv['AGE'])\n",
    "print(train_adult_age.shape)"
   ]
  },
  {
   "cell_type": "code",
   "execution_count": 8,
   "id": "ab22e1f3-d831-47a3-b314-981af0407fa9",
   "metadata": {},
   "outputs": [
    {
     "data": {
      "text/plain": [
       "(array([2.159e+03, 2.462e+03, 3.486e+03, 6.247e+03, 9.501e+03, 8.003e+03,\n",
       "        2.921e+03, 1.230e+02, 1.000e+00, 4.000e+00]),\n",
       " array([ 19. ,  29.3,  39.6,  49.9,  60.2,  70.5,  80.8,  91.1, 101.4,\n",
       "        111.7, 122. ]),\n",
       " <BarContainer object of 10 artists>)"
      ]
     },
     "execution_count": 8,
     "metadata": {},
     "output_type": "execute_result"
    },
    {
     "data": {
      "image/png": "[encoded data removed]",
      "text/plain": [
       "<Figure size 640x480 with 1 Axes>"
      ]
     },
     "metadata": {},
     "output_type": "display_data"
    }
   ],
   "source": [
    "plt.hist(train_adult_age)"
   ]
  },
  {
   "cell_type": "code",
   "execution_count": 9,
   "id": "2444b02a-d23e-48dd-b342-68b3285cc471",
   "metadata": {},
   "outputs": [
    {
     "data": {
      "text/plain": [
       "['./ECG_adult_numpy_train/ecg_adult_0.npy',\n",
       " './ECG_adult_numpy_train/ecg_adult_1.npy',\n",
       " './ECG_adult_numpy_train/ecg_adult_2.npy',\n",
       " './ECG_adult_numpy_train/ecg_adult_3.npy',\n",
       " './ECG_adult_numpy_train/ecg_adult_4.npy',\n",
       " './ECG_adult_numpy_train/ecg_adult_5.npy',\n",
       " './ECG_adult_numpy_train/ecg_adult_6.npy',\n",
       " './ECG_adult_numpy_train/ecg_adult_7.npy',\n",
       " './ECG_adult_numpy_train/ecg_adult_8.npy',\n",
       " './ECG_adult_numpy_train/ecg_adult_9.npy',\n",
       " './ECG_adult_numpy_train/ecg_adult_10.npy',\n",
       " './ECG_adult_numpy_train/ecg_adult_11.npy',\n",
       " './ECG_adult_numpy_train/ecg_adult_12.npy',\n",
       " './ECG_adult_numpy_train/ecg_adult_13.npy',\n",
       " './ECG_adult_numpy_train/ecg_adult_14.npy',\n",
       " './ECG_adult_numpy_train/ecg_adult_15.npy',\n",
       " './ECG_adult_numpy_train/ecg_adult_16.npy',\n",
       " './ECG_adult_numpy_train/ecg_adult_17.npy',\n",
       " './ECG_adult_numpy_train/ecg_adult_19.npy',\n",
       " './ECG_adult_numpy_train/ecg_adult_20.npy',\n",
       " './ECG_adult_numpy_train/ecg_adult_21.npy',\n",
       " './ECG_adult_numpy_train/ecg_adult_22.npy',\n",
       " './ECG_adult_numpy_train/ecg_adult_23.npy',\n",
       " './ECG_adult_numpy_train/ecg_adult_24.npy',\n",
       " './ECG_adult_numpy_train/ecg_adult_26.npy',\n",
       " './ECG_adult_numpy_train/ecg_adult_27.npy',\n",
       " './ECG_adult_numpy_train/ecg_adult_28.npy',\n",
       " './ECG_adult_numpy_train/ecg_adult_29.npy',\n",
       " './ECG_adult_numpy_train/ecg_adult_30.npy',\n",
       " './ECG_adult_numpy_train/ecg_adult_31.npy',\n",
       " './ECG_adult_numpy_train/ecg_adult_32.npy',\n",
       " './ECG_adult_numpy_train/ecg_adult_33.npy',\n",
       " './ECG_adult_numpy_train/ecg_adult_34.npy',\n",
       " './ECG_adult_numpy_train/ecg_adult_35.npy',\n",
       " './ECG_adult_numpy_train/ecg_adult_36.npy',\n",
       " './ECG_adult_numpy_train/ecg_adult_37.npy',\n",
       " './ECG_adult_numpy_train/ecg_adult_38.npy',\n",
       " './ECG_adult_numpy_train/ecg_adult_39.npy',\n",
       " './ECG_adult_numpy_train/ecg_adult_40.npy',\n",
       " './ECG_adult_numpy_train/ecg_adult_41.npy',\n",
       " './ECG_adult_numpy_train/ecg_adult_42.npy',\n",
       " './ECG_adult_numpy_train/ecg_adult_43.npy',\n",
       " './ECG_adult_numpy_train/ecg_adult_44.npy',\n",
       " './ECG_adult_numpy_train/ecg_adult_45.npy',\n",
       " './ECG_adult_numpy_train/ecg_adult_46.npy',\n",
       " './ECG_adult_numpy_train/ecg_adult_47.npy',\n",
       " './ECG_adult_numpy_train/ecg_adult_48.npy',\n",
       " './ECG_adult_numpy_train/ecg_adult_49.npy',\n",
       " './ECG_adult_numpy_train/ecg_adult_50.npy',\n",
       " './ECG_adult_numpy_train/ecg_adult_51.npy',\n",
       " './ECG_adult_numpy_train/ecg_adult_52.npy',\n",
       " './ECG_adult_numpy_train/ecg_adult_53.npy',\n",
       " './ECG_adult_numpy_train/ecg_adult_54.npy',\n",
       " './ECG_adult_numpy_train/ecg_adult_55.npy',\n",
       " './ECG_adult_numpy_train/ecg_adult_56.npy',\n",
       " './ECG_adult_numpy_train/ecg_adult_57.npy',\n",
       " './ECG_adult_numpy_train/ecg_adult_58.npy',\n",
       " './ECG_adult_numpy_train/ecg_adult_59.npy',\n",
       " './ECG_adult_numpy_train/ecg_adult_60.npy',\n",
       " './ECG_adult_numpy_train/ecg_adult_61.npy',\n",
       " './ECG_adult_numpy_train/ecg_adult_62.npy',\n",
       " './ECG_adult_numpy_train/ecg_adult_63.npy',\n",
       " './ECG_adult_numpy_train/ecg_adult_64.npy',\n",
       " './ECG_adult_numpy_train/ecg_adult_65.npy',\n",
       " './ECG_adult_numpy_train/ecg_adult_66.npy',\n",
       " './ECG_adult_numpy_train/ecg_adult_67.npy',\n",
       " './ECG_adult_numpy_train/ecg_adult_68.npy',\n",
       " './ECG_adult_numpy_train/ecg_adult_69.npy',\n",
       " './ECG_adult_numpy_train/ecg_adult_70.npy',\n",
       " './ECG_adult_numpy_train/ecg_adult_71.npy',\n",
       " './ECG_adult_numpy_train/ecg_adult_72.npy',\n",
       " './ECG_adult_numpy_train/ecg_adult_73.npy',\n",
       " './ECG_adult_numpy_train/ecg_adult_74.npy',\n",
       " './ECG_adult_numpy_train/ecg_adult_75.npy',\n",
       " './ECG_adult_numpy_train/ecg_adult_76.npy',\n",
       " './ECG_adult_numpy_train/ecg_adult_77.npy',\n",
       " './ECG_adult_numpy_train/ecg_adult_78.npy',\n",
       " './ECG_adult_numpy_train/ecg_adult_79.npy',\n",
       " './ECG_adult_numpy_train/ecg_adult_80.npy',\n",
       " './ECG_adult_numpy_train/ecg_adult_81.npy',\n",
       " './ECG_adult_numpy_train/ecg_adult_82.npy',\n",
       " './ECG_adult_numpy_train/ecg_adult_83.npy',\n",
       " './ECG_adult_numpy_train/ecg_adult_84.npy',\n",
       " './ECG_adult_numpy_train/ecg_adult_85.npy',\n",
       " './ECG_adult_numpy_train/ecg_adult_86.npy',\n",
       " './ECG_adult_numpy_train/ecg_adult_87.npy',\n",
       " './ECG_adult_numpy_train/ecg_adult_88.npy',\n",
       " './ECG_adult_numpy_train/ecg_adult_89.npy',\n",
       " './ECG_adult_numpy_train/ecg_adult_90.npy',\n",
       " './ECG_adult_numpy_train/ecg_adult_91.npy',\n",
       " './ECG_adult_numpy_train/ecg_adult_92.npy',\n",
       " './ECG_adult_numpy_train/ecg_adult_93.npy',\n",
       " './ECG_adult_numpy_train/ecg_adult_94.npy',\n",
       " './ECG_adult_numpy_train/ecg_adult_95.npy',\n",
       " './ECG_adult_numpy_train/ecg_adult_96.npy',\n",
       " './ECG_adult_numpy_train/ecg_adult_97.npy',\n",
       " './ECG_adult_numpy_train/ecg_adult_98.npy',\n",
       " './ECG_adult_numpy_train/ecg_adult_99.npy',\n",
       " './ECG_adult_numpy_train/ecg_adult_100.npy',\n",
       " './ECG_adult_numpy_train/ecg_adult_101.npy',\n",
       " './ECG_adult_numpy_train/ecg_adult_102.npy',\n",
       " './ECG_adult_numpy_train/ecg_adult_103.npy',\n",
       " './ECG_adult_numpy_train/ecg_adult_104.npy',\n",
       " './ECG_adult_numpy_train/ecg_adult_105.npy',\n",
       " './ECG_adult_numpy_train/ecg_adult_106.npy',\n",
       " './ECG_adult_numpy_train/ecg_adult_107.npy',\n",
       " './ECG_adult_numpy_train/ecg_adult_108.npy',\n",
       " './ECG_adult_numpy_train/ecg_adult_109.npy',\n",
       " './ECG_adult_numpy_train/ecg_adult_110.npy',\n",
       " './ECG_adult_numpy_train/ecg_adult_111.npy',\n",
       " './ECG_adult_numpy_train/ecg_adult_112.npy',\n",
       " './ECG_adult_numpy_train/ecg_adult_113.npy',\n",
       " './ECG_adult_numpy_train/ecg_adult_114.npy',\n",
       " './ECG_adult_numpy_train/ecg_adult_115.npy',\n",
       " './ECG_adult_numpy_train/ecg_adult_116.npy',\n",
       " './ECG_adult_numpy_train/ecg_adult_117.npy',\n",
       " './ECG_adult_numpy_train/ecg_adult_118.npy',\n",
       " './ECG_adult_numpy_train/ecg_adult_119.npy',\n",
       " './ECG_adult_numpy_train/ecg_adult_120.npy',\n",
       " './ECG_adult_numpy_train/ecg_adult_121.npy',\n",
       " './ECG_adult_numpy_train/ecg_adult_122.npy',\n",
       " './ECG_adult_numpy_train/ecg_adult_123.npy',\n",
       " './ECG_adult_numpy_train/ecg_adult_124.npy',\n",
       " './ECG_adult_numpy_train/ecg_adult_125.npy',\n",
       " './ECG_adult_numpy_train/ecg_adult_126.npy',\n",
       " './ECG_adult_numpy_train/ecg_adult_127.npy',\n",
       " './ECG_adult_numpy_train/ecg_adult_128.npy',\n",
       " './ECG_adult_numpy_train/ecg_adult_129.npy',\n",
       " './ECG_adult_numpy_train/ecg_adult_130.npy',\n",
       " './ECG_adult_numpy_train/ecg_adult_131.npy',\n",
       " './ECG_adult_numpy_train/ecg_adult_132.npy',\n",
       " './ECG_adult_numpy_train/ecg_adult_133.npy',\n",
       " './ECG_adult_numpy_train/ecg_adult_134.npy',\n",
       " './ECG_adult_numpy_train/ecg_adult_135.npy',\n",
       " './ECG_adult_numpy_train/ecg_adult_136.npy',\n",
       " './ECG_adult_numpy_train/ecg_adult_137.npy',\n",
       " './ECG_adult_numpy_train/ecg_adult_138.npy',\n",
       " './ECG_adult_numpy_train/ecg_adult_139.npy',\n",
       " './ECG_adult_numpy_train/ecg_adult_140.npy',\n",
       " './ECG_adult_numpy_train/ecg_adult_141.npy',\n",
       " './ECG_adult_numpy_train/ecg_adult_142.npy',\n",
       " './ECG_adult_numpy_train/ecg_adult_143.npy',\n",
       " './ECG_adult_numpy_train/ecg_adult_144.npy',\n",
       " './ECG_adult_numpy_train/ecg_adult_145.npy',\n",
       " './ECG_adult_numpy_train/ecg_adult_146.npy',\n",
       " './ECG_adult_numpy_train/ecg_adult_147.npy',\n",
       " './ECG_adult_numpy_train/ecg_adult_148.npy',\n",
       " './ECG_adult_numpy_train/ecg_adult_149.npy',\n",
       " './ECG_adult_numpy_train/ecg_adult_150.npy',\n",
       " './ECG_adult_numpy_train/ecg_adult_151.npy',\n",
       " './ECG_adult_numpy_train/ecg_adult_152.npy',\n",
       " './ECG_adult_numpy_train/ecg_adult_153.npy',\n",
       " './ECG_adult_numpy_train/ecg_adult_154.npy',\n",
       " './ECG_adult_numpy_train/ecg_adult_155.npy',\n",
       " './ECG_adult_numpy_train/ecg_adult_156.npy',\n",
       " './ECG_adult_numpy_train/ecg_adult_157.npy',\n",
       " './ECG_adult_numpy_train/ecg_adult_158.npy',\n",
       " './ECG_adult_numpy_train/ecg_adult_159.npy',\n",
       " './ECG_adult_numpy_train/ecg_adult_160.npy',\n",
       " './ECG_adult_numpy_train/ecg_adult_161.npy',\n",
       " './ECG_adult_numpy_train/ecg_adult_162.npy',\n",
       " './ECG_adult_numpy_train/ecg_adult_163.npy',\n",
       " './ECG_adult_numpy_train/ecg_adult_164.npy',\n",
       " './ECG_adult_numpy_train/ecg_adult_166.npy',\n",
       " './ECG_adult_numpy_train/ecg_adult_167.npy',\n",
       " './ECG_adult_numpy_train/ecg_adult_168.npy',\n",
       " './ECG_adult_numpy_train/ecg_adult_169.npy',\n",
       " './ECG_adult_numpy_train/ecg_adult_170.npy',\n",
       " './ECG_adult_numpy_train/ecg_adult_171.npy',\n",
       " './ECG_adult_numpy_train/ecg_adult_172.npy',\n",
       " './ECG_adult_numpy_train/ecg_adult_173.npy',\n",
       " './ECG_adult_numpy_train/ecg_adult_174.npy',\n",
       " './ECG_adult_numpy_train/ecg_adult_175.npy',\n",
       " './ECG_adult_numpy_train/ecg_adult_176.npy',\n",
       " './ECG_adult_numpy_train/ecg_adult_177.npy',\n",
       " './ECG_adult_numpy_train/ecg_adult_178.npy',\n",
       " './ECG_adult_numpy_train/ecg_adult_179.npy',\n",
       " './ECG_adult_numpy_train/ecg_adult_180.npy',\n",
       " './ECG_adult_numpy_train/ecg_adult_181.npy',\n",
       " './ECG_adult_numpy_train/ecg_adult_182.npy',\n",
       " './ECG_adult_numpy_train/ecg_adult_183.npy',\n",
       " './ECG_adult_numpy_train/ecg_adult_184.npy',\n",
       " './ECG_adult_numpy_train/ecg_adult_185.npy',\n",
       " './ECG_adult_numpy_train/ecg_adult_186.npy',\n",
       " './ECG_adult_numpy_train/ecg_adult_187.npy',\n",
       " './ECG_adult_numpy_train/ecg_adult_188.npy',\n",
       " './ECG_adult_numpy_train/ecg_adult_189.npy',\n",
       " './ECG_adult_numpy_train/ecg_adult_190.npy',\n",
       " './ECG_adult_numpy_train/ecg_adult_191.npy',\n",
       " './ECG_adult_numpy_train/ecg_adult_192.npy',\n",
       " './ECG_adult_numpy_train/ecg_adult_193.npy',\n",
       " './ECG_adult_numpy_train/ecg_adult_194.npy',\n",
       " './ECG_adult_numpy_train/ecg_adult_195.npy',\n",
       " './ECG_adult_numpy_train/ecg_adult_196.npy',\n",
       " './ECG_adult_numpy_train/ecg_adult_197.npy',\n",
       " './ECG_adult_numpy_train/ecg_adult_198.npy',\n",
       " './ECG_adult_numpy_train/ecg_adult_199.npy',\n",
       " './ECG_adult_numpy_train/ecg_adult_200.npy',\n",
       " './ECG_adult_numpy_train/ecg_adult_201.npy',\n",
       " './ECG_adult_numpy_train/ecg_adult_202.npy',\n",
       " './ECG_adult_numpy_train/ecg_adult_203.npy',\n",
       " './ECG_adult_numpy_train/ecg_adult_204.npy',\n",
       " './ECG_adult_numpy_train/ecg_adult_205.npy',\n",
       " './ECG_adult_numpy_train/ecg_adult_206.npy',\n",
       " './ECG_adult_numpy_train/ecg_adult_207.npy',\n",
       " './ECG_adult_numpy_train/ecg_adult_208.npy',\n",
       " './ECG_adult_numpy_train/ecg_adult_209.npy',\n",
       " './ECG_adult_numpy_train/ecg_adult_210.npy',\n",
       " './ECG_adult_numpy_train/ecg_adult_211.npy',\n",
       " './ECG_adult_numpy_train/ecg_adult_212.npy',\n",
       " './ECG_adult_numpy_train/ecg_adult_213.npy',\n",
       " './ECG_adult_numpy_train/ecg_adult_214.npy',\n",
       " './ECG_adult_numpy_train/ecg_adult_215.npy',\n",
       " './ECG_adult_numpy_train/ecg_adult_216.npy',\n",
       " './ECG_adult_numpy_train/ecg_adult_217.npy',\n",
       " './ECG_adult_numpy_train/ecg_adult_218.npy',\n",
       " './ECG_adult_numpy_train/ecg_adult_219.npy',\n",
       " './ECG_adult_numpy_train/ecg_adult_220.npy',\n",
       " './ECG_adult_numpy_train/ecg_adult_221.npy',\n",
       " './ECG_adult_numpy_train/ecg_adult_222.npy',\n",
       " './ECG_adult_numpy_train/ecg_adult_223.npy',\n",
       " './ECG_adult_numpy_train/ecg_adult_224.npy',\n",
       " './ECG_adult_numpy_train/ecg_adult_225.npy',\n",
       " './ECG_adult_numpy_train/ecg_adult_226.npy',\n",
       " './ECG_adult_numpy_train/ecg_adult_227.npy',\n",
       " './ECG_adult_numpy_train/ecg_adult_228.npy',\n",
       " './ECG_adult_numpy_train/ecg_adult_229.npy',\n",
       " './ECG_adult_numpy_train/ecg_adult_230.npy',\n",
       " './ECG_adult_numpy_train/ecg_adult_231.npy',\n",
       " './ECG_adult_numpy_train/ecg_adult_232.npy',\n",
       " './ECG_adult_numpy_train/ecg_adult_233.npy',\n",
       " './ECG_adult_numpy_train/ecg_adult_234.npy',\n",
       " './ECG_adult_numpy_train/ecg_adult_235.npy',\n",
       " './ECG_adult_numpy_train/ecg_adult_236.npy',\n",
       " './ECG_adult_numpy_train/ecg_adult_237.npy',\n",
       " './ECG_adult_numpy_train/ecg_adult_238.npy',\n",
       " './ECG_adult_numpy_train/ecg_adult_239.npy',\n",
       " './ECG_adult_numpy_train/ecg_adult_240.npy',\n",
       " './ECG_adult_numpy_train/ecg_adult_241.npy',\n",
       " './ECG_adult_numpy_train/ecg_adult_242.npy',\n",
       " './ECG_adult_numpy_train/ecg_adult_243.npy',\n",
       " './ECG_adult_numpy_train/ecg_adult_244.npy',\n",
       " './ECG_adult_numpy_train/ecg_adult_245.npy',\n",
       " './ECG_adult_numpy_train/ecg_adult_246.npy',\n",
       " './ECG_adult_numpy_train/ecg_adult_247.npy',\n",
       " './ECG_adult_numpy_train/ecg_adult_248.npy',\n",
       " './ECG_adult_numpy_train/ecg_adult_249.npy',\n",
       " './ECG_adult_numpy_train/ecg_adult_250.npy',\n",
       " './ECG_adult_numpy_train/ecg_adult_251.npy',\n",
       " './ECG_adult_numpy_train/ecg_adult_252.npy',\n",
       " './ECG_adult_numpy_train/ecg_adult_253.npy',\n",
       " './ECG_adult_numpy_train/ecg_adult_254.npy',\n",
       " './ECG_adult_numpy_train/ecg_adult_255.npy',\n",
       " './ECG_adult_numpy_train/ecg_adult_256.npy',\n",
       " './ECG_adult_numpy_train/ecg_adult_257.npy',\n",
       " './ECG_adult_numpy_train/ecg_adult_258.npy',\n",
       " './ECG_adult_numpy_train/ecg_adult_259.npy',\n",
       " './ECG_adult_numpy_train/ecg_adult_260.npy',\n",
       " './ECG_adult_numpy_train/ecg_adult_261.npy',\n",
       " './ECG_adult_numpy_train/ecg_adult_262.npy',\n",
       " './ECG_adult_numpy_train/ecg_adult_263.npy',\n",
       " './ECG_adult_numpy_train/ecg_adult_264.npy',\n",
       " './ECG_adult_numpy_train/ecg_adult_265.npy',\n",
       " './ECG_adult_numpy_train/ecg_adult_266.npy',\n",
       " './ECG_adult_numpy_train/ecg_adult_267.npy',\n",
       " './ECG_adult_numpy_train/ecg_adult_268.npy',\n",
       " './ECG_adult_numpy_train/ecg_adult_269.npy',\n",
       " './ECG_adult_numpy_train/ecg_adult_270.npy',\n",
       " './ECG_adult_numpy_train/ecg_adult_271.npy',\n",
       " './ECG_adult_numpy_train/ecg_adult_272.npy',\n",
       " './ECG_adult_numpy_train/ecg_adult_273.npy',\n",
       " './ECG_adult_numpy_train/ecg_adult_274.npy',\n",
       " './ECG_adult_numpy_train/ecg_adult_275.npy',\n",
       " './ECG_adult_numpy_train/ecg_adult_276.npy',\n",
       " './ECG_adult_numpy_train/ecg_adult_277.npy',\n",
       " './ECG_adult_numpy_train/ecg_adult_278.npy',\n",
       " './ECG_adult_numpy_train/ecg_adult_279.npy',\n",
       " './ECG_adult_numpy_train/ecg_adult_280.npy',\n",
       " './ECG_adult_numpy_train/ecg_adult_281.npy',\n",
       " './ECG_adult_numpy_train/ecg_adult_282.npy',\n",
       " './ECG_adult_numpy_train/ecg_adult_283.npy',\n",
       " './ECG_adult_numpy_train/ecg_adult_284.npy',\n",
       " './ECG_adult_numpy_train/ecg_adult_285.npy',\n",
       " './ECG_adult_numpy_train/ecg_adult_286.npy',\n",
       " './ECG_adult_numpy_train/ecg_adult_287.npy',\n",
       " './ECG_adult_numpy_train/ecg_adult_288.npy',\n",
       " './ECG_adult_numpy_train/ecg_adult_289.npy',\n",
       " './ECG_adult_numpy_train/ecg_adult_290.npy',\n",
       " './ECG_adult_numpy_train/ecg_adult_291.npy',\n",
       " './ECG_adult_numpy_train/ecg_adult_292.npy',\n",
       " './ECG_adult_numpy_train/ecg_adult_293.npy',\n",
       " './ECG_adult_numpy_train/ecg_adult_294.npy',\n",
       " './ECG_adult_numpy_train/ecg_adult_295.npy',\n",
       " './ECG_adult_numpy_train/ecg_adult_296.npy',\n",
       " './ECG_adult_numpy_train/ecg_adult_297.npy',\n",
       " './ECG_adult_numpy_train/ecg_adult_298.npy',\n",
       " './ECG_adult_numpy_train/ecg_adult_299.npy',\n",
       " './ECG_adult_numpy_train/ecg_adult_300.npy',\n",
       " './ECG_adult_numpy_train/ecg_adult_301.npy',\n",
       " './ECG_adult_numpy_train/ecg_adult_302.npy',\n",
       " './ECG_adult_numpy_train/ecg_adult_303.npy',\n",
       " './ECG_adult_numpy_train/ecg_adult_304.npy',\n",
       " './ECG_adult_numpy_train/ecg_adult_305.npy',\n",
       " './ECG_adult_numpy_train/ecg_adult_306.npy',\n",
       " './ECG_adult_numpy_train/ecg_adult_307.npy',\n",
       " './ECG_adult_numpy_train/ecg_adult_308.npy',\n",
       " './ECG_adult_numpy_train/ecg_adult_309.npy',\n",
       " './ECG_adult_numpy_train/ecg_adult_310.npy',\n",
       " './ECG_adult_numpy_train/ecg_adult_311.npy',\n",
       " './ECG_adult_numpy_train/ecg_adult_312.npy',\n",
       " './ECG_adult_numpy_train/ecg_adult_313.npy',\n",
       " './ECG_adult_numpy_train/ecg_adult_314.npy',\n",
       " './ECG_adult_numpy_train/ecg_adult_315.npy',\n",
       " './ECG_adult_numpy_train/ecg_adult_316.npy',\n",
       " './ECG_adult_numpy_train/ecg_adult_317.npy',\n",
       " './ECG_adult_numpy_train/ecg_adult_318.npy',\n",
       " './ECG_adult_numpy_train/ecg_adult_319.npy',\n",
       " './ECG_adult_numpy_train/ecg_adult_320.npy',\n",
       " './ECG_adult_numpy_train/ecg_adult_321.npy',\n",
       " './ECG_adult_numpy_train/ecg_adult_322.npy',\n",
       " './ECG_adult_numpy_train/ecg_adult_323.npy',\n",
       " './ECG_adult_numpy_train/ecg_adult_324.npy',\n",
       " './ECG_adult_numpy_train/ecg_adult_325.npy',\n",
       " './ECG_adult_numpy_train/ecg_adult_326.npy',\n",
       " './ECG_adult_numpy_train/ecg_adult_327.npy',\n",
       " './ECG_adult_numpy_train/ecg_adult_328.npy',\n",
       " './ECG_adult_numpy_train/ecg_adult_329.npy',\n",
       " './ECG_adult_numpy_train/ecg_adult_330.npy',\n",
       " './ECG_adult_numpy_train/ecg_adult_331.npy',\n",
       " './ECG_adult_numpy_train/ecg_adult_332.npy',\n",
       " './ECG_adult_numpy_train/ecg_adult_333.npy',\n",
       " './ECG_adult_numpy_train/ecg_adult_334.npy',\n",
       " './ECG_adult_numpy_train/ecg_adult_335.npy',\n",
       " './ECG_adult_numpy_train/ecg_adult_336.npy',\n",
       " './ECG_adult_numpy_train/ecg_adult_337.npy',\n",
       " './ECG_adult_numpy_train/ecg_adult_338.npy',\n",
       " './ECG_adult_numpy_train/ecg_adult_339.npy',\n",
       " './ECG_adult_numpy_train/ecg_adult_340.npy',\n",
       " './ECG_adult_numpy_train/ecg_adult_341.npy',\n",
       " './ECG_adult_numpy_train/ecg_adult_342.npy',\n",
       " './ECG_adult_numpy_train/ecg_adult_343.npy',\n",
       " './ECG_adult_numpy_train/ecg_adult_344.npy',\n",
       " './ECG_adult_numpy_train/ecg_adult_345.npy',\n",
       " './ECG_adult_numpy_train/ecg_adult_346.npy',\n",
       " './ECG_adult_numpy_train/ecg_adult_347.npy',\n",
       " './ECG_adult_numpy_train/ecg_adult_348.npy',\n",
       " './ECG_adult_numpy_train/ecg_adult_349.npy',\n",
       " './ECG_adult_numpy_train/ecg_adult_350.npy',\n",
       " './ECG_adult_numpy_train/ecg_adult_351.npy',\n",
       " './ECG_adult_numpy_train/ecg_adult_352.npy',\n",
       " './ECG_adult_numpy_train/ecg_adult_353.npy',\n",
       " './ECG_adult_numpy_train/ecg_adult_354.npy',\n",
       " './ECG_adult_numpy_train/ecg_adult_355.npy',\n",
       " './ECG_adult_numpy_train/ecg_adult_356.npy',\n",
       " './ECG_adult_numpy_train/ecg_adult_357.npy',\n",
       " './ECG_adult_numpy_train/ecg_adult_358.npy',\n",
       " './ECG_adult_numpy_train/ecg_adult_359.npy',\n",
       " './ECG_adult_numpy_train/ecg_adult_360.npy',\n",
       " './ECG_adult_numpy_train/ecg_adult_361.npy',\n",
       " './ECG_adult_numpy_train/ecg_adult_362.npy',\n",
       " './ECG_adult_numpy_train/ecg_adult_363.npy',\n",
       " './ECG_adult_numpy_train/ecg_adult_364.npy',\n",
       " './ECG_adult_numpy_train/ecg_adult_365.npy',\n",
       " './ECG_adult_numpy_train/ecg_adult_366.npy',\n",
       " './ECG_adult_numpy_train/ecg_adult_367.npy',\n",
       " './ECG_adult_numpy_train/ecg_adult_368.npy',\n",
       " './ECG_adult_numpy_train/ecg_adult_369.npy',\n",
       " './ECG_adult_numpy_train/ecg_adult_370.npy',\n",
       " './ECG_adult_numpy_train/ecg_adult_371.npy',\n",
       " './ECG_adult_numpy_train/ecg_adult_372.npy',\n",
       " './ECG_adult_numpy_train/ecg_adult_373.npy',\n",
       " './ECG_adult_numpy_train/ecg_adult_374.npy',\n",
       " './ECG_adult_numpy_train/ecg_adult_375.npy',\n",
       " './ECG_adult_numpy_train/ecg_adult_376.npy',\n",
       " './ECG_adult_numpy_train/ecg_adult_377.npy',\n",
       " './ECG_adult_numpy_train/ecg_adult_378.npy',\n",
       " './ECG_adult_numpy_train/ecg_adult_379.npy',\n",
       " './ECG_adult_numpy_train/ecg_adult_380.npy',\n",
       " './ECG_adult_numpy_train/ecg_adult_381.npy',\n",
       " './ECG_adult_numpy_train/ecg_adult_382.npy',\n",
       " './ECG_adult_numpy_train/ecg_adult_383.npy',\n",
       " './ECG_adult_numpy_train/ecg_adult_384.npy',\n",
       " './ECG_adult_numpy_train/ecg_adult_385.npy',\n",
       " './ECG_adult_numpy_train/ecg_adult_386.npy',\n",
       " './ECG_adult_numpy_train/ecg_adult_387.npy',\n",
       " './ECG_adult_numpy_train/ecg_adult_388.npy',\n",
       " './ECG_adult_numpy_train/ecg_adult_389.npy',\n",
       " './ECG_adult_numpy_train/ecg_adult_390.npy',\n",
       " './ECG_adult_numpy_train/ecg_adult_391.npy',\n",
       " './ECG_adult_numpy_train/ecg_adult_392.npy',\n",
       " './ECG_adult_numpy_train/ecg_adult_393.npy',\n",
       " './ECG_adult_numpy_train/ecg_adult_394.npy',\n",
       " './ECG_adult_numpy_train/ecg_adult_395.npy',\n",
       " './ECG_adult_numpy_train/ecg_adult_396.npy',\n",
       " './ECG_adult_numpy_train/ecg_adult_397.npy',\n",
       " './ECG_adult_numpy_train/ecg_adult_398.npy',\n",
       " './ECG_adult_numpy_train/ecg_adult_399.npy',\n",
       " './ECG_adult_numpy_train/ecg_adult_400.npy',\n",
       " './ECG_adult_numpy_train/ecg_adult_401.npy',\n",
       " './ECG_adult_numpy_train/ecg_adult_402.npy',\n",
       " './ECG_adult_numpy_train/ecg_adult_403.npy',\n",
       " './ECG_adult_numpy_train/ecg_adult_404.npy',\n",
       " './ECG_adult_numpy_train/ecg_adult_405.npy',\n",
       " './ECG_adult_numpy_train/ecg_adult_406.npy',\n",
       " './ECG_adult_numpy_train/ecg_adult_407.npy',\n",
       " './ECG_adult_numpy_train/ecg_adult_408.npy',\n",
       " './ECG_adult_numpy_train/ecg_adult_409.npy',\n",
       " './ECG_adult_numpy_train/ecg_adult_410.npy',\n",
       " './ECG_adult_numpy_train/ecg_adult_411.npy',\n",
       " './ECG_adult_numpy_train/ecg_adult_412.npy',\n",
       " './ECG_adult_numpy_train/ecg_adult_413.npy',\n",
       " './ECG_adult_numpy_train/ecg_adult_414.npy',\n",
       " './ECG_adult_numpy_train/ecg_adult_415.npy',\n",
       " './ECG_adult_numpy_train/ecg_adult_416.npy',\n",
       " './ECG_adult_numpy_train/ecg_adult_417.npy',\n",
       " './ECG_adult_numpy_train/ecg_adult_418.npy',\n",
       " './ECG_adult_numpy_train/ecg_adult_419.npy',\n",
       " './ECG_adult_numpy_train/ecg_adult_420.npy',\n",
       " './ECG_adult_numpy_train/ecg_adult_421.npy',\n",
       " './ECG_adult_numpy_train/ecg_adult_422.npy',\n",
       " './ECG_adult_numpy_train/ecg_adult_423.npy',\n",
       " './ECG_adult_numpy_train/ecg_adult_424.npy',\n",
       " './ECG_adult_numpy_train/ecg_adult_425.npy',\n",
       " './ECG_adult_numpy_train/ecg_adult_426.npy',\n",
       " './ECG_adult_numpy_train/ecg_adult_427.npy',\n",
       " './ECG_adult_numpy_train/ecg_adult_428.npy',\n",
       " './ECG_adult_numpy_train/ecg_adult_429.npy',\n",
       " './ECG_adult_numpy_train/ecg_adult_430.npy',\n",
       " './ECG_adult_numpy_train/ecg_adult_431.npy',\n",
       " './ECG_adult_numpy_train/ecg_adult_433.npy',\n",
       " './ECG_adult_numpy_train/ecg_adult_434.npy',\n",
       " './ECG_adult_numpy_train/ecg_adult_435.npy',\n",
       " './ECG_adult_numpy_train/ecg_adult_436.npy',\n",
       " './ECG_adult_numpy_train/ecg_adult_437.npy',\n",
       " './ECG_adult_numpy_train/ecg_adult_438.npy',\n",
       " './ECG_adult_numpy_train/ecg_adult_439.npy',\n",
       " './ECG_adult_numpy_train/ecg_adult_440.npy',\n",
       " './ECG_adult_numpy_train/ecg_adult_441.npy',\n",
       " './ECG_adult_numpy_train/ecg_adult_442.npy',\n",
       " './ECG_adult_numpy_train/ecg_adult_443.npy',\n",
       " './ECG_adult_numpy_train/ecg_adult_444.npy',\n",
       " './ECG_adult_numpy_train/ecg_adult_445.npy',\n",
       " './ECG_adult_numpy_train/ecg_adult_446.npy',\n",
       " './ECG_adult_numpy_train/ecg_adult_447.npy',\n",
       " './ECG_adult_numpy_train/ecg_adult_448.npy',\n",
       " './ECG_adult_numpy_train/ecg_adult_449.npy',\n",
       " './ECG_adult_numpy_train/ecg_adult_450.npy',\n",
       " './ECG_adult_numpy_train/ecg_adult_451.npy',\n",
       " './ECG_adult_numpy_train/ecg_adult_452.npy',\n",
       " './ECG_adult_numpy_train/ecg_adult_454.npy',\n",
       " './ECG_adult_numpy_train/ecg_adult_455.npy',\n",
       " './ECG_adult_numpy_train/ecg_adult_456.npy',\n",
       " './ECG_adult_numpy_train/ecg_adult_457.npy',\n",
       " './ECG_adult_numpy_train/ecg_adult_458.npy',\n",
       " './ECG_adult_numpy_train/ecg_adult_459.npy',\n",
       " './ECG_adult_numpy_train/ecg_adult_460.npy',\n",
       " './ECG_adult_numpy_train/ecg_adult_461.npy',\n",
       " './ECG_adult_numpy_train/ecg_adult_462.npy',\n",
       " './ECG_adult_numpy_train/ecg_adult_463.npy',\n",
       " './ECG_adult_numpy_train/ecg_adult_464.npy',\n",
       " './ECG_adult_numpy_train/ecg_adult_465.npy',\n",
       " './ECG_adult_numpy_train/ecg_adult_466.npy',\n",
       " './ECG_adult_numpy_train/ecg_adult_467.npy',\n",
       " './ECG_adult_numpy_train/ecg_adult_468.npy',\n",
       " './ECG_adult_numpy_train/ecg_adult_469.npy',\n",
       " './ECG_adult_numpy_train/ecg_adult_470.npy',\n",
       " './ECG_adult_numpy_train/ecg_adult_471.npy',\n",
       " './ECG_adult_numpy_train/ecg_adult_472.npy',\n",
       " './ECG_adult_numpy_train/ecg_adult_473.npy',\n",
       " './ECG_adult_numpy_train/ecg_adult_474.npy',\n",
       " './ECG_adult_numpy_train/ecg_adult_475.npy',\n",
       " './ECG_adult_numpy_train/ecg_adult_476.npy',\n",
       " './ECG_adult_numpy_train/ecg_adult_477.npy',\n",
       " './ECG_adult_numpy_train/ecg_adult_478.npy',\n",
       " './ECG_adult_numpy_train/ecg_adult_479.npy',\n",
       " './ECG_adult_numpy_train/ecg_adult_480.npy',\n",
       " './ECG_adult_numpy_train/ecg_adult_481.npy',\n",
       " './ECG_adult_numpy_train/ecg_adult_482.npy',\n",
       " './ECG_adult_numpy_train/ecg_adult_483.npy',\n",
       " './ECG_adult_numpy_train/ecg_adult_484.npy',\n",
       " './ECG_adult_numpy_train/ecg_adult_485.npy',\n",
       " './ECG_adult_numpy_train/ecg_adult_486.npy',\n",
       " './ECG_adult_numpy_train/ecg_adult_487.npy',\n",
       " './ECG_adult_numpy_train/ecg_adult_488.npy',\n",
       " './ECG_adult_numpy_train/ecg_adult_489.npy',\n",
       " './ECG_adult_numpy_train/ecg_adult_490.npy',\n",
       " './ECG_adult_numpy_train/ecg_adult_491.npy',\n",
       " './ECG_adult_numpy_train/ecg_adult_492.npy',\n",
       " './ECG_adult_numpy_train/ecg_adult_493.npy',\n",
       " './ECG_adult_numpy_train/ecg_adult_494.npy',\n",
       " './ECG_adult_numpy_train/ecg_adult_495.npy',\n",
       " './ECG_adult_numpy_train/ecg_adult_496.npy',\n",
       " './ECG_adult_numpy_train/ecg_adult_497.npy',\n",
       " './ECG_adult_numpy_train/ecg_adult_498.npy',\n",
       " './ECG_adult_numpy_train/ecg_adult_499.npy',\n",
       " './ECG_adult_numpy_train/ecg_adult_500.npy',\n",
       " './ECG_adult_numpy_train/ecg_adult_501.npy',\n",
       " './ECG_adult_numpy_train/ecg_adult_502.npy',\n",
       " './ECG_adult_numpy_train/ecg_adult_503.npy',\n",
       " './ECG_adult_numpy_train/ecg_adult_504.npy',\n",
       " './ECG_adult_numpy_train/ecg_adult_505.npy',\n",
       " './ECG_adult_numpy_train/ecg_adult_506.npy',\n",
       " './ECG_adult_numpy_train/ecg_adult_507.npy',\n",
       " './ECG_adult_numpy_train/ecg_adult_508.npy',\n",
       " './ECG_adult_numpy_train/ecg_adult_509.npy',\n",
       " './ECG_adult_numpy_train/ecg_adult_510.npy',\n",
       " './ECG_adult_numpy_train/ecg_adult_511.npy',\n",
       " './ECG_adult_numpy_train/ecg_adult_512.npy',\n",
       " './ECG_adult_numpy_train/ecg_adult_513.npy',\n",
       " './ECG_adult_numpy_train/ecg_adult_514.npy',\n",
       " './ECG_adult_numpy_train/ecg_adult_515.npy',\n",
       " './ECG_adult_numpy_train/ecg_adult_516.npy',\n",
       " './ECG_adult_numpy_train/ecg_adult_517.npy',\n",
       " './ECG_adult_numpy_train/ecg_adult_518.npy',\n",
       " './ECG_adult_numpy_train/ecg_adult_519.npy',\n",
       " './ECG_adult_numpy_train/ecg_adult_520.npy',\n",
       " './ECG_adult_numpy_train/ecg_adult_521.npy',\n",
       " './ECG_adult_numpy_train/ecg_adult_522.npy',\n",
       " './ECG_adult_numpy_train/ecg_adult_523.npy',\n",
       " './ECG_adult_numpy_train/ecg_adult_524.npy',\n",
       " './ECG_adult_numpy_train/ecg_adult_525.npy',\n",
       " './ECG_adult_numpy_train/ecg_adult_526.npy',\n",
       " './ECG_adult_numpy_train/ecg_adult_527.npy',\n",
       " './ECG_adult_numpy_train/ecg_adult_528.npy',\n",
       " './ECG_adult_numpy_train/ecg_adult_529.npy',\n",
       " './ECG_adult_numpy_train/ecg_adult_530.npy',\n",
       " './ECG_adult_numpy_train/ecg_adult_531.npy',\n",
       " './ECG_adult_numpy_train/ecg_adult_532.npy',\n",
       " './ECG_adult_numpy_train/ecg_adult_533.npy',\n",
       " './ECG_adult_numpy_train/ecg_adult_535.npy',\n",
       " './ECG_adult_numpy_train/ecg_adult_536.npy',\n",
       " './ECG_adult_numpy_train/ecg_adult_537.npy',\n",
       " './ECG_adult_numpy_train/ecg_adult_538.npy',\n",
       " './ECG_adult_numpy_train/ecg_adult_539.npy',\n",
       " './ECG_adult_numpy_train/ecg_adult_540.npy',\n",
       " './ECG_adult_numpy_train/ecg_adult_541.npy',\n",
       " './ECG_adult_numpy_train/ecg_adult_542.npy',\n",
       " './ECG_adult_numpy_train/ecg_adult_543.npy',\n",
       " './ECG_adult_numpy_train/ecg_adult_544.npy',\n",
       " './ECG_adult_numpy_train/ecg_adult_545.npy',\n",
       " './ECG_adult_numpy_train/ecg_adult_546.npy',\n",
       " './ECG_adult_numpy_train/ecg_adult_547.npy',\n",
       " './ECG_adult_numpy_train/ecg_adult_548.npy',\n",
       " './ECG_adult_numpy_train/ecg_adult_549.npy',\n",
       " './ECG_adult_numpy_train/ecg_adult_550.npy',\n",
       " './ECG_adult_numpy_train/ecg_adult_551.npy',\n",
       " './ECG_adult_numpy_train/ecg_adult_552.npy',\n",
       " './ECG_adult_numpy_train/ecg_adult_553.npy',\n",
       " './ECG_adult_numpy_train/ecg_adult_554.npy',\n",
       " './ECG_adult_numpy_train/ecg_adult_555.npy',\n",
       " './ECG_adult_numpy_train/ecg_adult_556.npy',\n",
       " './ECG_adult_numpy_train/ecg_adult_557.npy',\n",
       " './ECG_adult_numpy_train/ecg_adult_558.npy',\n",
       " './ECG_adult_numpy_train/ecg_adult_559.npy',\n",
       " './ECG_adult_numpy_train/ecg_adult_560.npy',\n",
       " './ECG_adult_numpy_train/ecg_adult_561.npy',\n",
       " './ECG_adult_numpy_train/ecg_adult_562.npy',\n",
       " './ECG_adult_numpy_train/ecg_adult_563.npy',\n",
       " './ECG_adult_numpy_train/ecg_adult_564.npy',\n",
       " './ECG_adult_numpy_train/ecg_adult_565.npy',\n",
       " './ECG_adult_numpy_train/ecg_adult_566.npy',\n",
       " './ECG_adult_numpy_train/ecg_adult_567.npy',\n",
       " './ECG_adult_numpy_train/ecg_adult_568.npy',\n",
       " './ECG_adult_numpy_train/ecg_adult_569.npy',\n",
       " './ECG_adult_numpy_train/ecg_adult_570.npy',\n",
       " './ECG_adult_numpy_train/ecg_adult_571.npy',\n",
       " './ECG_adult_numpy_train/ecg_adult_572.npy',\n",
       " './ECG_adult_numpy_train/ecg_adult_573.npy',\n",
       " './ECG_adult_numpy_train/ecg_adult_574.npy',\n",
       " './ECG_adult_numpy_train/ecg_adult_575.npy',\n",
       " './ECG_adult_numpy_train/ecg_adult_576.npy',\n",
       " './ECG_adult_numpy_train/ecg_adult_577.npy',\n",
       " './ECG_adult_numpy_train/ecg_adult_578.npy',\n",
       " './ECG_adult_numpy_train/ecg_adult_579.npy',\n",
       " './ECG_adult_numpy_train/ecg_adult_580.npy',\n",
       " './ECG_adult_numpy_train/ecg_adult_581.npy',\n",
       " './ECG_adult_numpy_train/ecg_adult_582.npy',\n",
       " './ECG_adult_numpy_train/ecg_adult_583.npy',\n",
       " './ECG_adult_numpy_train/ecg_adult_584.npy',\n",
       " './ECG_adult_numpy_train/ecg_adult_585.npy',\n",
       " './ECG_adult_numpy_train/ecg_adult_586.npy',\n",
       " './ECG_adult_numpy_train/ecg_adult_587.npy',\n",
       " './ECG_adult_numpy_train/ecg_adult_588.npy',\n",
       " './ECG_adult_numpy_train/ecg_adult_589.npy',\n",
       " './ECG_adult_numpy_train/ecg_adult_590.npy',\n",
       " './ECG_adult_numpy_train/ecg_adult_591.npy',\n",
       " './ECG_adult_numpy_train/ecg_adult_592.npy',\n",
       " './ECG_adult_numpy_train/ecg_adult_593.npy',\n",
       " './ECG_adult_numpy_train/ecg_adult_594.npy',\n",
       " './ECG_adult_numpy_train/ecg_adult_595.npy',\n",
       " './ECG_adult_numpy_train/ecg_adult_596.npy',\n",
       " './ECG_adult_numpy_train/ecg_adult_597.npy',\n",
       " './ECG_adult_numpy_train/ecg_adult_598.npy',\n",
       " './ECG_adult_numpy_train/ecg_adult_599.npy',\n",
       " './ECG_adult_numpy_train/ecg_adult_600.npy',\n",
       " './ECG_adult_numpy_train/ecg_adult_601.npy',\n",
       " './ECG_adult_numpy_train/ecg_adult_602.npy',\n",
       " './ECG_adult_numpy_train/ecg_adult_603.npy',\n",
       " './ECG_adult_numpy_train/ecg_adult_604.npy',\n",
       " './ECG_adult_numpy_train/ecg_adult_605.npy',\n",
       " './ECG_adult_numpy_train/ecg_adult_606.npy',\n",
       " './ECG_adult_numpy_train/ecg_adult_607.npy',\n",
       " './ECG_adult_numpy_train/ecg_adult_608.npy',\n",
       " './ECG_adult_numpy_train/ecg_adult_609.npy',\n",
       " './ECG_adult_numpy_train/ecg_adult_610.npy',\n",
       " './ECG_adult_numpy_train/ecg_adult_611.npy',\n",
       " './ECG_adult_numpy_train/ecg_adult_612.npy',\n",
       " './ECG_adult_numpy_train/ecg_adult_613.npy',\n",
       " './ECG_adult_numpy_train/ecg_adult_614.npy',\n",
       " './ECG_adult_numpy_train/ecg_adult_615.npy',\n",
       " './ECG_adult_numpy_train/ecg_adult_616.npy',\n",
       " './ECG_adult_numpy_train/ecg_adult_617.npy',\n",
       " './ECG_adult_numpy_train/ecg_adult_618.npy',\n",
       " './ECG_adult_numpy_train/ecg_adult_619.npy',\n",
       " './ECG_adult_numpy_train/ecg_adult_620.npy',\n",
       " './ECG_adult_numpy_train/ecg_adult_621.npy',\n",
       " './ECG_adult_numpy_train/ecg_adult_622.npy',\n",
       " './ECG_adult_numpy_train/ecg_adult_623.npy',\n",
       " './ECG_adult_numpy_train/ecg_adult_624.npy',\n",
       " './ECG_adult_numpy_train/ecg_adult_625.npy',\n",
       " './ECG_adult_numpy_train/ecg_adult_626.npy',\n",
       " './ECG_adult_numpy_train/ecg_adult_627.npy',\n",
       " './ECG_adult_numpy_train/ecg_adult_628.npy',\n",
       " './ECG_adult_numpy_train/ecg_adult_629.npy',\n",
       " './ECG_adult_numpy_train/ecg_adult_630.npy',\n",
       " './ECG_adult_numpy_train/ecg_adult_631.npy',\n",
       " './ECG_adult_numpy_train/ecg_adult_632.npy',\n",
       " './ECG_adult_numpy_train/ecg_adult_633.npy',\n",
       " './ECG_adult_numpy_train/ecg_adult_634.npy',\n",
       " './ECG_adult_numpy_train/ecg_adult_635.npy',\n",
       " './ECG_adult_numpy_train/ecg_adult_636.npy',\n",
       " './ECG_adult_numpy_train/ecg_adult_637.npy',\n",
       " './ECG_adult_numpy_train/ecg_adult_638.npy',\n",
       " './ECG_adult_numpy_train/ecg_adult_639.npy',\n",
       " './ECG_adult_numpy_train/ecg_adult_640.npy',\n",
       " './ECG_adult_numpy_train/ecg_adult_641.npy',\n",
       " './ECG_adult_numpy_train/ecg_adult_642.npy',\n",
       " './ECG_adult_numpy_train/ecg_adult_644.npy',\n",
       " './ECG_adult_numpy_train/ecg_adult_645.npy',\n",
       " './ECG_adult_numpy_train/ecg_adult_646.npy',\n",
       " './ECG_adult_numpy_train/ecg_adult_647.npy',\n",
       " './ECG_adult_numpy_train/ecg_adult_648.npy',\n",
       " './ECG_adult_numpy_train/ecg_adult_649.npy',\n",
       " './ECG_adult_numpy_train/ecg_adult_650.npy',\n",
       " './ECG_adult_numpy_train/ecg_adult_651.npy',\n",
       " './ECG_adult_numpy_train/ecg_adult_652.npy',\n",
       " './ECG_adult_numpy_train/ecg_adult_653.npy',\n",
       " './ECG_adult_numpy_train/ecg_adult_654.npy',\n",
       " './ECG_adult_numpy_train/ecg_adult_655.npy',\n",
       " './ECG_adult_numpy_train/ecg_adult_656.npy',\n",
       " './ECG_adult_numpy_train/ecg_adult_657.npy',\n",
       " './ECG_adult_numpy_train/ecg_adult_658.npy',\n",
       " './ECG_adult_numpy_train/ecg_adult_659.npy',\n",
       " './ECG_adult_numpy_train/ecg_adult_660.npy',\n",
       " './ECG_adult_numpy_train/ecg_adult_661.npy',\n",
       " './ECG_adult_numpy_train/ecg_adult_662.npy',\n",
       " './ECG_adult_numpy_train/ecg_adult_663.npy',\n",
       " './ECG_adult_numpy_train/ecg_adult_664.npy',\n",
       " './ECG_adult_numpy_train/ecg_adult_665.npy',\n",
       " './ECG_adult_numpy_train/ecg_adult_666.npy',\n",
       " './ECG_adult_numpy_train/ecg_adult_667.npy',\n",
       " './ECG_adult_numpy_train/ecg_adult_668.npy',\n",
       " './ECG_adult_numpy_train/ecg_adult_669.npy',\n",
       " './ECG_adult_numpy_train/ecg_adult_670.npy',\n",
       " './ECG_adult_numpy_train/ecg_adult_671.npy',\n",
       " './ECG_adult_numpy_train/ecg_adult_672.npy',\n",
       " './ECG_adult_numpy_train/ecg_adult_673.npy',\n",
       " './ECG_adult_numpy_train/ecg_adult_674.npy',\n",
       " './ECG_adult_numpy_train/ecg_adult_675.npy',\n",
       " './ECG_adult_numpy_train/ecg_adult_676.npy',\n",
       " './ECG_adult_numpy_train/ecg_adult_677.npy',\n",
       " './ECG_adult_numpy_train/ecg_adult_678.npy',\n",
       " './ECG_adult_numpy_train/ecg_adult_679.npy',\n",
       " './ECG_adult_numpy_train/ecg_adult_680.npy',\n",
       " './ECG_adult_numpy_train/ecg_adult_681.npy',\n",
       " './ECG_adult_numpy_train/ecg_adult_682.npy',\n",
       " './ECG_adult_numpy_train/ecg_adult_683.npy',\n",
       " './ECG_adult_numpy_train/ecg_adult_684.npy',\n",
       " './ECG_adult_numpy_train/ecg_adult_685.npy',\n",
       " './ECG_adult_numpy_train/ecg_adult_686.npy',\n",
       " './ECG_adult_numpy_train/ecg_adult_687.npy',\n",
       " './ECG_adult_numpy_train/ecg_adult_688.npy',\n",
       " './ECG_adult_numpy_train/ecg_adult_689.npy',\n",
       " './ECG_adult_numpy_train/ecg_adult_690.npy',\n",
       " './ECG_adult_numpy_train/ecg_adult_691.npy',\n",
       " './ECG_adult_numpy_train/ecg_adult_692.npy',\n",
       " './ECG_adult_numpy_train/ecg_adult_693.npy',\n",
       " './ECG_adult_numpy_train/ecg_adult_694.npy',\n",
       " './ECG_adult_numpy_train/ecg_adult_695.npy',\n",
       " './ECG_adult_numpy_train/ecg_adult_696.npy',\n",
       " './ECG_adult_numpy_train/ecg_adult_697.npy',\n",
       " './ECG_adult_numpy_train/ecg_adult_698.npy',\n",
       " './ECG_adult_numpy_train/ecg_adult_699.npy',\n",
       " './ECG_adult_numpy_train/ecg_adult_700.npy',\n",
       " './ECG_adult_numpy_train/ecg_adult_701.npy',\n",
       " './ECG_adult_numpy_train/ecg_adult_702.npy',\n",
       " './ECG_adult_numpy_train/ecg_adult_703.npy',\n",
       " './ECG_adult_numpy_train/ecg_adult_704.npy',\n",
       " './ECG_adult_numpy_train/ecg_adult_705.npy',\n",
       " './ECG_adult_numpy_train/ecg_adult_706.npy',\n",
       " './ECG_adult_numpy_train/ecg_adult_707.npy',\n",
       " './ECG_adult_numpy_train/ecg_adult_708.npy',\n",
       " './ECG_adult_numpy_train/ecg_adult_709.npy',\n",
       " './ECG_adult_numpy_train/ecg_adult_710.npy',\n",
       " './ECG_adult_numpy_train/ecg_adult_711.npy',\n",
       " './ECG_adult_numpy_train/ecg_adult_712.npy',\n",
       " './ECG_adult_numpy_train/ecg_adult_713.npy',\n",
       " './ECG_adult_numpy_train/ecg_adult_714.npy',\n",
       " './ECG_adult_numpy_train/ecg_adult_715.npy',\n",
       " './ECG_adult_numpy_train/ecg_adult_716.npy',\n",
       " './ECG_adult_numpy_train/ecg_adult_717.npy',\n",
       " './ECG_adult_numpy_train/ecg_adult_718.npy',\n",
       " './ECG_adult_numpy_train/ecg_adult_719.npy',\n",
       " './ECG_adult_numpy_train/ecg_adult_720.npy',\n",
       " './ECG_adult_numpy_train/ecg_adult_721.npy',\n",
       " './ECG_adult_numpy_train/ecg_adult_722.npy',\n",
       " './ECG_adult_numpy_train/ecg_adult_723.npy',\n",
       " './ECG_adult_numpy_train/ecg_adult_724.npy',\n",
       " './ECG_adult_numpy_train/ecg_adult_725.npy',\n",
       " './ECG_adult_numpy_train/ecg_adult_726.npy',\n",
       " './ECG_adult_numpy_train/ecg_adult_727.npy',\n",
       " './ECG_adult_numpy_train/ecg_adult_728.npy',\n",
       " './ECG_adult_numpy_train/ecg_adult_729.npy',\n",
       " './ECG_adult_numpy_train/ecg_adult_730.npy',\n",
       " './ECG_adult_numpy_train/ecg_adult_731.npy',\n",
       " './ECG_adult_numpy_train/ecg_adult_732.npy',\n",
       " './ECG_adult_numpy_train/ecg_adult_733.npy',\n",
       " './ECG_adult_numpy_train/ecg_adult_734.npy',\n",
       " './ECG_adult_numpy_train/ecg_adult_735.npy',\n",
       " './ECG_adult_numpy_train/ecg_adult_736.npy',\n",
       " './ECG_adult_numpy_train/ecg_adult_737.npy',\n",
       " './ECG_adult_numpy_train/ecg_adult_738.npy',\n",
       " './ECG_adult_numpy_train/ecg_adult_739.npy',\n",
       " './ECG_adult_numpy_train/ecg_adult_740.npy',\n",
       " './ECG_adult_numpy_train/ecg_adult_741.npy',\n",
       " './ECG_adult_numpy_train/ecg_adult_742.npy',\n",
       " './ECG_adult_numpy_train/ecg_adult_743.npy',\n",
       " './ECG_adult_numpy_train/ecg_adult_744.npy',\n",
       " './ECG_adult_numpy_train/ecg_adult_745.npy',\n",
       " './ECG_adult_numpy_train/ecg_adult_746.npy',\n",
       " './ECG_adult_numpy_train/ecg_adult_747.npy',\n",
       " './ECG_adult_numpy_train/ecg_adult_748.npy',\n",
       " './ECG_adult_numpy_train/ecg_adult_749.npy',\n",
       " './ECG_adult_numpy_train/ecg_adult_750.npy',\n",
       " './ECG_adult_numpy_train/ecg_adult_751.npy',\n",
       " './ECG_adult_numpy_train/ecg_adult_752.npy',\n",
       " './ECG_adult_numpy_train/ecg_adult_753.npy',\n",
       " './ECG_adult_numpy_train/ecg_adult_754.npy',\n",
       " './ECG_adult_numpy_train/ecg_adult_755.npy',\n",
       " './ECG_adult_numpy_train/ecg_adult_756.npy',\n",
       " './ECG_adult_numpy_train/ecg_adult_757.npy',\n",
       " './ECG_adult_numpy_train/ecg_adult_758.npy',\n",
       " './ECG_adult_numpy_train/ecg_adult_759.npy',\n",
       " './ECG_adult_numpy_train/ecg_adult_760.npy',\n",
       " './ECG_adult_numpy_train/ecg_adult_761.npy',\n",
       " './ECG_adult_numpy_train/ecg_adult_762.npy',\n",
       " './ECG_adult_numpy_train/ecg_adult_763.npy',\n",
       " './ECG_adult_numpy_train/ecg_adult_764.npy',\n",
       " './ECG_adult_numpy_train/ecg_adult_766.npy',\n",
       " './ECG_adult_numpy_train/ecg_adult_767.npy',\n",
       " './ECG_adult_numpy_train/ecg_adult_768.npy',\n",
       " './ECG_adult_numpy_train/ecg_adult_769.npy',\n",
       " './ECG_adult_numpy_train/ecg_adult_770.npy',\n",
       " './ECG_adult_numpy_train/ecg_adult_771.npy',\n",
       " './ECG_adult_numpy_train/ecg_adult_772.npy',\n",
       " './ECG_adult_numpy_train/ecg_adult_773.npy',\n",
       " './ECG_adult_numpy_train/ecg_adult_774.npy',\n",
       " './ECG_adult_numpy_train/ecg_adult_775.npy',\n",
       " './ECG_adult_numpy_train/ecg_adult_776.npy',\n",
       " './ECG_adult_numpy_train/ecg_adult_777.npy',\n",
       " './ECG_adult_numpy_train/ecg_adult_778.npy',\n",
       " './ECG_adult_numpy_train/ecg_adult_779.npy',\n",
       " './ECG_adult_numpy_train/ecg_adult_780.npy',\n",
       " './ECG_adult_numpy_train/ecg_adult_781.npy',\n",
       " './ECG_adult_numpy_train/ecg_adult_782.npy',\n",
       " './ECG_adult_numpy_train/ecg_adult_783.npy',\n",
       " './ECG_adult_numpy_train/ecg_adult_784.npy',\n",
       " './ECG_adult_numpy_train/ecg_adult_785.npy',\n",
       " './ECG_adult_numpy_train/ecg_adult_786.npy',\n",
       " './ECG_adult_numpy_train/ecg_adult_787.npy',\n",
       " './ECG_adult_numpy_train/ecg_adult_788.npy',\n",
       " './ECG_adult_numpy_train/ecg_adult_789.npy',\n",
       " './ECG_adult_numpy_train/ecg_adult_790.npy',\n",
       " './ECG_adult_numpy_train/ecg_adult_791.npy',\n",
       " './ECG_adult_numpy_train/ecg_adult_792.npy',\n",
       " './ECG_adult_numpy_train/ecg_adult_793.npy',\n",
       " './ECG_adult_numpy_train/ecg_adult_794.npy',\n",
       " './ECG_adult_numpy_train/ecg_adult_795.npy',\n",
       " './ECG_adult_numpy_train/ecg_adult_796.npy',\n",
       " './ECG_adult_numpy_train/ecg_adult_797.npy',\n",
       " './ECG_adult_numpy_train/ecg_adult_798.npy',\n",
       " './ECG_adult_numpy_train/ecg_adult_799.npy',\n",
       " './ECG_adult_numpy_train/ecg_adult_800.npy',\n",
       " './ECG_adult_numpy_train/ecg_adult_801.npy',\n",
       " './ECG_adult_numpy_train/ecg_adult_802.npy',\n",
       " './ECG_adult_numpy_train/ecg_adult_803.npy',\n",
       " './ECG_adult_numpy_train/ecg_adult_804.npy',\n",
       " './ECG_adult_numpy_train/ecg_adult_805.npy',\n",
       " './ECG_adult_numpy_train/ecg_adult_806.npy',\n",
       " './ECG_adult_numpy_train/ecg_adult_807.npy',\n",
       " './ECG_adult_numpy_train/ecg_adult_808.npy',\n",
       " './ECG_adult_numpy_train/ecg_adult_809.npy',\n",
       " './ECG_adult_numpy_train/ecg_adult_810.npy',\n",
       " './ECG_adult_numpy_train/ecg_adult_811.npy',\n",
       " './ECG_adult_numpy_train/ecg_adult_812.npy',\n",
       " './ECG_adult_numpy_train/ecg_adult_813.npy',\n",
       " './ECG_adult_numpy_train/ecg_adult_814.npy',\n",
       " './ECG_adult_numpy_train/ecg_adult_815.npy',\n",
       " './ECG_adult_numpy_train/ecg_adult_816.npy',\n",
       " './ECG_adult_numpy_train/ecg_adult_817.npy',\n",
       " './ECG_adult_numpy_train/ecg_adult_818.npy',\n",
       " './ECG_adult_numpy_train/ecg_adult_819.npy',\n",
       " './ECG_adult_numpy_train/ecg_adult_820.npy',\n",
       " './ECG_adult_numpy_train/ecg_adult_821.npy',\n",
       " './ECG_adult_numpy_train/ecg_adult_822.npy',\n",
       " './ECG_adult_numpy_train/ecg_adult_823.npy',\n",
       " './ECG_adult_numpy_train/ecg_adult_824.npy',\n",
       " './ECG_adult_numpy_train/ecg_adult_825.npy',\n",
       " './ECG_adult_numpy_train/ecg_adult_826.npy',\n",
       " './ECG_adult_numpy_train/ecg_adult_827.npy',\n",
       " './ECG_adult_numpy_train/ecg_adult_828.npy',\n",
       " './ECG_adult_numpy_train/ecg_adult_829.npy',\n",
       " './ECG_adult_numpy_train/ecg_adult_830.npy',\n",
       " './ECG_adult_numpy_train/ecg_adult_831.npy',\n",
       " './ECG_adult_numpy_train/ecg_adult_832.npy',\n",
       " './ECG_adult_numpy_train/ecg_adult_833.npy',\n",
       " './ECG_adult_numpy_train/ecg_adult_834.npy',\n",
       " './ECG_adult_numpy_train/ecg_adult_835.npy',\n",
       " './ECG_adult_numpy_train/ecg_adult_836.npy',\n",
       " './ECG_adult_numpy_train/ecg_adult_837.npy',\n",
       " './ECG_adult_numpy_train/ecg_adult_838.npy',\n",
       " './ECG_adult_numpy_train/ecg_adult_839.npy',\n",
       " './ECG_adult_numpy_train/ecg_adult_840.npy',\n",
       " './ECG_adult_numpy_train/ecg_adult_841.npy',\n",
       " './ECG_adult_numpy_train/ecg_adult_842.npy',\n",
       " './ECG_adult_numpy_train/ecg_adult_843.npy',\n",
       " './ECG_adult_numpy_train/ecg_adult_844.npy',\n",
       " './ECG_adult_numpy_train/ecg_adult_845.npy',\n",
       " './ECG_adult_numpy_train/ecg_adult_846.npy',\n",
       " './ECG_adult_numpy_train/ecg_adult_847.npy',\n",
       " './ECG_adult_numpy_train/ecg_adult_848.npy',\n",
       " './ECG_adult_numpy_train/ecg_adult_849.npy',\n",
       " './ECG_adult_numpy_train/ecg_adult_850.npy',\n",
       " './ECG_adult_numpy_train/ecg_adult_851.npy',\n",
       " './ECG_adult_numpy_train/ecg_adult_852.npy',\n",
       " './ECG_adult_numpy_train/ecg_adult_853.npy',\n",
       " './ECG_adult_numpy_train/ecg_adult_854.npy',\n",
       " './ECG_adult_numpy_train/ecg_adult_855.npy',\n",
       " './ECG_adult_numpy_train/ecg_adult_856.npy',\n",
       " './ECG_adult_numpy_train/ecg_adult_857.npy',\n",
       " './ECG_adult_numpy_train/ecg_adult_858.npy',\n",
       " './ECG_adult_numpy_train/ecg_adult_859.npy',\n",
       " './ECG_adult_numpy_train/ecg_adult_860.npy',\n",
       " './ECG_adult_numpy_train/ecg_adult_861.npy',\n",
       " './ECG_adult_numpy_train/ecg_adult_862.npy',\n",
       " './ECG_adult_numpy_train/ecg_adult_863.npy',\n",
       " './ECG_adult_numpy_train/ecg_adult_864.npy',\n",
       " './ECG_adult_numpy_train/ecg_adult_865.npy',\n",
       " './ECG_adult_numpy_train/ecg_adult_866.npy',\n",
       " './ECG_adult_numpy_train/ecg_adult_867.npy',\n",
       " './ECG_adult_numpy_train/ecg_adult_868.npy',\n",
       " './ECG_adult_numpy_train/ecg_adult_869.npy',\n",
       " './ECG_adult_numpy_train/ecg_adult_870.npy',\n",
       " './ECG_adult_numpy_train/ecg_adult_871.npy',\n",
       " './ECG_adult_numpy_train/ecg_adult_872.npy',\n",
       " './ECG_adult_numpy_train/ecg_adult_873.npy',\n",
       " './ECG_adult_numpy_train/ecg_adult_874.npy',\n",
       " './ECG_adult_numpy_train/ecg_adult_875.npy',\n",
       " './ECG_adult_numpy_train/ecg_adult_876.npy',\n",
       " './ECG_adult_numpy_train/ecg_adult_877.npy',\n",
       " './ECG_adult_numpy_train/ecg_adult_878.npy',\n",
       " './ECG_adult_numpy_train/ecg_adult_879.npy',\n",
       " './ECG_adult_numpy_train/ecg_adult_880.npy',\n",
       " './ECG_adult_numpy_train/ecg_adult_881.npy',\n",
       " './ECG_adult_numpy_train/ecg_adult_882.npy',\n",
       " './ECG_adult_numpy_train/ecg_adult_883.npy',\n",
       " './ECG_adult_numpy_train/ecg_adult_884.npy',\n",
       " './ECG_adult_numpy_train/ecg_adult_885.npy',\n",
       " './ECG_adult_numpy_train/ecg_adult_886.npy',\n",
       " './ECG_adult_numpy_train/ecg_adult_887.npy',\n",
       " './ECG_adult_numpy_train/ecg_adult_888.npy',\n",
       " './ECG_adult_numpy_train/ecg_adult_889.npy',\n",
       " './ECG_adult_numpy_train/ecg_adult_890.npy',\n",
       " './ECG_adult_numpy_train/ecg_adult_891.npy',\n",
       " './ECG_adult_numpy_train/ecg_adult_892.npy',\n",
       " './ECG_adult_numpy_train/ecg_adult_893.npy',\n",
       " './ECG_adult_numpy_train/ecg_adult_894.npy',\n",
       " './ECG_adult_numpy_train/ecg_adult_895.npy',\n",
       " './ECG_adult_numpy_train/ecg_adult_896.npy',\n",
       " './ECG_adult_numpy_train/ecg_adult_897.npy',\n",
       " './ECG_adult_numpy_train/ecg_adult_898.npy',\n",
       " './ECG_adult_numpy_train/ecg_adult_899.npy',\n",
       " './ECG_adult_numpy_train/ecg_adult_900.npy',\n",
       " './ECG_adult_numpy_train/ecg_adult_901.npy',\n",
       " './ECG_adult_numpy_train/ecg_adult_902.npy',\n",
       " './ECG_adult_numpy_train/ecg_adult_903.npy',\n",
       " './ECG_adult_numpy_train/ecg_adult_904.npy',\n",
       " './ECG_adult_numpy_train/ecg_adult_905.npy',\n",
       " './ECG_adult_numpy_train/ecg_adult_906.npy',\n",
       " './ECG_adult_numpy_train/ecg_adult_907.npy',\n",
       " './ECG_adult_numpy_train/ecg_adult_908.npy',\n",
       " './ECG_adult_numpy_train/ecg_adult_909.npy',\n",
       " './ECG_adult_numpy_train/ecg_adult_910.npy',\n",
       " './ECG_adult_numpy_train/ecg_adult_911.npy',\n",
       " './ECG_adult_numpy_train/ecg_adult_912.npy',\n",
       " './ECG_adult_numpy_train/ecg_adult_913.npy',\n",
       " './ECG_adult_numpy_train/ecg_adult_914.npy',\n",
       " './ECG_adult_numpy_train/ecg_adult_915.npy',\n",
       " './ECG_adult_numpy_train/ecg_adult_916.npy',\n",
       " './ECG_adult_numpy_train/ecg_adult_917.npy',\n",
       " './ECG_adult_numpy_train/ecg_adult_918.npy',\n",
       " './ECG_adult_numpy_train/ecg_adult_919.npy',\n",
       " './ECG_adult_numpy_train/ecg_adult_920.npy',\n",
       " './ECG_adult_numpy_train/ecg_adult_921.npy',\n",
       " './ECG_adult_numpy_train/ecg_adult_922.npy',\n",
       " './ECG_adult_numpy_train/ecg_adult_923.npy',\n",
       " './ECG_adult_numpy_train/ecg_adult_924.npy',\n",
       " './ECG_adult_numpy_train/ecg_adult_925.npy',\n",
       " './ECG_adult_numpy_train/ecg_adult_926.npy',\n",
       " './ECG_adult_numpy_train/ecg_adult_927.npy',\n",
       " './ECG_adult_numpy_train/ecg_adult_928.npy',\n",
       " './ECG_adult_numpy_train/ecg_adult_929.npy',\n",
       " './ECG_adult_numpy_train/ecg_adult_930.npy',\n",
       " './ECG_adult_numpy_train/ecg_adult_931.npy',\n",
       " './ECG_adult_numpy_train/ecg_adult_932.npy',\n",
       " './ECG_adult_numpy_train/ecg_adult_933.npy',\n",
       " './ECG_adult_numpy_train/ecg_adult_934.npy',\n",
       " './ECG_adult_numpy_train/ecg_adult_935.npy',\n",
       " './ECG_adult_numpy_train/ecg_adult_936.npy',\n",
       " './ECG_adult_numpy_train/ecg_adult_937.npy',\n",
       " './ECG_adult_numpy_train/ecg_adult_938.npy',\n",
       " './ECG_adult_numpy_train/ecg_adult_939.npy',\n",
       " './ECG_adult_numpy_train/ecg_adult_940.npy',\n",
       " './ECG_adult_numpy_train/ecg_adult_941.npy',\n",
       " './ECG_adult_numpy_train/ecg_adult_942.npy',\n",
       " './ECG_adult_numpy_train/ecg_adult_943.npy',\n",
       " './ECG_adult_numpy_train/ecg_adult_944.npy',\n",
       " './ECG_adult_numpy_train/ecg_adult_945.npy',\n",
       " './ECG_adult_numpy_train/ecg_adult_946.npy',\n",
       " './ECG_adult_numpy_train/ecg_adult_947.npy',\n",
       " './ECG_adult_numpy_train/ecg_adult_948.npy',\n",
       " './ECG_adult_numpy_train/ecg_adult_949.npy',\n",
       " './ECG_adult_numpy_train/ecg_adult_950.npy',\n",
       " './ECG_adult_numpy_train/ecg_adult_951.npy',\n",
       " './ECG_adult_numpy_train/ecg_adult_952.npy',\n",
       " './ECG_adult_numpy_train/ecg_adult_953.npy',\n",
       " './ECG_adult_numpy_train/ecg_adult_954.npy',\n",
       " './ECG_adult_numpy_train/ecg_adult_955.npy',\n",
       " './ECG_adult_numpy_train/ecg_adult_956.npy',\n",
       " './ECG_adult_numpy_train/ecg_adult_957.npy',\n",
       " './ECG_adult_numpy_train/ecg_adult_958.npy',\n",
       " './ECG_adult_numpy_train/ecg_adult_959.npy',\n",
       " './ECG_adult_numpy_train/ecg_adult_960.npy',\n",
       " './ECG_adult_numpy_train/ecg_adult_961.npy',\n",
       " './ECG_adult_numpy_train/ecg_adult_962.npy',\n",
       " './ECG_adult_numpy_train/ecg_adult_963.npy',\n",
       " './ECG_adult_numpy_train/ecg_adult_964.npy',\n",
       " './ECG_adult_numpy_train/ecg_adult_965.npy',\n",
       " './ECG_adult_numpy_train/ecg_adult_966.npy',\n",
       " './ECG_adult_numpy_train/ecg_adult_967.npy',\n",
       " './ECG_adult_numpy_train/ecg_adult_968.npy',\n",
       " './ECG_adult_numpy_train/ecg_adult_969.npy',\n",
       " './ECG_adult_numpy_train/ecg_adult_970.npy',\n",
       " './ECG_adult_numpy_train/ecg_adult_971.npy',\n",
       " './ECG_adult_numpy_train/ecg_adult_972.npy',\n",
       " './ECG_adult_numpy_train/ecg_adult_973.npy',\n",
       " './ECG_adult_numpy_train/ecg_adult_974.npy',\n",
       " './ECG_adult_numpy_train/ecg_adult_975.npy',\n",
       " './ECG_adult_numpy_train/ecg_adult_976.npy',\n",
       " './ECG_adult_numpy_train/ecg_adult_977.npy',\n",
       " './ECG_adult_numpy_train/ecg_adult_978.npy',\n",
       " './ECG_adult_numpy_train/ecg_adult_979.npy',\n",
       " './ECG_adult_numpy_train/ecg_adult_980.npy',\n",
       " './ECG_adult_numpy_train/ecg_adult_981.npy',\n",
       " './ECG_adult_numpy_train/ecg_adult_982.npy',\n",
       " './ECG_adult_numpy_train/ecg_adult_983.npy',\n",
       " './ECG_adult_numpy_train/ecg_adult_984.npy',\n",
       " './ECG_adult_numpy_train/ecg_adult_985.npy',\n",
       " './ECG_adult_numpy_train/ecg_adult_986.npy',\n",
       " './ECG_adult_numpy_train/ecg_adult_987.npy',\n",
       " './ECG_adult_numpy_train/ecg_adult_988.npy',\n",
       " './ECG_adult_numpy_train/ecg_adult_989.npy',\n",
       " './ECG_adult_numpy_train/ecg_adult_990.npy',\n",
       " './ECG_adult_numpy_train/ecg_adult_991.npy',\n",
       " './ECG_adult_numpy_train/ecg_adult_992.npy',\n",
       " './ECG_adult_numpy_train/ecg_adult_993.npy',\n",
       " './ECG_adult_numpy_train/ecg_adult_994.npy',\n",
       " './ECG_adult_numpy_train/ecg_adult_995.npy',\n",
       " './ECG_adult_numpy_train/ecg_adult_996.npy',\n",
       " './ECG_adult_numpy_train/ecg_adult_997.npy',\n",
       " './ECG_adult_numpy_train/ecg_adult_998.npy',\n",
       " './ECG_adult_numpy_train/ecg_adult_999.npy',\n",
       " './ECG_adult_numpy_train/ecg_adult_1000.npy',\n",
       " './ECG_adult_numpy_train/ecg_adult_1001.npy',\n",
       " './ECG_adult_numpy_train/ecg_adult_1002.npy',\n",
       " './ECG_adult_numpy_train/ecg_adult_1003.npy',\n",
       " './ECG_adult_numpy_train/ecg_adult_1004.npy',\n",
       " './ECG_adult_numpy_train/ecg_adult_1005.npy',\n",
       " './ECG_adult_numpy_train/ecg_adult_1006.npy',\n",
       " './ECG_adult_numpy_train/ecg_adult_1007.npy',\n",
       " ...]"
      ]
     },
     "execution_count": 9,
     "metadata": {},
     "output_type": "execute_result"
    }
   ],
   "source": [
    "train_adult_path = [f'./ECG_adult_numpy_train/{name}.npy' for name in train_adult_csv['FILENAME']]\n",
    "train_child_path = [f'./ECG_child_numpy_train/{name}.npy' for name in train_child_csv['FILENAME']]\n",
    "train_adult_path"
   ]
  },
  {
   "cell_type": "code",
   "execution_count": 10,
   "id": "57663708-0b21-47ec-992c-bef96d1998f3",
   "metadata": {},
   "outputs": [
    {
     "data": {
      "application/vnd.jupyter.widget-view+json": {
       "model_id": "d9f805a9f4b94b208ed7fa774b80ed5c",
       "version_major": 2,
       "version_minor": 0
      },
      "text/plain": [
       "0it [00:00, ?it/s]"
      ]
     },
     "metadata": {},
     "output_type": "display_data"
    },
    {
     "data": {
      "text/plain": [
       "(34907, 5000, 12)"
      ]
     },
     "execution_count": 10,
     "metadata": {},
     "output_type": "execute_result"
    }
   ],
   "source": [
    "adult_np = []\n",
    "adult_sex = []\n",
    "\n",
    "for i, path in tqdm(enumerate(train_adult_path)):\n",
    "    adult_np_tmp = np.load(path).reshape(5000,-1)\n",
    "    adult_sex_tmp = int(train_adult_csv['GENDER'][i])\n",
    "    adult_np.append(adult_np_tmp)\n",
    "    adult_sex.append(adult_sex_tmp)\n",
    "    \n",
    "adult_np = np.array(adult_np)\n",
    "adult_sex = np.array(adult_sex)\n",
    "adult_np.shape"
   ]
  },
  {
   "cell_type": "code",
   "execution_count": 11,
   "id": "a3ddf8f9-b78a-4192-aad4-3062b39c1f66",
   "metadata": {},
   "outputs": [
    {
     "data": {
      "application/vnd.jupyter.widget-view+json": {
       "model_id": "5bdcc7f525354312aeee053167ad531d",
       "version_major": 2,
       "version_minor": 0
      },
      "text/plain": [
       "0it [00:00, ?it/s]"
      ]
     },
     "metadata": {},
     "output_type": "display_data"
    },
    {
     "data": {
      "text/plain": [
       "(8781, 5000, 12)"
      ]
     },
     "execution_count": 11,
     "metadata": {},
     "output_type": "execute_result"
    }
   ],
   "source": [
    "child_np = []\n",
    "child_sex = []\n",
    "\n",
    "for i,path in tqdm(enumerate(train_child_path)):\n",
    "    child_np_tmp = np.load(path).reshape(5000,-1)\n",
    "    child_sex_tmp = train_child_csv['GENDER'][i]\n",
    "    child_np.append(child_np_tmp)\n",
    "    child_sex.append(child_sex_tmp)\n",
    "    \n",
    "child_np = np.array(child_np)\n",
    "child_sex = np.array(child_sex)\n",
    "\n",
    "child_np.shape"
   ]
  },
  {
   "cell_type": "code",
   "execution_count": 12,
   "id": "f3ee3bc3-b774-41b7-a749-024f4c1e08a2",
   "metadata": {},
   "outputs": [
    {
     "data": {
      "text/plain": [
       "450"
      ]
     },
     "execution_count": 12,
     "metadata": {},
     "output_type": "execute_result"
    }
   ],
   "source": [
    "gc.collect()"
   ]
  },
  {
   "cell_type": "code",
   "execution_count": 13,
   "id": "ba5e22d5-124e-4b7b-89ae-9b876b2950be",
   "metadata": {},
   "outputs": [],
   "source": [
    "class MyDataset(Dataset):\n",
    "    def __init__(self, origin_x, origin_y, sex):\n",
    "        self.data = origin_x\n",
    "        self.target = origin_y\n",
    "        self.sex = sex\n",
    "    def __getitem__(self, index):\n",
    "        self.x = self.data[index]\n",
    "        self.y = self.target[index]\n",
    "        return self.x, self.y, self.sex[index]\n",
    "\n",
    "    def __len__(self):\n",
    "        return len(self.data)\n",
    "\n",
    "#Pytorch를 사용하기 위해 custom dataset 구성해줌"
   ]
  },
  {
   "cell_type": "code",
   "execution_count": 14,
   "id": "91c1341a-fc13-4571-b191-e769022d3d28",
   "metadata": {},
   "outputs": [],
   "source": [
    "class TestDataset(Dataset):\n",
    "    def __init__(self, origin_x, sex):\n",
    "        self.data = origin_x\n",
    "        self.sex = sex\n",
    "    def __getitem__(self, index):\n",
    "        self.x = self.data[index]\n",
    "        return self.x, self.sex[index]\n",
    "    def __len__(self):\n",
    "        return len(self.data)\n"
   ]
  },
  {
   "cell_type": "code",
   "execution_count": 15,
   "id": "69f82732-aa6c-411c-9d9e-903e98057da2",
   "metadata": {},
   "outputs": [],
   "source": [
    "#Reference : https://doheon.github.io/%EC%BD%94%EB%93%9C%EA%B5%AC%ED%98%84/time-series/ci-3.lstm-post/\n",
    "class Model(nn.Module):\n",
    "    def __init__(self, input_size):\n",
    "        super(Model, self).__init__()\n",
    "        self.input_size = input_size\n",
    "        print\n",
    "        self.conv1 = self.return_conv(self.input_size, 16)\n",
    "        self.conv2 = self.return_conv(16, 32)\n",
    "        self.conv3 = self.return_conv(32, 64)\n",
    "        self.conv4 = self.return_conv(64, 128)\n",
    "        self.gap = nn.AdaptiveAvgPool1d(1)\n",
    "        self.output = nn.Sequential(\n",
    "            nn.Dropout(0.3),\n",
    "            nn.Linear(128+1,1)\n",
    "        )\n",
    "            \n",
    "        \n",
    "        self.init_weight()\n",
    "        \n",
    "    def forward(self, x, sex):\n",
    "        x = x.transpose(1,2)\n",
    "        x = self.conv1(x)\n",
    "        x = self.conv2(x)\n",
    "        x = self.conv3(x)\n",
    "        x = self.conv4(x)\n",
    "        x = self.gap(x)\n",
    "        x = x.transpose(1,2)\n",
    "        x = x.squeeze(1)\n",
    "        x = self.output(torch.cat((x, sex.reshape(-1,1)), dim=1))\n",
    "        return x\n",
    "    \n",
    "    def init_weight(self):\n",
    "        for m in self.modules():\n",
    "            if isinstance(m, nn.Linear):\n",
    "                nn.init.kaiming_normal_(m.weight)\n",
    "                nn.init.zeros_(m.bias)\n",
    "            elif isinstance(m, nn.GroupNorm):\n",
    "                nn.init.constant(m.weight, 1)\n",
    "                nn.init.constant(m.bias, 0)\n",
    "            elif isinstance(m, nn.Conv1d):\n",
    "                nn.init.kaiming_normal_(m.weight)\n",
    "                nn.init.zeros_(m.bias)\n",
    "                \n",
    "    def return_conv(self, input_s, output_s):\n",
    "        layer = nn.Sequential(\n",
    "            nn.Conv1d(in_channels =  input_s, out_channels = output_s, kernel_size = 3, padding='same'),\n",
    "            nn.ReLU(),\n",
    "            nn.GroupNorm(1,output_s),\n",
    "            nn.Conv1d(in_channels =  output_s, out_channels = output_s, kernel_size = 3, padding='same'),\n",
    "            nn.ReLU(),\n",
    "            nn.GroupNorm(1,output_s),\n",
    "            nn.Conv1d(in_channels =  output_s, out_channels = output_s, kernel_size = 3, padding='same'),\n",
    "            nn.ReLU(),\n",
    "            nn.GroupNorm(1,output_s),\n",
    "            nn.AvgPool1d(2)\n",
    "        )\n",
    "        return layer\n",
    "            "
   ]
  },
  {
   "cell_type": "code",
   "execution_count": 16,
   "id": "e684754e-6632-4d3b-8f19-5e86611b49c2",
   "metadata": {},
   "outputs": [],
   "source": [
    "class Trainer():\n",
    "    def __init__(self, model, optimizer, train_loader, val_loader, scheduler, device, fold, name):\n",
    "        self.model = model\n",
    "        self.optimizer = optimizer\n",
    "        self.train_loader = train_loader\n",
    "        self.val_loader = val_loader\n",
    "        self.scheduler = scheduler\n",
    "        self.device = device\n",
    "        self.fold = fold\n",
    "        self.name = name\n",
    "        # Loss Function\n",
    "        self.criterion = nn.L1Loss().to(device)\n",
    "        \n",
    "    def fit(self, ):\n",
    "        best_loss = 1000000000\n",
    "        best_error =100000000\n",
    "        #가장 적은 loss값 기록\n",
    "        for epoch in range(EPOCHS):\n",
    "            self.model.train()\n",
    "            train_loss = []\n",
    "            i = 1\n",
    "            for x,y,sex in tqdm(iter(self.train_loader)):\n",
    "                x = x.float().to(self.device)\n",
    "                #y = (y.float()+torch.randn_like(y.float())).to(self.device)\n",
    "                y = y.float().to(self.device)\n",
    "                sex = sex.float().to(self.device)\n",
    "                self.optimizer.zero_grad()\n",
    "                pred = self.model(x, sex).squeeze(1)\n",
    "                loss = self.criterion(pred, y)\n",
    "                loss.backward()\n",
    "                self.optimizer.step()\n",
    "                train_loss.append(loss.item())\n",
    "                i=i+1\n",
    "                #train\n",
    "                \n",
    "            mean_train_loss = np.mean(train_loss)\n",
    "            \n",
    "            val_loss, true, pred = self.validation(self.model)\n",
    "            #validation 수행\n",
    "            val_error = mean_absolute_error(true, pred)\n",
    "\n",
    "            print(f'Epoch : [{epoch+1}] Train loss : [{mean_train_loss}]\\nVal Loss : [{val_loss}]\\nVal L1 : [{val_error}]')\n",
    "            \n",
    "            self.scheduler.step(val_loss)\n",
    "            #Scheduler 사용\n",
    "            \n",
    "            if best_loss > val_loss:\n",
    "                best_loss = val_loss\n",
    "                best_error = val_error\n",
    "                torch.save(self.model, f'./model/{MODEL_NAME}_{self.name}_{self.fold}.pth')\n",
    "                print(f\"Save Model~_~ MODEL_NAME : {MODEL_NAME}_{self.name}_{self.fold}.pth\")\n",
    "            \n",
    "        print(f'Final Best error : [{best_error}]')\n",
    "        print(f'Final Best loss : [{best_loss}]')\n",
    "\n",
    "    def validation(self, eval_model):\n",
    "        eval_model.eval()\n",
    "        val_loss = []\n",
    "        pred = []\n",
    "        true = []\n",
    "        with torch.no_grad():\n",
    "            for x,y, sex in iter(self.val_loader):\n",
    "                pred_tmp = []\n",
    "                x = x.float().to(self.device)\n",
    "                y = y.float().to(self.device)\n",
    "                sex = sex.float().to(self.device)\n",
    "                batch_pred = eval_model(x, sex).squeeze(1)\n",
    "                loss = self.criterion(batch_pred, y)\n",
    "                val_loss.append(loss.item())\n",
    "                true += y.cpu().detach().tolist()\n",
    "                \n",
    "                pred += batch_pred.cpu().detach().tolist()\n",
    "        return np.mean(val_loss), true, pred\n",
    "    \n",
    "    "
   ]
  },
  {
   "cell_type": "code",
   "execution_count": 17,
   "id": "b75b6da5-d988-4d63-a640-106d1c44a291",
   "metadata": {},
   "outputs": [
    {
     "name": "stdout",
     "output_type": "stream",
     "text": [
      "(31416, 5000, 12)\n",
      "(3491, 5000, 12)\n",
      "(31416,)\n",
      "(3491,)\n",
      "(31416,)\n",
      "(3491,)\n",
      "Adult 7 fold model training start ~_~\n",
      "=================================================================\n",
      "Layer (type:depth-idx)                   Param #\n",
      "=================================================================\n",
      "Model                                    --\n",
      "├─Sequential: 1-1                        --\n",
      "│    └─Conv1d: 2-1                       592\n",
      "│    └─ReLU: 2-2                         --\n",
      "│    └─GroupNorm: 2-3                    32\n",
      "│    └─Conv1d: 2-4                       784\n",
      "│    └─ReLU: 2-5                         --\n",
      "│    └─GroupNorm: 2-6                    32\n",
      "│    └─Conv1d: 2-7                       784\n",
      "│    └─ReLU: 2-8                         --\n",
      "│    └─GroupNorm: 2-9                    32\n",
      "│    └─AvgPool1d: 2-10                   --\n",
      "├─Sequential: 1-2                        --\n",
      "│    └─Conv1d: 2-11                      1,568\n",
      "│    └─ReLU: 2-12                        --\n",
      "│    └─GroupNorm: 2-13                   64\n",
      "│    └─Conv1d: 2-14                      3,104\n",
      "│    └─ReLU: 2-15                        --\n",
      "│    └─GroupNorm: 2-16                   64\n",
      "│    └─Conv1d: 2-17                      3,104\n",
      "│    └─ReLU: 2-18                        --\n",
      "│    └─GroupNorm: 2-19                   64\n",
      "│    └─AvgPool1d: 2-20                   --\n",
      "├─Sequential: 1-3                        --\n",
      "│    └─Conv1d: 2-21                      6,208\n",
      "│    └─ReLU: 2-22                        --\n",
      "│    └─GroupNorm: 2-23                   128\n",
      "│    └─Conv1d: 2-24                      12,352\n",
      "│    └─ReLU: 2-25                        --\n",
      "│    └─GroupNorm: 2-26                   128\n",
      "│    └─Conv1d: 2-27                      12,352\n",
      "│    └─ReLU: 2-28                        --\n",
      "│    └─GroupNorm: 2-29                   128\n",
      "│    └─AvgPool1d: 2-30                   --\n",
      "├─Sequential: 1-4                        --\n",
      "│    └─Conv1d: 2-31                      24,704\n",
      "│    └─ReLU: 2-32                        --\n",
      "│    └─GroupNorm: 2-33                   256\n",
      "│    └─Conv1d: 2-34                      49,280\n",
      "│    └─ReLU: 2-35                        --\n",
      "│    └─GroupNorm: 2-36                   256\n",
      "│    └─Conv1d: 2-37                      49,280\n",
      "│    └─ReLU: 2-38                        --\n",
      "│    └─GroupNorm: 2-39                   256\n",
      "│    └─AvgPool1d: 2-40                   --\n",
      "├─AdaptiveAvgPool1d: 1-5                 --\n",
      "├─Sequential: 1-6                        --\n",
      "│    └─Dropout: 2-41                     --\n",
      "│    └─Linear: 2-42                      130\n",
      "=================================================================\n",
      "Total params: 165,682\n",
      "Trainable params: 165,682\n",
      "Non-trainable params: 0\n",
      "=================================================================\n"
     ]
    },
    {
     "name": "stderr",
     "output_type": "stream",
     "text": [
      "/var/folders/wh/7nbvd7tj6j99g3z6knc92ccc0000gn/T/ipykernel_19191/326351055.py:38: UserWarning: nn.init.constant is now deprecated in favor of nn.init.constant_.\n",
      "  nn.init.constant(m.weight, 1)\n",
      "/var/folders/wh/7nbvd7tj6j99g3z6knc92ccc0000gn/T/ipykernel_19191/326351055.py:39: UserWarning: nn.init.constant is now deprecated in favor of nn.init.constant_.\n",
      "  nn.init.constant(m.bias, 0)\n"
     ]
    },
    {
     "data": {
      "application/vnd.jupyter.widget-view+json": {
       "model_id": "365ebd25f00e480ea45b7bac5ea15113",
       "version_major": 2,
       "version_minor": 0
      },
      "text/plain": [
       "  0%|          | 0/982 [00:00<?, ?it/s]"
      ]
     },
     "metadata": {},
     "output_type": "display_data"
    },
    {
     "name": "stderr",
     "output_type": "stream",
     "text": [
      "/opt/homebrew/Caskroom/miniforge/base/envs/cain_real/lib/python3.8/site-packages/torch/autograd/__init__.py:200: UserWarning: The operator 'aten::sgn.out' is not currently supported on the MPS backend and will fall back to run on the CPU. This may have performance implications. (Triggered internally at /Users/runner/work/_temp/anaconda/conda-bld/pytorch_1682343685278/work/aten/src/ATen/mps/MPSFallback.mm:11.)\n",
      "  Variable._execution_engine.run_backward(  # Calls into the C++ engine to run the backward pass\n"
     ]
    },
    {
     "name": "stdout",
     "output_type": "stream",
     "text": [
      "Epoch : [1] Train loss : [16.6746835582368]\n",
      "Val Loss : [12.795511458136819]\n",
      "Val L1 : [12.858603426939572]\n",
      "Save Model~_~ MODEL_NAME : Conv1d_ver_7_adult_7.pth\n"
     ]
    },
    {
     "data": {
      "application/vnd.jupyter.widget-view+json": {
       "model_id": "cc433f22d91c4088926b623f044b9ea8",
       "version_major": 2,
       "version_minor": 0
      },
      "text/plain": [
       "  0%|          | 0/982 [00:00<?, ?it/s]"
      ]
     },
     "metadata": {},
     "output_type": "display_data"
    },
    {
     "name": "stdout",
     "output_type": "stream",
     "text": [
      "Epoch : [2] Train loss : [11.65531589397345]\n",
      "Val Loss : [10.696130501140248]\n",
      "Val L1 : [10.669643238191105]\n",
      "Save Model~_~ MODEL_NAME : Conv1d_ver_7_adult_7.pth\n"
     ]
    },
    {
     "data": {
      "application/vnd.jupyter.widget-view+json": {
       "model_id": "18cabb4f416d4be79e29768bf46c7437",
       "version_major": 2,
       "version_minor": 0
      },
      "text/plain": [
       "  0%|          | 0/982 [00:00<?, ?it/s]"
      ]
     },
     "metadata": {},
     "output_type": "display_data"
    },
    {
     "name": "stdout",
     "output_type": "stream",
     "text": [
      "Epoch : [3] Train loss : [10.329825353719553]\n",
      "Val Loss : [9.34391166080128]\n",
      "Val L1 : [9.345113700729016]\n",
      "Save Model~_~ MODEL_NAME : Conv1d_ver_7_adult_7.pth\n"
     ]
    },
    {
     "data": {
      "application/vnd.jupyter.widget-view+json": {
       "model_id": "c9737578e4f64a7eb93b07cb7d8ea9d7",
       "version_major": 2,
       "version_minor": 0
      },
      "text/plain": [
       "  0%|          | 0/982 [00:00<?, ?it/s]"
      ]
     },
     "metadata": {},
     "output_type": "display_data"
    },
    {
     "name": "stdout",
     "output_type": "stream",
     "text": [
      "Epoch : [4] Train loss : [9.764879180069125]\n",
      "Val Loss : [9.252821441130205]\n",
      "Val L1 : [9.231721100032722]\n",
      "Save Model~_~ MODEL_NAME : Conv1d_ver_7_adult_7.pth\n"
     ]
    },
    {
     "data": {
      "application/vnd.jupyter.widget-view+json": {
       "model_id": "1016478bcb174f86b73ce7cf372921f0",
       "version_major": 2,
       "version_minor": 0
      },
      "text/plain": [
       "  0%|          | 0/982 [00:00<?, ?it/s]"
      ]
     },
     "metadata": {},
     "output_type": "display_data"
    },
    {
     "name": "stdout",
     "output_type": "stream",
     "text": [
      "Epoch : [5] Train loss : [9.547542021862116]\n",
      "Val Loss : [8.99849480715665]\n",
      "Val L1 : [9.010614786882927]\n",
      "Save Model~_~ MODEL_NAME : Conv1d_ver_7_adult_7.pth\n"
     ]
    },
    {
     "data": {
      "application/vnd.jupyter.widget-view+json": {
       "model_id": "022969353c7e40f6a85113cd122ab911",
       "version_major": 2,
       "version_minor": 0
      },
      "text/plain": [
       "  0%|          | 0/982 [00:00<?, ?it/s]"
      ]
     },
     "metadata": {},
     "output_type": "display_data"
    },
    {
     "name": "stdout",
     "output_type": "stream",
     "text": [
      "Epoch : [6] Train loss : [9.33772200479527]\n",
      "Val Loss : [8.88272064815868]\n",
      "Val L1 : [8.859212589619052]\n",
      "Save Model~_~ MODEL_NAME : Conv1d_ver_7_adult_7.pth\n"
     ]
    },
    {
     "data": {
      "application/vnd.jupyter.widget-view+json": {
       "model_id": "7c6c4ccb78d8478fb32d8b98fe72bdff",
       "version_major": 2,
       "version_minor": 0
      },
      "text/plain": [
       "  0%|          | 0/982 [00:00<?, ?it/s]"
      ]
     },
     "metadata": {},
     "output_type": "display_data"
    },
    {
     "name": "stdout",
     "output_type": "stream",
     "text": [
      "Epoch : [7] Train loss : [9.215124435677305]\n",
      "Val Loss : [8.88397570956837]\n",
      "Val L1 : [8.872485663207204]\n"
     ]
    },
    {
     "data": {
      "application/vnd.jupyter.widget-view+json": {
       "model_id": "1f7bfb0ec6e24a21a03568dca2f7c6d9",
       "version_major": 2,
       "version_minor": 0
      },
      "text/plain": [
       "  0%|          | 0/982 [00:00<?, ?it/s]"
      ]
     },
     "metadata": {},
     "output_type": "display_data"
    },
    {
     "name": "stdout",
     "output_type": "stream",
     "text": [
      "Epoch : [8] Train loss : [9.066596313309525]\n",
      "Val Loss : [8.698188144510443]\n",
      "Val L1 : [8.683884246135571]\n",
      "Save Model~_~ MODEL_NAME : Conv1d_ver_7_adult_7.pth\n"
     ]
    },
    {
     "data": {
      "application/vnd.jupyter.widget-view+json": {
       "model_id": "f6b4ee3b30554cbbaa31917fc5a07578",
       "version_major": 2,
       "version_minor": 0
      },
      "text/plain": [
       "  0%|          | 0/982 [00:00<?, ?it/s]"
      ]
     },
     "metadata": {},
     "output_type": "display_data"
    },
    {
     "name": "stdout",
     "output_type": "stream",
     "text": [
      "Epoch : [9] Train loss : [9.029615733871148]\n",
      "Val Loss : [8.946847135370428]\n",
      "Val L1 : [8.919115070352852]\n"
     ]
    },
    {
     "data": {
      "application/vnd.jupyter.widget-view+json": {
       "model_id": "d556810013444ef7887311f16cf84525",
       "version_major": 2,
       "version_minor": 0
      },
      "text/plain": [
       "  0%|          | 0/982 [00:00<?, ?it/s]"
      ]
     },
     "metadata": {},
     "output_type": "display_data"
    },
    {
     "name": "stdout",
     "output_type": "stream",
     "text": [
      "Epoch : [10] Train loss : [8.916832103748671]\n",
      "Val Loss : [8.373622447794133]\n",
      "Val L1 : [8.3599601392929]\n",
      "Save Model~_~ MODEL_NAME : Conv1d_ver_7_adult_7.pth\n"
     ]
    },
    {
     "data": {
      "application/vnd.jupyter.widget-view+json": {
       "model_id": "6e7eb60addaa45daa040d6bf8bcba3ea",
       "version_major": 2,
       "version_minor": 0
      },
      "text/plain": [
       "  0%|          | 0/982 [00:00<?, ?it/s]"
      ]
     },
     "metadata": {},
     "output_type": "display_data"
    },
    {
     "name": "stdout",
     "output_type": "stream",
     "text": [
      "Epoch : [11] Train loss : [8.911942852004724]\n",
      "Val Loss : [8.317873829061336]\n",
      "Val L1 : [8.297321433496489]\n",
      "Save Model~_~ MODEL_NAME : Conv1d_ver_7_adult_7.pth\n"
     ]
    },
    {
     "data": {
      "application/vnd.jupyter.widget-view+json": {
       "model_id": "d820ae7641604505aafe19d2c9db9c78",
       "version_major": 2,
       "version_minor": 0
      },
      "text/plain": [
       "  0%|          | 0/982 [00:00<?, ?it/s]"
      ]
     },
     "metadata": {},
     "output_type": "display_data"
    },
    {
     "name": "stdout",
     "output_type": "stream",
     "text": [
      "Epoch : [12] Train loss : [8.78368733225432]\n",
      "Val Loss : [8.409815359115601]\n",
      "Val L1 : [8.406870753196207]\n"
     ]
    },
    {
     "data": {
      "application/vnd.jupyter.widget-view+json": {
       "model_id": "87d22ec68af34af085817e50e875c88f",
       "version_major": 2,
       "version_minor": 0
      },
      "text/plain": [
       "  0%|          | 0/982 [00:00<?, ?it/s]"
      ]
     },
     "metadata": {},
     "output_type": "display_data"
    },
    {
     "name": "stdout",
     "output_type": "stream",
     "text": [
      "Epoch : [13] Train loss : [8.758953481487733]\n",
      "Val Loss : [8.365207117254084]\n",
      "Val L1 : [8.360637482856482]\n"
     ]
    },
    {
     "data": {
      "application/vnd.jupyter.widget-view+json": {
       "model_id": "8aa7d51439d74cc6a9ce53c3c26dc5a5",
       "version_major": 2,
       "version_minor": 0
      },
      "text/plain": [
       "  0%|          | 0/982 [00:00<?, ?it/s]"
      ]
     },
     "metadata": {},
     "output_type": "display_data"
    },
    {
     "name": "stdout",
     "output_type": "stream",
     "text": [
      "Epoch : [14] Train loss : [8.66020480921215]\n",
      "Val Loss : [8.272300091656772]\n",
      "Val L1 : [8.27230670451435]\n",
      "Save Model~_~ MODEL_NAME : Conv1d_ver_7_adult_7.pth\n"
     ]
    },
    {
     "data": {
      "application/vnd.jupyter.widget-view+json": {
       "model_id": "796fa766fc444316bc179f91d51a095e",
       "version_major": 2,
       "version_minor": 0
      },
      "text/plain": [
       "  0%|          | 0/982 [00:00<?, ?it/s]"
      ]
     },
     "metadata": {},
     "output_type": "display_data"
    },
    {
     "name": "stdout",
     "output_type": "stream",
     "text": [
      "Epoch : [15] Train loss : [8.619110122960358]\n",
      "Val Loss : [9.118717445026745]\n",
      "Val L1 : [9.064396076098584]\n"
     ]
    },
    {
     "data": {
      "application/vnd.jupyter.widget-view+json": {
       "model_id": "9a32948386bf4050844e280ea8b5b030",
       "version_major": 2,
       "version_minor": 0
      },
      "text/plain": [
       "  0%|          | 0/982 [00:00<?, ?it/s]"
      ]
     },
     "metadata": {},
     "output_type": "display_data"
    },
    {
     "name": "stdout",
     "output_type": "stream",
     "text": [
      "Epoch : [16] Train loss : [8.565324364757343]\n",
      "Val Loss : [8.21536243612116]\n",
      "Val L1 : [8.189295640615978]\n",
      "Save Model~_~ MODEL_NAME : Conv1d_ver_7_adult_7.pth\n"
     ]
    },
    {
     "data": {
      "application/vnd.jupyter.widget-view+json": {
       "model_id": "0e373b1c792f4e9da97e2b6bb7a6f601",
       "version_major": 2,
       "version_minor": 0
      },
      "text/plain": [
       "  0%|          | 0/982 [00:00<?, ?it/s]"
      ]
     },
     "metadata": {},
     "output_type": "display_data"
    },
    {
     "name": "stdout",
     "output_type": "stream",
     "text": [
      "Epoch : [17] Train loss : [8.506759277914789]\n",
      "Val Loss : [8.204031961614435]\n",
      "Val L1 : [8.170135737353291]\n",
      "Save Model~_~ MODEL_NAME : Conv1d_ver_7_adult_7.pth\n"
     ]
    },
    {
     "data": {
      "application/vnd.jupyter.widget-view+json": {
       "model_id": "791506b706c049a79f49f6d8c8469855",
       "version_major": 2,
       "version_minor": 0
      },
      "text/plain": [
       "  0%|          | 0/982 [00:00<?, ?it/s]"
      ]
     },
     "metadata": {},
     "output_type": "display_data"
    },
    {
     "name": "stdout",
     "output_type": "stream",
     "text": [
      "Epoch : [18] Train loss : [8.462552175988005]\n",
      "Val Loss : [8.155355873974887]\n",
      "Val L1 : [8.138047486313159]\n",
      "Save Model~_~ MODEL_NAME : Conv1d_ver_7_adult_7.pth\n"
     ]
    },
    {
     "data": {
      "application/vnd.jupyter.widget-view+json": {
       "model_id": "ff474f455ad74950b76d18c57ea58010",
       "version_major": 2,
       "version_minor": 0
      },
      "text/plain": [
       "  0%|          | 0/982 [00:00<?, ?it/s]"
      ]
     },
     "metadata": {},
     "output_type": "display_data"
    },
    {
     "name": "stdout",
     "output_type": "stream",
     "text": [
      "Epoch : [19] Train loss : [8.416956404804456]\n",
      "Val Loss : [8.402600288391113]\n",
      "Val L1 : [8.353587447521305]\n"
     ]
    },
    {
     "data": {
      "application/vnd.jupyter.widget-view+json": {
       "model_id": "ff2733037b7047179b24abec828cdb7d",
       "version_major": 2,
       "version_minor": 0
      },
      "text/plain": [
       "  0%|          | 0/982 [00:00<?, ?it/s]"
      ]
     },
     "metadata": {},
     "output_type": "display_data"
    },
    {
     "name": "stdout",
     "output_type": "stream",
     "text": [
      "Epoch : [20] Train loss : [8.412035716769651]\n",
      "Val Loss : [8.67377289425243]\n",
      "Val L1 : [8.622962841841458]\n"
     ]
    },
    {
     "data": {
      "application/vnd.jupyter.widget-view+json": {
       "model_id": "4bdc883a3e02417eaf6b27fedffa64f4",
       "version_major": 2,
       "version_minor": 0
      },
      "text/plain": [
       "  0%|          | 0/982 [00:00<?, ?it/s]"
      ]
     },
     "metadata": {},
     "output_type": "display_data"
    },
    {
     "name": "stdout",
     "output_type": "stream",
     "text": [
      "Epoch : [21] Train loss : [8.363719689141952]\n",
      "Val Loss : [8.144977530566129]\n",
      "Val L1 : [8.109414516701394]\n",
      "Save Model~_~ MODEL_NAME : Conv1d_ver_7_adult_7.pth\n"
     ]
    },
    {
     "data": {
      "application/vnd.jupyter.widget-view+json": {
       "model_id": "86f09ea98ba74d5389a7ad6d93df6441",
       "version_major": 2,
       "version_minor": 0
      },
      "text/plain": [
       "  0%|          | 0/982 [00:00<?, ?it/s]"
      ]
     },
     "metadata": {},
     "output_type": "display_data"
    },
    {
     "name": "stdout",
     "output_type": "stream",
     "text": [
      "Epoch : [22] Train loss : [8.332043262703113]\n",
      "Val Loss : [8.004294447465377]\n",
      "Val L1 : [7.983974790067736]\n",
      "Save Model~_~ MODEL_NAME : Conv1d_ver_7_adult_7.pth\n"
     ]
    },
    {
     "data": {
      "application/vnd.jupyter.widget-view+json": {
       "model_id": "5f7fad463751451aad1dca0826fbb576",
       "version_major": 2,
       "version_minor": 0
      },
      "text/plain": [
       "  0%|          | 0/982 [00:00<?, ?it/s]"
      ]
     },
     "metadata": {},
     "output_type": "display_data"
    },
    {
     "name": "stdout",
     "output_type": "stream",
     "text": [
      "Epoch : [23] Train loss : [8.274602832716496]\n",
      "Val Loss : [8.158439983021129]\n",
      "Val L1 : [8.155618457799653]\n"
     ]
    },
    {
     "data": {
      "application/vnd.jupyter.widget-view+json": {
       "model_id": "dcec262cd04f481ea0c026384d571e8e",
       "version_major": 2,
       "version_minor": 0
      },
      "text/plain": [
       "  0%|          | 0/982 [00:00<?, ?it/s]"
      ]
     },
     "metadata": {},
     "output_type": "display_data"
    },
    {
     "name": "stdout",
     "output_type": "stream",
     "text": [
      "Epoch : [24] Train loss : [8.231107237868299]\n",
      "Val Loss : [8.036601166291671]\n",
      "Val L1 : [8.0264733565021]\n"
     ]
    },
    {
     "data": {
      "application/vnd.jupyter.widget-view+json": {
       "model_id": "5d438021840d4c3494b8ed82d0403ae3",
       "version_major": 2,
       "version_minor": 0
      },
      "text/plain": [
       "  0%|          | 0/982 [00:00<?, ?it/s]"
      ]
     },
     "metadata": {},
     "output_type": "display_data"
    },
    {
     "name": "stdout",
     "output_type": "stream",
     "text": [
      "Epoch : [25] Train loss : [8.143760605402246]\n",
      "Val Loss : [7.989370059967041]\n",
      "Val L1 : [7.974124204733418]\n",
      "Save Model~_~ MODEL_NAME : Conv1d_ver_7_adult_7.pth\n"
     ]
    },
    {
     "data": {
      "application/vnd.jupyter.widget-view+json": {
       "model_id": "60b289e2b71f4de889b6fe97036e5d7e",
       "version_major": 2,
       "version_minor": 0
      },
      "text/plain": [
       "  0%|          | 0/982 [00:00<?, ?it/s]"
      ]
     },
     "metadata": {},
     "output_type": "display_data"
    },
    {
     "name": "stdout",
     "output_type": "stream",
     "text": [
      "Epoch : [26] Train loss : [8.147359112372467]\n",
      "Val Loss : [8.342072491212324]\n",
      "Val L1 : [8.301177250215503]\n"
     ]
    },
    {
     "data": {
      "application/vnd.jupyter.widget-view+json": {
       "model_id": "60db1578c96b4a55844fb137b40b3b47",
       "version_major": 2,
       "version_minor": 0
      },
      "text/plain": [
       "  0%|          | 0/982 [00:00<?, ?it/s]"
      ]
     },
     "metadata": {},
     "output_type": "display_data"
    },
    {
     "name": "stdout",
     "output_type": "stream",
     "text": [
      "Epoch : [27] Train loss : [8.111570668074847]\n",
      "Val Loss : [7.920478118549694]\n",
      "Val L1 : [7.892851410196218]\n",
      "Save Model~_~ MODEL_NAME : Conv1d_ver_7_adult_7.pth\n"
     ]
    },
    {
     "data": {
      "application/vnd.jupyter.widget-view+json": {
       "model_id": "1337b46aefaa478694fc0123851a3078",
       "version_major": 2,
       "version_minor": 0
      },
      "text/plain": [
       "  0%|          | 0/982 [00:00<?, ?it/s]"
      ]
     },
     "metadata": {},
     "output_type": "display_data"
    },
    {
     "name": "stdout",
     "output_type": "stream",
     "text": [
      "Epoch : [28] Train loss : [8.039383836287831]\n",
      "Val Loss : [8.03977068120783]\n",
      "Val L1 : [8.00961058940904]\n"
     ]
    },
    {
     "data": {
      "application/vnd.jupyter.widget-view+json": {
       "model_id": "ded76bbac8254c0f9d4a91d45dc49b09",
       "version_major": 2,
       "version_minor": 0
      },
      "text/plain": [
       "  0%|          | 0/982 [00:00<?, ?it/s]"
      ]
     },
     "metadata": {},
     "output_type": "display_data"
    },
    {
     "name": "stdout",
     "output_type": "stream",
     "text": [
      "Epoch : [29] Train loss : [8.046258193655072]\n",
      "Val Loss : [8.494786578958685]\n",
      "Val L1 : [8.456004595968245]\n"
     ]
    },
    {
     "data": {
      "application/vnd.jupyter.widget-view+json": {
       "model_id": "71fb6cbf75314d90b25c953ec5c9f15b",
       "version_major": 2,
       "version_minor": 0
      },
      "text/plain": [
       "  0%|          | 0/982 [00:00<?, ?it/s]"
      ]
     },
     "metadata": {},
     "output_type": "display_data"
    },
    {
     "name": "stdout",
     "output_type": "stream",
     "text": [
      "Epoch : [30] Train loss : [7.989183988687706]\n",
      "Val Loss : [8.133285245028409]\n",
      "Val L1 : [8.106423059188682]\n"
     ]
    },
    {
     "data": {
      "application/vnd.jupyter.widget-view+json": {
       "model_id": "df44002df6c948af9e4ad32a41afbebc",
       "version_major": 2,
       "version_minor": 0
      },
      "text/plain": [
       "  0%|          | 0/982 [00:00<?, ?it/s]"
      ]
     },
     "metadata": {},
     "output_type": "display_data"
    },
    {
     "name": "stdout",
     "output_type": "stream",
     "text": [
      "Epoch : [31] Train loss : [7.978225427343986]\n",
      "Val Loss : [8.051838224584406]\n",
      "Val L1 : [8.031174953398407]\n"
     ]
    },
    {
     "data": {
      "application/vnd.jupyter.widget-view+json": {
       "model_id": "896ea0eb1a574d5596c7d888e3d93991",
       "version_major": 2,
       "version_minor": 0
      },
      "text/plain": [
       "  0%|          | 0/982 [00:00<?, ?it/s]"
      ]
     },
     "metadata": {},
     "output_type": "display_data"
    },
    {
     "name": "stdout",
     "output_type": "stream",
     "text": [
      "Epoch : [32] Train loss : [7.973812462598874]\n",
      "Val Loss : [7.886009558764371]\n",
      "Val L1 : [7.882936432313113]\n",
      "Save Model~_~ MODEL_NAME : Conv1d_ver_7_adult_7.pth\n"
     ]
    },
    {
     "data": {
      "application/vnd.jupyter.widget-view+json": {
       "model_id": "8157009fb2944b0ea5aa9dc08dde777c",
       "version_major": 2,
       "version_minor": 0
      },
      "text/plain": [
       "  0%|          | 0/982 [00:00<?, ?it/s]"
      ]
     },
     "metadata": {},
     "output_type": "display_data"
    },
    {
     "name": "stdout",
     "output_type": "stream",
     "text": [
      "Epoch : [33] Train loss : [7.898940236650999]\n",
      "Val Loss : [7.99178018136458]\n",
      "Val L1 : [7.970470581448068]\n"
     ]
    },
    {
     "data": {
      "application/vnd.jupyter.widget-view+json": {
       "model_id": "61db30b6c4bc4132999869b72db5b3c4",
       "version_major": 2,
       "version_minor": 0
      },
      "text/plain": [
       "  0%|          | 0/982 [00:00<?, ?it/s]"
      ]
     },
     "metadata": {},
     "output_type": "display_data"
    },
    {
     "name": "stdout",
     "output_type": "stream",
     "text": [
      "Epoch : [34] Train loss : [7.843473083861248]\n",
      "Val Loss : [7.896912886879661]\n",
      "Val L1 : [7.87208908439468]\n"
     ]
    },
    {
     "data": {
      "application/vnd.jupyter.widget-view+json": {
       "model_id": "192cfb697e6142cf876e339faf9199dd",
       "version_major": 2,
       "version_minor": 0
      },
      "text/plain": [
       "  0%|          | 0/982 [00:00<?, ?it/s]"
      ]
     },
     "metadata": {},
     "output_type": "display_data"
    },
    {
     "name": "stdout",
     "output_type": "stream",
     "text": [
      "Epoch : [35] Train loss : [7.846319198122821]\n",
      "Val Loss : [8.08076963858171]\n",
      "Val L1 : [8.030583166386329]\n"
     ]
    },
    {
     "data": {
      "application/vnd.jupyter.widget-view+json": {
       "model_id": "14dda5eb43ba42b6acd61b86b8bf18a8",
       "version_major": 2,
       "version_minor": 0
      },
      "text/plain": [
       "  0%|          | 0/982 [00:00<?, ?it/s]"
      ]
     },
     "metadata": {},
     "output_type": "display_data"
    },
    {
     "name": "stdout",
     "output_type": "stream",
     "text": [
      "Epoch : [36] Train loss : [7.830335998729387]\n",
      "Val Loss : [8.068399650400336]\n",
      "Val L1 : [8.032420753100922]\n"
     ]
    },
    {
     "data": {
      "application/vnd.jupyter.widget-view+json": {
       "model_id": "807657d4e27345a08b8a66d66f9ab0e2",
       "version_major": 2,
       "version_minor": 0
      },
      "text/plain": [
       "  0%|          | 0/982 [00:00<?, ?it/s]"
      ]
     },
     "metadata": {},
     "output_type": "display_data"
    },
    {
     "name": "stdout",
     "output_type": "stream",
     "text": [
      "Epoch : [37] Train loss : [7.751359358338863]\n",
      "Val Loss : [7.829397756403143]\n",
      "Val L1 : [7.806252141628522]\n",
      "Save Model~_~ MODEL_NAME : Conv1d_ver_7_adult_7.pth\n"
     ]
    },
    {
     "data": {
      "application/vnd.jupyter.widget-view+json": {
       "model_id": "70c307af03714b928294b671ad13bfb9",
       "version_major": 2,
       "version_minor": 0
      },
      "text/plain": [
       "  0%|          | 0/982 [00:00<?, ?it/s]"
      ]
     },
     "metadata": {},
     "output_type": "display_data"
    },
    {
     "name": "stdout",
     "output_type": "stream",
     "text": [
      "Epoch : [38] Train loss : [7.747745465843837]\n",
      "Val Loss : [8.316400601647118]\n",
      "Val L1 : [8.345243048579125]\n"
     ]
    },
    {
     "data": {
      "application/vnd.jupyter.widget-view+json": {
       "model_id": "53bc629812ea44e8950908269858240b",
       "version_major": 2,
       "version_minor": 0
      },
      "text/plain": [
       "  0%|          | 0/982 [00:00<?, ?it/s]"
      ]
     },
     "metadata": {},
     "output_type": "display_data"
    },
    {
     "name": "stdout",
     "output_type": "stream",
     "text": [
      "Epoch : [39] Train loss : [7.762103369668156]\n",
      "Val Loss : [8.197600720145486]\n",
      "Val L1 : [8.161544307532811]\n"
     ]
    },
    {
     "data": {
      "application/vnd.jupyter.widget-view+json": {
       "model_id": "3dc57ae6b42a435193ddde7c160adf0c",
       "version_major": 2,
       "version_minor": 0
      },
      "text/plain": [
       "  0%|          | 0/982 [00:00<?, ?it/s]"
      ]
     },
     "metadata": {},
     "output_type": "display_data"
    },
    {
     "name": "stdout",
     "output_type": "stream",
     "text": [
      "Epoch : [40] Train loss : [7.678906636908195]\n",
      "Val Loss : [7.884073344143954]\n",
      "Val L1 : [7.876185436297952]\n"
     ]
    },
    {
     "data": {
      "application/vnd.jupyter.widget-view+json": {
       "model_id": "16029650983f48f5bedda5227c392069",
       "version_major": 2,
       "version_minor": 0
      },
      "text/plain": [
       "  0%|          | 0/982 [00:00<?, ?it/s]"
      ]
     },
     "metadata": {},
     "output_type": "display_data"
    },
    {
     "name": "stdout",
     "output_type": "stream",
     "text": [
      "Epoch : [41] Train loss : [7.701190031715906]\n",
      "Val Loss : [7.829989901455966]\n",
      "Val L1 : [7.810081315293281]\n"
     ]
    },
    {
     "data": {
      "application/vnd.jupyter.widget-view+json": {
       "model_id": "57027e3985874c588d05f2633cc63740",
       "version_major": 2,
       "version_minor": 0
      },
      "text/plain": [
       "  0%|          | 0/982 [00:00<?, ?it/s]"
      ]
     },
     "metadata": {},
     "output_type": "display_data"
    },
    {
     "name": "stdout",
     "output_type": "stream",
     "text": [
      "Epoch : [42] Train loss : [7.6740995463431485]\n",
      "Val Loss : [7.912126939946955]\n",
      "Val L1 : [7.902528118656959]\n"
     ]
    },
    {
     "data": {
      "application/vnd.jupyter.widget-view+json": {
       "model_id": "f827f74221dd405a9aecf055af47ffde",
       "version_major": 2,
       "version_minor": 0
      },
      "text/plain": [
       "  0%|          | 0/982 [00:00<?, ?it/s]"
      ]
     },
     "metadata": {},
     "output_type": "display_data"
    },
    {
     "name": "stdout",
     "output_type": "stream",
     "text": [
      "Epoch : [43] Train loss : [7.637625733121107]\n",
      "Val Loss : [7.904825795780528]\n",
      "Val L1 : [7.899394630600408]\n"
     ]
    },
    {
     "data": {
      "application/vnd.jupyter.widget-view+json": {
       "model_id": "417ce00b5d0347cca36be21929e36a5b",
       "version_major": 2,
       "version_minor": 0
      },
      "text/plain": [
       "  0%|          | 0/982 [00:00<?, ?it/s]"
      ]
     },
     "metadata": {},
     "output_type": "display_data"
    },
    {
     "name": "stdout",
     "output_type": "stream",
     "text": [
      "Epoch : [44] Train loss : [7.670591184417973]\n",
      "Val Loss : [7.8226518630981445]\n",
      "Val L1 : [7.823500029236906]\n",
      "Save Model~_~ MODEL_NAME : Conv1d_ver_7_adult_7.pth\n"
     ]
    },
    {
     "data": {
      "application/vnd.jupyter.widget-view+json": {
       "model_id": "7f44b803501a4bca8c7ec14af20b269c",
       "version_major": 2,
       "version_minor": 0
      },
      "text/plain": [
       "  0%|          | 0/982 [00:00<?, ?it/s]"
      ]
     },
     "metadata": {},
     "output_type": "display_data"
    },
    {
     "name": "stdout",
     "output_type": "stream",
     "text": [
      "Epoch : [45] Train loss : [7.658011622438606]\n",
      "Val Loss : [7.950253248214722]\n",
      "Val L1 : [7.945772296137333]\n"
     ]
    },
    {
     "data": {
      "application/vnd.jupyter.widget-view+json": {
       "model_id": "c7cebbcb23fe4724967df1e0a57d1f89",
       "version_major": 2,
       "version_minor": 0
      },
      "text/plain": [
       "  0%|          | 0/982 [00:00<?, ?it/s]"
      ]
     },
     "metadata": {},
     "output_type": "display_data"
    },
    {
     "name": "stdout",
     "output_type": "stream",
     "text": [
      "Epoch : [46] Train loss : [7.561042657452057]\n",
      "Val Loss : [7.878511853651567]\n",
      "Val L1 : [7.886288860608431]\n"
     ]
    },
    {
     "data": {
      "application/vnd.jupyter.widget-view+json": {
       "model_id": "5dc6a937c43c4a5c92a5f95189834379",
       "version_major": 2,
       "version_minor": 0
      },
      "text/plain": [
       "  0%|          | 0/982 [00:00<?, ?it/s]"
      ]
     },
     "metadata": {},
     "output_type": "display_data"
    },
    {
     "name": "stdout",
     "output_type": "stream",
     "text": [
      "Epoch : [47] Train loss : [7.521114930601566]\n",
      "Val Loss : [7.918635272979737]\n",
      "Val L1 : [7.917547781055617]\n"
     ]
    },
    {
     "data": {
      "application/vnd.jupyter.widget-view+json": {
       "model_id": "247d197c9f0e4998864341e30e52f022",
       "version_major": 2,
       "version_minor": 0
      },
      "text/plain": [
       "  0%|          | 0/982 [00:00<?, ?it/s]"
      ]
     },
     "metadata": {},
     "output_type": "display_data"
    },
    {
     "name": "stdout",
     "output_type": "stream",
     "text": [
      "Epoch : [48] Train loss : [7.533569934654624]\n",
      "Val Loss : [7.852191058072177]\n",
      "Val L1 : [7.828390493532266]\n"
     ]
    },
    {
     "data": {
      "application/vnd.jupyter.widget-view+json": {
       "model_id": "264109d50ff642f18f21eb4da1bf9027",
       "version_major": 2,
       "version_minor": 0
      },
      "text/plain": [
       "  0%|          | 0/982 [00:00<?, ?it/s]"
      ]
     },
     "metadata": {},
     "output_type": "display_data"
    },
    {
     "name": "stdout",
     "output_type": "stream",
     "text": [
      "Epoch : [49] Train loss : [7.505998374002771]\n",
      "Val Loss : [7.852336662465876]\n",
      "Val L1 : [7.819501379641924]\n"
     ]
    },
    {
     "data": {
      "application/vnd.jupyter.widget-view+json": {
       "model_id": "70b370f67056435ab97dff06f4ba18aa",
       "version_major": 2,
       "version_minor": 0
      },
      "text/plain": [
       "  0%|          | 0/982 [00:00<?, ?it/s]"
      ]
     },
     "metadata": {},
     "output_type": "display_data"
    },
    {
     "name": "stdout",
     "output_type": "stream",
     "text": [
      "Epoch : [50] Train loss : [7.432578235439759]\n",
      "Val Loss : [7.776562014493075]\n",
      "Val L1 : [7.759339108845458]\n",
      "Save Model~_~ MODEL_NAME : Conv1d_ver_7_adult_7.pth\n"
     ]
    },
    {
     "data": {
      "application/vnd.jupyter.widget-view+json": {
       "model_id": "bb776098f24d4c788104882b1648dc6f",
       "version_major": 2,
       "version_minor": 0
      },
      "text/plain": [
       "  0%|          | 0/982 [00:00<?, ?it/s]"
      ]
     },
     "metadata": {},
     "output_type": "display_data"
    },
    {
     "name": "stdout",
     "output_type": "stream",
     "text": [
      "Epoch : [51] Train loss : [7.440089028138979]\n",
      "Val Loss : [8.05328056162054]\n",
      "Val L1 : [8.017435186403045]\n"
     ]
    },
    {
     "data": {
      "application/vnd.jupyter.widget-view+json": {
       "model_id": "72e89260971949639f63da1373634ef3",
       "version_major": 2,
       "version_minor": 0
      },
      "text/plain": [
       "  0%|          | 0/982 [00:00<?, ?it/s]"
      ]
     },
     "metadata": {},
     "output_type": "display_data"
    },
    {
     "name": "stdout",
     "output_type": "stream",
     "text": [
      "Epoch : [52] Train loss : [7.447461899817597]\n",
      "Val Loss : [7.8901118798689405]\n",
      "Val L1 : [7.8781740865540755]\n"
     ]
    },
    {
     "data": {
      "application/vnd.jupyter.widget-view+json": {
       "model_id": "8edda5e9101f4944a9e9841325386439",
       "version_major": 2,
       "version_minor": 0
      },
      "text/plain": [
       "  0%|          | 0/982 [00:00<?, ?it/s]"
      ]
     },
     "metadata": {},
     "output_type": "display_data"
    },
    {
     "name": "stdout",
     "output_type": "stream",
     "text": [
      "Epoch : [53] Train loss : [7.3851116995219055]\n",
      "Val Loss : [7.912454292990945]\n",
      "Val L1 : [7.894838445134027]\n"
     ]
    },
    {
     "data": {
      "application/vnd.jupyter.widget-view+json": {
       "model_id": "2a24b7271cbb4309b23a3cc39f5e6444",
       "version_major": 2,
       "version_minor": 0
      },
      "text/plain": [
       "  0%|          | 0/982 [00:00<?, ?it/s]"
      ]
     },
     "metadata": {},
     "output_type": "display_data"
    },
    {
     "name": "stdout",
     "output_type": "stream",
     "text": [
      "Epoch : [54] Train loss : [7.331480596313166]\n",
      "Val Loss : [7.807255138050426]\n",
      "Val L1 : [7.796829088135115]\n"
     ]
    },
    {
     "data": {
      "application/vnd.jupyter.widget-view+json": {
       "model_id": "25648d29c79d4f7a8570368f1c8e7414",
       "version_major": 2,
       "version_minor": 0
      },
      "text/plain": [
       "  0%|          | 0/982 [00:00<?, ?it/s]"
      ]
     },
     "metadata": {},
     "output_type": "display_data"
    },
    {
     "name": "stdout",
     "output_type": "stream",
     "text": [
      "Epoch : [55] Train loss : [7.355799564761688]\n",
      "Val Loss : [7.701153039932251]\n",
      "Val L1 : [7.6735742744351825]\n",
      "Save Model~_~ MODEL_NAME : Conv1d_ver_7_adult_7.pth\n"
     ]
    },
    {
     "data": {
      "application/vnd.jupyter.widget-view+json": {
       "model_id": "6ca2bae8ce2043ca89b6da86e6629071",
       "version_major": 2,
       "version_minor": 0
      },
      "text/plain": [
       "  0%|          | 0/982 [00:00<?, ?it/s]"
      ]
     },
     "metadata": {},
     "output_type": "display_data"
    },
    {
     "name": "stdout",
     "output_type": "stream",
     "text": [
      "Epoch : [56] Train loss : [7.36717121032979]\n",
      "Val Loss : [8.378677853670988]\n",
      "Val L1 : [8.353021489211393]\n"
     ]
    },
    {
     "data": {
      "application/vnd.jupyter.widget-view+json": {
       "model_id": "78e5bdc36a974c9e8067f3002fcf4033",
       "version_major": 2,
       "version_minor": 0
      },
      "text/plain": [
       "  0%|          | 0/982 [00:00<?, ?it/s]"
      ]
     },
     "metadata": {},
     "output_type": "display_data"
    },
    {
     "name": "stdout",
     "output_type": "stream",
     "text": [
      "Epoch : [57] Train loss : [7.341769630700168]\n",
      "Val Loss : [8.06455960707231]\n",
      "Val L1 : [8.06023456701335]\n"
     ]
    },
    {
     "data": {
      "application/vnd.jupyter.widget-view+json": {
       "model_id": "3555b38ec24e4e25b197f33f8010f722",
       "version_major": 2,
       "version_minor": 0
      },
      "text/plain": [
       "  0%|          | 0/982 [00:00<?, ?it/s]"
      ]
     },
     "metadata": {},
     "output_type": "display_data"
    },
    {
     "name": "stdout",
     "output_type": "stream",
     "text": [
      "Epoch : [58] Train loss : [7.286539431744826]\n",
      "Val Loss : [7.7713044209913775]\n",
      "Val L1 : [7.779468451690892]\n"
     ]
    },
    {
     "data": {
      "application/vnd.jupyter.widget-view+json": {
       "model_id": "5773794efe2340b0bfe69e3221d05a40",
       "version_major": 2,
       "version_minor": 0
      },
      "text/plain": [
       "  0%|          | 0/982 [00:00<?, ?it/s]"
      ]
     },
     "metadata": {},
     "output_type": "display_data"
    },
    {
     "name": "stdout",
     "output_type": "stream",
     "text": [
      "Epoch : [59] Train loss : [7.294384398916831]\n",
      "Val Loss : [7.857024578614668]\n",
      "Val L1 : [7.848070642935174]\n"
     ]
    },
    {
     "data": {
      "application/vnd.jupyter.widget-view+json": {
       "model_id": "6be649d43f764b0a8862e124f851d8fa",
       "version_major": 2,
       "version_minor": 0
      },
      "text/plain": [
       "  0%|          | 0/982 [00:00<?, ?it/s]"
      ]
     },
     "metadata": {},
     "output_type": "display_data"
    },
    {
     "name": "stdout",
     "output_type": "stream",
     "text": [
      "Epoch : [60] Train loss : [7.207686639851805]\n",
      "Val Loss : [8.078053543784401]\n",
      "Val L1 : [8.059800836152792]\n"
     ]
    },
    {
     "data": {
      "application/vnd.jupyter.widget-view+json": {
       "model_id": "0b750e1846ab43d1b45b78ad0dd5b5de",
       "version_major": 2,
       "version_minor": 0
      },
      "text/plain": [
       "  0%|          | 0/982 [00:00<?, ?it/s]"
      ]
     },
     "metadata": {},
     "output_type": "display_data"
    },
    {
     "name": "stdout",
     "output_type": "stream",
     "text": [
      "Epoch : [61] Train loss : [7.222866659009044]\n",
      "Val Loss : [7.977511297572743]\n",
      "Val L1 : [7.943727322274926]\n"
     ]
    },
    {
     "data": {
      "application/vnd.jupyter.widget-view+json": {
       "model_id": "bcee3c1dc8e34cb79baaed0c73f8bbce",
       "version_major": 2,
       "version_minor": 0
      },
      "text/plain": [
       "  0%|          | 0/982 [00:00<?, ?it/s]"
      ]
     },
     "metadata": {},
     "output_type": "display_data"
    },
    {
     "name": "stdout",
     "output_type": "stream",
     "text": [
      "Epoch : [62] Train loss : [7.194773658958327]\n",
      "Val Loss : [7.866219520568848]\n",
      "Val L1 : [7.877412360023885]\n"
     ]
    },
    {
     "data": {
      "application/vnd.jupyter.widget-view+json": {
       "model_id": "96ba7dcbf03547b888fbbe9917d3d0c8",
       "version_major": 2,
       "version_minor": 0
      },
      "text/plain": [
       "  0%|          | 0/982 [00:00<?, ?it/s]"
      ]
     },
     "metadata": {},
     "output_type": "display_data"
    },
    {
     "name": "stdout",
     "output_type": "stream",
     "text": [
      "Epoch : [63] Train loss : [7.182182166581241]\n",
      "Val Loss : [7.745921039581299]\n",
      "Val L1 : [7.735199799615515]\n"
     ]
    },
    {
     "data": {
      "application/vnd.jupyter.widget-view+json": {
       "model_id": "7b0d9ff2ef0f47fd959ddec564389d3e",
       "version_major": 2,
       "version_minor": 0
      },
      "text/plain": [
       "  0%|          | 0/982 [00:00<?, ?it/s]"
      ]
     },
     "metadata": {},
     "output_type": "display_data"
    },
    {
     "name": "stdout",
     "output_type": "stream",
     "text": [
      "Epoch : [64] Train loss : [7.170905710480606]\n",
      "Val Loss : [8.8978459705006]\n",
      "Val L1 : [8.939968656038904]\n"
     ]
    },
    {
     "data": {
      "application/vnd.jupyter.widget-view+json": {
       "model_id": "5767ee337cfd4b22b17c8bffc65319ce",
       "version_major": 2,
       "version_minor": 0
      },
      "text/plain": [
       "  0%|          | 0/982 [00:00<?, ?it/s]"
      ]
     },
     "metadata": {},
     "output_type": "display_data"
    },
    {
     "name": "stdout",
     "output_type": "stream",
     "text": [
      "Epoch : [65] Train loss : [7.14555253225043]\n",
      "Val Loss : [7.873457553169944]\n",
      "Val L1 : [7.846035576795514]\n"
     ]
    },
    {
     "data": {
      "application/vnd.jupyter.widget-view+json": {
       "model_id": "4fb379fa21c040a38fb08b20cf82d866",
       "version_major": 2,
       "version_minor": 0
      },
      "text/plain": [
       "  0%|          | 0/982 [00:00<?, ?it/s]"
      ]
     },
     "metadata": {},
     "output_type": "display_data"
    },
    {
     "name": "stdout",
     "output_type": "stream",
     "text": [
      "Epoch : [66] Train loss : [7.093782199618773]\n",
      "Val Loss : [7.7830951257185506]\n",
      "Val L1 : [7.7746660237461205]\n",
      "Epoch 00066: reducing learning rate of group 0 to 5.0000e-04.\n"
     ]
    },
    {
     "data": {
      "application/vnd.jupyter.widget-view+json": {
       "model_id": "9492c7c971ed46eda8c5f31a9a648b30",
       "version_major": 2,
       "version_minor": 0
      },
      "text/plain": [
       "  0%|          | 0/982 [00:00<?, ?it/s]"
      ]
     },
     "metadata": {},
     "output_type": "display_data"
    },
    {
     "name": "stdout",
     "output_type": "stream",
     "text": [
      "Epoch : [67] Train loss : [6.659174364598851]\n",
      "Val Loss : [7.853889660401777]\n",
      "Val L1 : [7.850044317690768]\n"
     ]
    },
    {
     "data": {
      "application/vnd.jupyter.widget-view+json": {
       "model_id": "51ae3c09b501449792b1877b7acc6a5e",
       "version_major": 2,
       "version_minor": 0
      },
      "text/plain": [
       "  0%|          | 0/982 [00:00<?, ?it/s]"
      ]
     },
     "metadata": {},
     "output_type": "display_data"
    },
    {
     "name": "stdout",
     "output_type": "stream",
     "text": [
      "Epoch : [68] Train loss : [6.489361942178606]\n",
      "Val Loss : [7.907301330566407]\n",
      "Val L1 : [7.890347743847076]\n"
     ]
    },
    {
     "data": {
      "application/vnd.jupyter.widget-view+json": {
       "model_id": "a1bbe7ad76c54282bfca4def35795a38",
       "version_major": 2,
       "version_minor": 0
      },
      "text/plain": [
       "  0%|          | 0/982 [00:00<?, ?it/s]"
      ]
     },
     "metadata": {},
     "output_type": "display_data"
    },
    {
     "name": "stdout",
     "output_type": "stream",
     "text": [
      "Epoch : [69] Train loss : [6.4320387898540305]\n",
      "Val Loss : [7.798274504054676]\n",
      "Val L1 : [7.8159622590134115]\n"
     ]
    },
    {
     "data": {
      "application/vnd.jupyter.widget-view+json": {
       "model_id": "9ac9f4b3aa92490fb6387c84dc962d51",
       "version_major": 2,
       "version_minor": 0
      },
      "text/plain": [
       "  0%|          | 0/982 [00:00<?, ?it/s]"
      ]
     },
     "metadata": {},
     "output_type": "display_data"
    },
    {
     "name": "stdout",
     "output_type": "stream",
     "text": [
      "Epoch : [70] Train loss : [6.342810836440434]\n",
      "Val Loss : [7.822426934675737]\n",
      "Val L1 : [7.83332280640068]\n",
      "Final Best error : [7.6735742744351825]\n",
      "Final Best loss : [7.701153039932251]\n",
      "(31417, 5000, 12)\n",
      "(3490, 5000, 12)\n",
      "(31417,)\n",
      "(3490,)\n",
      "(31417,)\n",
      "(3490,)\n",
      "Adult 8 fold model training start ~_~\n",
      "=================================================================\n",
      "Layer (type:depth-idx)                   Param #\n",
      "=================================================================\n",
      "Model                                    --\n",
      "├─Sequential: 1-1                        --\n",
      "│    └─Conv1d: 2-1                       592\n",
      "│    └─ReLU: 2-2                         --\n",
      "│    └─GroupNorm: 2-3                    32\n",
      "│    └─Conv1d: 2-4                       784\n",
      "│    └─ReLU: 2-5                         --\n",
      "│    └─GroupNorm: 2-6                    32\n",
      "│    └─Conv1d: 2-7                       784\n",
      "│    └─ReLU: 2-8                         --\n",
      "│    └─GroupNorm: 2-9                    32\n",
      "│    └─AvgPool1d: 2-10                   --\n",
      "├─Sequential: 1-2                        --\n",
      "│    └─Conv1d: 2-11                      1,568\n",
      "│    └─ReLU: 2-12                        --\n",
      "│    └─GroupNorm: 2-13                   64\n",
      "│    └─Conv1d: 2-14                      3,104\n",
      "│    └─ReLU: 2-15                        --\n",
      "│    └─GroupNorm: 2-16                   64\n",
      "│    └─Conv1d: 2-17                      3,104\n",
      "│    └─ReLU: 2-18                        --\n",
      "│    └─GroupNorm: 2-19                   64\n",
      "│    └─AvgPool1d: 2-20                   --\n",
      "├─Sequential: 1-3                        --\n",
      "│    └─Conv1d: 2-21                      6,208\n",
      "│    └─ReLU: 2-22                        --\n",
      "│    └─GroupNorm: 2-23                   128\n",
      "│    └─Conv1d: 2-24                      12,352\n",
      "│    └─ReLU: 2-25                        --\n",
      "│    └─GroupNorm: 2-26                   128\n",
      "│    └─Conv1d: 2-27                      12,352\n",
      "│    └─ReLU: 2-28                        --\n",
      "│    └─GroupNorm: 2-29                   128\n",
      "│    └─AvgPool1d: 2-30                   --\n",
      "├─Sequential: 1-4                        --\n",
      "│    └─Conv1d: 2-31                      24,704\n",
      "│    └─ReLU: 2-32                        --\n",
      "│    └─GroupNorm: 2-33                   256\n",
      "│    └─Conv1d: 2-34                      49,280\n",
      "│    └─ReLU: 2-35                        --\n",
      "│    └─GroupNorm: 2-36                   256\n",
      "│    └─Conv1d: 2-37                      49,280\n",
      "│    └─ReLU: 2-38                        --\n",
      "│    └─GroupNorm: 2-39                   256\n",
      "│    └─AvgPool1d: 2-40                   --\n",
      "├─AdaptiveAvgPool1d: 1-5                 --\n",
      "├─Sequential: 1-6                        --\n",
      "│    └─Dropout: 2-41                     --\n",
      "│    └─Linear: 2-42                      130\n",
      "=================================================================\n",
      "Total params: 165,682\n",
      "Trainable params: 165,682\n",
      "Non-trainable params: 0\n",
      "=================================================================\n"
     ]
    },
    {
     "name": "stderr",
     "output_type": "stream",
     "text": [
      "/var/folders/wh/7nbvd7tj6j99g3z6knc92ccc0000gn/T/ipykernel_19191/326351055.py:38: UserWarning: nn.init.constant is now deprecated in favor of nn.init.constant_.\n",
      "  nn.init.constant(m.weight, 1)\n",
      "/var/folders/wh/7nbvd7tj6j99g3z6knc92ccc0000gn/T/ipykernel_19191/326351055.py:39: UserWarning: nn.init.constant is now deprecated in favor of nn.init.constant_.\n",
      "  nn.init.constant(m.bias, 0)\n"
     ]
    },
    {
     "data": {
      "application/vnd.jupyter.widget-view+json": {
       "model_id": "ad8e5712447842afb1171d2ceed82128",
       "version_major": 2,
       "version_minor": 0
      },
      "text/plain": [
       "  0%|          | 0/982 [00:00<?, ?it/s]"
      ]
     },
     "metadata": {},
     "output_type": "display_data"
    },
    {
     "name": "stdout",
     "output_type": "stream",
     "text": [
      "Epoch : [1] Train loss : [16.709251702438788]\n",
      "Val Loss : [12.609879420020363]\n",
      "Val L1 : [12.620639163785132]\n",
      "Save Model~_~ MODEL_NAME : Conv1d_ver_7_adult_8.pth\n"
     ]
    },
    {
     "data": {
      "application/vnd.jupyter.widget-view+json": {
       "model_id": "2741f368968c424b80ccf7c0ed17b0a5",
       "version_major": 2,
       "version_minor": 0
      },
      "text/plain": [
       "  0%|          | 0/982 [00:00<?, ?it/s]"
      ]
     },
     "metadata": {},
     "output_type": "display_data"
    },
    {
     "name": "stdout",
     "output_type": "stream",
     "text": [
      "Epoch : [2] Train loss : [11.308018666906415]\n",
      "Val Loss : [10.542329172654586]\n",
      "Val L1 : [10.512473892824014]\n",
      "Save Model~_~ MODEL_NAME : Conv1d_ver_7_adult_8.pth\n"
     ]
    },
    {
     "data": {
      "application/vnd.jupyter.widget-view+json": {
       "model_id": "fb650d6b92e04cb7b0258d15859beb3c",
       "version_major": 2,
       "version_minor": 0
      },
      "text/plain": [
       "  0%|          | 0/982 [00:00<?, ?it/s]"
      ]
     },
     "metadata": {},
     "output_type": "display_data"
    },
    {
     "name": "stdout",
     "output_type": "stream",
     "text": [
      "Epoch : [3] Train loss : [10.285773968259575]\n",
      "Val Loss : [9.35460378039967]\n",
      "Val L1 : [9.343936809769332]\n",
      "Save Model~_~ MODEL_NAME : Conv1d_ver_7_adult_8.pth\n"
     ]
    },
    {
     "data": {
      "application/vnd.jupyter.widget-view+json": {
       "model_id": "b5ff7f46b4e04d0284c0efb49df156fe",
       "version_major": 2,
       "version_minor": 0
      },
      "text/plain": [
       "  0%|          | 0/982 [00:00<?, ?it/s]"
      ]
     },
     "metadata": {},
     "output_type": "display_data"
    },
    {
     "name": "stdout",
     "output_type": "stream",
     "text": [
      "Epoch : [4] Train loss : [9.938419340098706]\n",
      "Val Loss : [9.032456159591675]\n",
      "Val L1 : [9.01329066432308]\n",
      "Save Model~_~ MODEL_NAME : Conv1d_ver_7_adult_8.pth\n"
     ]
    },
    {
     "data": {
      "application/vnd.jupyter.widget-view+json": {
       "model_id": "a07b68f5b9694ebfac93188204314523",
       "version_major": 2,
       "version_minor": 0
      },
      "text/plain": [
       "  0%|          | 0/982 [00:00<?, ?it/s]"
      ]
     },
     "metadata": {},
     "output_type": "display_data"
    },
    {
     "name": "stdout",
     "output_type": "stream",
     "text": [
      "Epoch : [5] Train loss : [9.60973075790949]\n",
      "Val Loss : [8.768517385829579]\n",
      "Val L1 : [8.76511109852176]\n",
      "Save Model~_~ MODEL_NAME : Conv1d_ver_7_adult_8.pth\n"
     ]
    },
    {
     "data": {
      "application/vnd.jupyter.widget-view+json": {
       "model_id": "01d9660d8fda48efa253c426e38d6f8d",
       "version_major": 2,
       "version_minor": 0
      },
      "text/plain": [
       "  0%|          | 0/982 [00:00<?, ?it/s]"
      ]
     },
     "metadata": {},
     "output_type": "display_data"
    },
    {
     "name": "stdout",
     "output_type": "stream",
     "text": [
      "Epoch : [6] Train loss : [9.383350143607425]\n",
      "Val Loss : [8.983713163029064]\n",
      "Val L1 : [9.016208908277802]\n"
     ]
    },
    {
     "data": {
      "application/vnd.jupyter.widget-view+json": {
       "model_id": "faee0375fad448099fbf9c339e607c0a",
       "version_major": 2,
       "version_minor": 0
      },
      "text/plain": [
       "  0%|          | 0/982 [00:00<?, ?it/s]"
      ]
     },
     "metadata": {},
     "output_type": "display_data"
    },
    {
     "name": "stdout",
     "output_type": "stream",
     "text": [
      "Epoch : [7] Train loss : [9.353594732867238]\n",
      "Val Loss : [8.546580271287398]\n",
      "Val L1 : [8.54761708650343]\n",
      "Save Model~_~ MODEL_NAME : Conv1d_ver_7_adult_8.pth\n"
     ]
    },
    {
     "data": {
      "application/vnd.jupyter.widget-view+json": {
       "model_id": "9304d53b23cc4966bfa2da3499af9781",
       "version_major": 2,
       "version_minor": 0
      },
      "text/plain": [
       "  0%|          | 0/982 [00:00<?, ?it/s]"
      ]
     },
     "metadata": {},
     "output_type": "display_data"
    },
    {
     "name": "stdout",
     "output_type": "stream",
     "text": [
      "Epoch : [8] Train loss : [9.151964799449788]\n",
      "Val Loss : [8.593005449121648]\n",
      "Val L1 : [8.627952794290888]\n"
     ]
    },
    {
     "data": {
      "application/vnd.jupyter.widget-view+json": {
       "model_id": "7e2d3f4120394e43ace77326d8c0bbc8",
       "version_major": 2,
       "version_minor": 0
      },
      "text/plain": [
       "  0%|          | 0/982 [00:00<?, ?it/s]"
      ]
     },
     "metadata": {},
     "output_type": "display_data"
    },
    {
     "name": "stdout",
     "output_type": "stream",
     "text": [
      "Epoch : [9] Train loss : [9.071311502009934]\n",
      "Val Loss : [8.673775612224231]\n",
      "Val L1 : [8.681672754260394]\n"
     ]
    },
    {
     "data": {
      "application/vnd.jupyter.widget-view+json": {
       "model_id": "b68d9e90000f431982dc43f2a65385c5",
       "version_major": 2,
       "version_minor": 0
      },
      "text/plain": [
       "  0%|          | 0/982 [00:00<?, ?it/s]"
      ]
     },
     "metadata": {},
     "output_type": "display_data"
    },
    {
     "name": "stdout",
     "output_type": "stream",
     "text": [
      "Epoch : [10] Train loss : [9.059311533168474]\n",
      "Val Loss : [8.871544417467984]\n",
      "Val L1 : [8.883842482197934]\n"
     ]
    },
    {
     "data": {
      "application/vnd.jupyter.widget-view+json": {
       "model_id": "92d7b2f91ddb4b9a8ea19eb4854b6433",
       "version_major": 2,
       "version_minor": 0
      },
      "text/plain": [
       "  0%|          | 0/982 [00:00<?, ?it/s]"
      ]
     },
     "metadata": {},
     "output_type": "display_data"
    },
    {
     "name": "stdout",
     "output_type": "stream",
     "text": [
      "Epoch : [11] Train loss : [8.944230911930807]\n",
      "Val Loss : [8.60992098721591]\n",
      "Val L1 : [8.592721044436567]\n"
     ]
    },
    {
     "data": {
      "application/vnd.jupyter.widget-view+json": {
       "model_id": "8359d73dfa684b38a0efa06262ba8793",
       "version_major": 2,
       "version_minor": 0
      },
      "text/plain": [
       "  0%|          | 0/982 [00:00<?, ?it/s]"
      ]
     },
     "metadata": {},
     "output_type": "display_data"
    },
    {
     "name": "stdout",
     "output_type": "stream",
     "text": [
      "Epoch : [12] Train loss : [8.853028810679792]\n",
      "Val Loss : [8.44246808832342]\n",
      "Val L1 : [8.421044472637012]\n",
      "Save Model~_~ MODEL_NAME : Conv1d_ver_7_adult_8.pth\n"
     ]
    },
    {
     "data": {
      "application/vnd.jupyter.widget-view+json": {
       "model_id": "e42c7fa69ce2458cab4e02f82c6526a8",
       "version_major": 2,
       "version_minor": 0
      },
      "text/plain": [
       "  0%|          | 0/982 [00:00<?, ?it/s]"
      ]
     },
     "metadata": {},
     "output_type": "display_data"
    },
    {
     "name": "stdout",
     "output_type": "stream",
     "text": [
      "Epoch : [13] Train loss : [8.828804515772584]\n",
      "Val Loss : [8.512477445602418]\n",
      "Val L1 : [8.481441462279049]\n"
     ]
    },
    {
     "data": {
      "application/vnd.jupyter.widget-view+json": {
       "model_id": "d372a08f5f63489197fea747c8a3cca9",
       "version_major": 2,
       "version_minor": 0
      },
      "text/plain": [
       "  0%|          | 0/982 [00:00<?, ?it/s]"
      ]
     },
     "metadata": {},
     "output_type": "display_data"
    },
    {
     "name": "stdout",
     "output_type": "stream",
     "text": [
      "Epoch : [14] Train loss : [8.755211497032958]\n",
      "Val Loss : [8.255921910025856]\n",
      "Val L1 : [8.228837174194249]\n",
      "Save Model~_~ MODEL_NAME : Conv1d_ver_7_adult_8.pth\n"
     ]
    },
    {
     "data": {
      "application/vnd.jupyter.widget-view+json": {
       "model_id": "b5e6b7391eb042ec9500dae33e2c049a",
       "version_major": 2,
       "version_minor": 0
      },
      "text/plain": [
       "  0%|          | 0/982 [00:00<?, ?it/s]"
      ]
     },
     "metadata": {},
     "output_type": "display_data"
    },
    {
     "name": "stdout",
     "output_type": "stream",
     "text": [
      "Epoch : [15] Train loss : [8.743401976564023]\n",
      "Val Loss : [8.564436036890203]\n",
      "Val L1 : [8.550422919855418]\n"
     ]
    },
    {
     "data": {
      "application/vnd.jupyter.widget-view+json": {
       "model_id": "0c286fb37f5643afb2a3dd9eab6ca46a",
       "version_major": 2,
       "version_minor": 0
      },
      "text/plain": [
       "  0%|          | 0/982 [00:00<?, ?it/s]"
      ]
     },
     "metadata": {},
     "output_type": "display_data"
    },
    {
     "name": "stdout",
     "output_type": "stream",
     "text": [
      "Epoch : [16] Train loss : [8.685923790009104]\n",
      "Val Loss : [8.296839466961947]\n",
      "Val L1 : [8.2835470740638]\n"
     ]
    },
    {
     "data": {
      "application/vnd.jupyter.widget-view+json": {
       "model_id": "a01774bb72b14572946e2b11af826a7e",
       "version_major": 2,
       "version_minor": 0
      },
      "text/plain": [
       "  0%|          | 0/982 [00:00<?, ?it/s]"
      ]
     },
     "metadata": {},
     "output_type": "display_data"
    },
    {
     "name": "stdout",
     "output_type": "stream",
     "text": [
      "Epoch : [17] Train loss : [8.61164958073991]\n",
      "Val Loss : [8.51443905396895]\n",
      "Val L1 : [8.510447114108285]\n"
     ]
    },
    {
     "data": {
      "application/vnd.jupyter.widget-view+json": {
       "model_id": "d5aa24feb8334d7da5505b2adc7afc53",
       "version_major": 2,
       "version_minor": 0
      },
      "text/plain": [
       "  0%|          | 0/982 [00:00<?, ?it/s]"
      ]
     },
     "metadata": {},
     "output_type": "display_data"
    },
    {
     "name": "stdout",
     "output_type": "stream",
     "text": [
      "Epoch : [18] Train loss : [8.575385939079487]\n",
      "Val Loss : [8.447883762012829]\n",
      "Val L1 : [8.410910242129875]\n"
     ]
    },
    {
     "data": {
      "application/vnd.jupyter.widget-view+json": {
       "model_id": "422f51ef50e247fba699da90f8b69fa5",
       "version_major": 2,
       "version_minor": 0
      },
      "text/plain": [
       "  0%|          | 0/982 [00:00<?, ?it/s]"
      ]
     },
     "metadata": {},
     "output_type": "display_data"
    },
    {
     "name": "stdout",
     "output_type": "stream",
     "text": [
      "Epoch : [19] Train loss : [8.577021452657075]\n",
      "Val Loss : [8.204448799653488]\n",
      "Val L1 : [8.219712866206565]\n",
      "Save Model~_~ MODEL_NAME : Conv1d_ver_7_adult_8.pth\n"
     ]
    },
    {
     "data": {
      "application/vnd.jupyter.widget-view+json": {
       "model_id": "659458e6f7224db69f671ad93664a24b",
       "version_major": 2,
       "version_minor": 0
      },
      "text/plain": [
       "  0%|          | 0/982 [00:00<?, ?it/s]"
      ]
     },
     "metadata": {},
     "output_type": "display_data"
    },
    {
     "name": "stdout",
     "output_type": "stream",
     "text": [
      "Epoch : [20] Train loss : [8.538643404325496]\n",
      "Val Loss : [8.148332543806596]\n",
      "Val L1 : [8.158260317040035]\n",
      "Save Model~_~ MODEL_NAME : Conv1d_ver_7_adult_8.pth\n"
     ]
    },
    {
     "data": {
      "application/vnd.jupyter.widget-view+json": {
       "model_id": "2bf3ada5e2504766bea392aef3c2f2b6",
       "version_major": 2,
       "version_minor": 0
      },
      "text/plain": [
       "  0%|          | 0/982 [00:00<?, ?it/s]"
      ]
     },
     "metadata": {},
     "output_type": "display_data"
    },
    {
     "name": "stdout",
     "output_type": "stream",
     "text": [
      "Epoch : [21] Train loss : [8.51342149227554]\n",
      "Val Loss : [8.258493973992088]\n",
      "Val L1 : [8.242756893300054]\n"
     ]
    },
    {
     "data": {
      "application/vnd.jupyter.widget-view+json": {
       "model_id": "4014882cda9041d7b1cd01a8d5c80124",
       "version_major": 2,
       "version_minor": 0
      },
      "text/plain": [
       "  0%|          | 0/982 [00:00<?, ?it/s]"
      ]
     },
     "metadata": {},
     "output_type": "display_data"
    },
    {
     "name": "stdout",
     "output_type": "stream",
     "text": [
      "Epoch : [22] Train loss : [8.471523651523162]\n",
      "Val Loss : [7.997427038712935]\n",
      "Val L1 : [7.98854595446655]\n",
      "Save Model~_~ MODEL_NAME : Conv1d_ver_7_adult_8.pth\n"
     ]
    },
    {
     "data": {
      "application/vnd.jupyter.widget-view+json": {
       "model_id": "2de3c6cea9634c82871ac55d6c5d332c",
       "version_major": 2,
       "version_minor": 0
      },
      "text/plain": [
       "  0%|          | 0/982 [00:00<?, ?it/s]"
      ]
     },
     "metadata": {},
     "output_type": "display_data"
    },
    {
     "name": "stdout",
     "output_type": "stream",
     "text": [
      "Epoch : [23] Train loss : [8.387577379308262]\n",
      "Val Loss : [8.12316175807606]\n",
      "Val L1 : [8.117838349110077]\n"
     ]
    },
    {
     "data": {
      "application/vnd.jupyter.widget-view+json": {
       "model_id": "42357bc5c2c347098c1b9c3382d4be9e",
       "version_major": 2,
       "version_minor": 0
      },
      "text/plain": [
       "  0%|          | 0/982 [00:00<?, ?it/s]"
      ]
     },
     "metadata": {},
     "output_type": "display_data"
    },
    {
     "name": "stdout",
     "output_type": "stream",
     "text": [
      "Epoch : [24] Train loss : [8.377023997957497]\n",
      "Val Loss : [8.346446873924949]\n",
      "Val L1 : [8.322548709967759]\n"
     ]
    },
    {
     "data": {
      "application/vnd.jupyter.widget-view+json": {
       "model_id": "a94ed91057d744aa98c66748e090a4bf",
       "version_major": 2,
       "version_minor": 0
      },
      "text/plain": [
       "  0%|          | 0/982 [00:00<?, ?it/s]"
      ]
     },
     "metadata": {},
     "output_type": "display_data"
    },
    {
     "name": "stdout",
     "output_type": "stream",
     "text": [
      "Epoch : [25] Train loss : [8.307720817519302]\n",
      "Val Loss : [8.051516337828202]\n",
      "Val L1 : [8.037581887559426]\n"
     ]
    },
    {
     "data": {
      "application/vnd.jupyter.widget-view+json": {
       "model_id": "0768652467eb45a5a86c3551d182a92d",
       "version_major": 2,
       "version_minor": 0
      },
      "text/plain": [
       "  0%|          | 0/982 [00:00<?, ?it/s]"
      ]
     },
     "metadata": {},
     "output_type": "display_data"
    },
    {
     "name": "stdout",
     "output_type": "stream",
     "text": [
      "Epoch : [26] Train loss : [8.330253697218575]\n",
      "Val Loss : [8.699401010166515]\n",
      "Val L1 : [8.696008898945456]\n"
     ]
    },
    {
     "data": {
      "application/vnd.jupyter.widget-view+json": {
       "model_id": "1f535d01789a4befaf92dda3e5e118d1",
       "version_major": 2,
       "version_minor": 0
      },
      "text/plain": [
       "  0%|          | 0/982 [00:00<?, ?it/s]"
      ]
     },
     "metadata": {},
     "output_type": "display_data"
    },
    {
     "name": "stdout",
     "output_type": "stream",
     "text": [
      "Epoch : [27] Train loss : [8.270529775172776]\n",
      "Val Loss : [8.02731859033758]\n",
      "Val L1 : [8.022737600605263]\n"
     ]
    },
    {
     "data": {
      "application/vnd.jupyter.widget-view+json": {
       "model_id": "adeea5714a3d40eda8d4d47ca7e09116",
       "version_major": 2,
       "version_minor": 0
      },
      "text/plain": [
       "  0%|          | 0/982 [00:00<?, ?it/s]"
      ]
     },
     "metadata": {},
     "output_type": "display_data"
    },
    {
     "name": "stdout",
     "output_type": "stream",
     "text": [
      "Epoch : [28] Train loss : [8.231900100552624]\n",
      "Val Loss : [8.52583455172452]\n",
      "Val L1 : [8.562606157067854]\n"
     ]
    },
    {
     "data": {
      "application/vnd.jupyter.widget-view+json": {
       "model_id": "dfcf53d4a32748f99c304185619f79ec",
       "version_major": 2,
       "version_minor": 0
      },
      "text/plain": [
       "  0%|          | 0/982 [00:00<?, ?it/s]"
      ]
     },
     "metadata": {},
     "output_type": "display_data"
    },
    {
     "name": "stdout",
     "output_type": "stream",
     "text": [
      "Epoch : [29] Train loss : [8.209946028326776]\n",
      "Val Loss : [7.990627856688066]\n",
      "Val L1 : [7.979781340459698]\n",
      "Save Model~_~ MODEL_NAME : Conv1d_ver_7_adult_8.pth\n"
     ]
    },
    {
     "data": {
      "application/vnd.jupyter.widget-view+json": {
       "model_id": "bfcb9352488a42ecbef3bf8019331641",
       "version_major": 2,
       "version_minor": 0
      },
      "text/plain": [
       "  0%|          | 0/982 [00:00<?, ?it/s]"
      ]
     },
     "metadata": {},
     "output_type": "display_data"
    },
    {
     "name": "stdout",
     "output_type": "stream",
     "text": [
      "Epoch : [30] Train loss : [8.155799202909295]\n",
      "Val Loss : [7.897122937982733]\n",
      "Val L1 : [7.929031313729491]\n",
      "Save Model~_~ MODEL_NAME : Conv1d_ver_7_adult_8.pth\n"
     ]
    },
    {
     "data": {
      "application/vnd.jupyter.widget-view+json": {
       "model_id": "338cbddf5dcd4da9b05dc8c5436a4e9f",
       "version_major": 2,
       "version_minor": 0
      },
      "text/plain": [
       "  0%|          | 0/982 [00:00<?, ?it/s]"
      ]
     },
     "metadata": {},
     "output_type": "display_data"
    },
    {
     "name": "stdout",
     "output_type": "stream",
     "text": [
      "Epoch : [31] Train loss : [8.131378841011685]\n",
      "Val Loss : [8.007731142911044]\n",
      "Val L1 : [8.039122220984844]\n"
     ]
    },
    {
     "data": {
      "application/vnd.jupyter.widget-view+json": {
       "model_id": "27d25563af6a459aa494640d5b733e7d",
       "version_major": 2,
       "version_minor": 0
      },
      "text/plain": [
       "  0%|          | 0/982 [00:00<?, ?it/s]"
      ]
     },
     "metadata": {},
     "output_type": "display_data"
    },
    {
     "name": "stdout",
     "output_type": "stream",
     "text": [
      "Epoch : [32] Train loss : [8.149861502793073]\n",
      "Val Loss : [8.09428919878873]\n",
      "Val L1 : [8.096950541936224]\n"
     ]
    },
    {
     "data": {
      "application/vnd.jupyter.widget-view+json": {
       "model_id": "b61405d409724929833dfbea22bfe6dc",
       "version_major": 2,
       "version_minor": 0
      },
      "text/plain": [
       "  0%|          | 0/982 [00:00<?, ?it/s]"
      ]
     },
     "metadata": {},
     "output_type": "display_data"
    },
    {
     "name": "stdout",
     "output_type": "stream",
     "text": [
      "Epoch : [33] Train loss : [8.096785047632128]\n",
      "Val Loss : [7.949754420193758]\n",
      "Val L1 : [7.943757779413787]\n"
     ]
    },
    {
     "data": {
      "application/vnd.jupyter.widget-view+json": {
       "model_id": "bf051b7b48b24c689e3dca52e0b1331e",
       "version_major": 2,
       "version_minor": 0
      },
      "text/plain": [
       "  0%|          | 0/982 [00:00<?, ?it/s]"
      ]
     },
     "metadata": {},
     "output_type": "display_data"
    },
    {
     "name": "stdout",
     "output_type": "stream",
     "text": [
      "Epoch : [34] Train loss : [8.02987652349375]\n",
      "Val Loss : [7.812485863945701]\n",
      "Val L1 : [7.8070196829416005]\n",
      "Save Model~_~ MODEL_NAME : Conv1d_ver_7_adult_8.pth\n"
     ]
    },
    {
     "data": {
      "application/vnd.jupyter.widget-view+json": {
       "model_id": "e2f33df385cd493fbaf6f81448feca05",
       "version_major": 2,
       "version_minor": 0
      },
      "text/plain": [
       "  0%|          | 0/982 [00:00<?, ?it/s]"
      ]
     },
     "metadata": {},
     "output_type": "display_data"
    },
    {
     "name": "stdout",
     "output_type": "stream",
     "text": [
      "Epoch : [35] Train loss : [8.029814312268662]\n",
      "Val Loss : [8.102965250882235]\n",
      "Val L1 : [8.120263547268843]\n"
     ]
    },
    {
     "data": {
      "application/vnd.jupyter.widget-view+json": {
       "model_id": "691977a184944813ad5d5aebbff3b098",
       "version_major": 2,
       "version_minor": 0
      },
      "text/plain": [
       "  0%|          | 0/982 [00:00<?, ?it/s]"
      ]
     },
     "metadata": {},
     "output_type": "display_data"
    },
    {
     "name": "stdout",
     "output_type": "stream",
     "text": [
      "Epoch : [36] Train loss : [8.025658220963177]\n",
      "Val Loss : [8.022535952654751]\n",
      "Val L1 : [7.980674743379085]\n"
     ]
    },
    {
     "data": {
      "application/vnd.jupyter.widget-view+json": {
       "model_id": "1b723b43fb9643fd891a462ed1df873c",
       "version_major": 2,
       "version_minor": 0
      },
      "text/plain": [
       "  0%|          | 0/982 [00:00<?, ?it/s]"
      ]
     },
     "metadata": {},
     "output_type": "display_data"
    },
    {
     "name": "stdout",
     "output_type": "stream",
     "text": [
      "Epoch : [37] Train loss : [7.9894889692667785]\n",
      "Val Loss : [8.093002544749867]\n",
      "Val L1 : [8.082991870563147]\n"
     ]
    },
    {
     "data": {
      "application/vnd.jupyter.widget-view+json": {
       "model_id": "4a72385ffade4e828de9462dbf1d8d40",
       "version_major": 2,
       "version_minor": 0
      },
      "text/plain": [
       "  0%|          | 0/982 [00:00<?, ?it/s]"
      ]
     },
     "metadata": {},
     "output_type": "display_data"
    },
    {
     "name": "stdout",
     "output_type": "stream",
     "text": [
      "Epoch : [38] Train loss : [7.922113709925634]\n",
      "Val Loss : [8.231143934076483]\n",
      "Val L1 : [8.25951738330218]\n"
     ]
    },
    {
     "data": {
      "application/vnd.jupyter.widget-view+json": {
       "model_id": "aedaddb5d6ff401982c41ca0fe7dd686",
       "version_major": 2,
       "version_minor": 0
      },
      "text/plain": [
       "  0%|          | 0/982 [00:00<?, ?it/s]"
      ]
     },
     "metadata": {},
     "output_type": "display_data"
    },
    {
     "name": "stdout",
     "output_type": "stream",
     "text": [
      "Epoch : [39] Train loss : [7.8594761283237435]\n",
      "Val Loss : [8.026517204804854]\n",
      "Val L1 : [8.019962995851621]\n"
     ]
    },
    {
     "data": {
      "application/vnd.jupyter.widget-view+json": {
       "model_id": "bbc70336874940e68a965110369b0dfc",
       "version_major": 2,
       "version_minor": 0
      },
      "text/plain": [
       "  0%|          | 0/982 [00:00<?, ?it/s]"
      ]
     },
     "metadata": {},
     "output_type": "display_data"
    },
    {
     "name": "stdout",
     "output_type": "stream",
     "text": [
      "Epoch : [40] Train loss : [7.855188510568468]\n",
      "Val Loss : [8.081166458129882]\n",
      "Val L1 : [8.091188256993334]\n"
     ]
    },
    {
     "data": {
      "application/vnd.jupyter.widget-view+json": {
       "model_id": "67ff794d13a248139dbd497084c62d69",
       "version_major": 2,
       "version_minor": 0
      },
      "text/plain": [
       "  0%|          | 0/982 [00:00<?, ?it/s]"
      ]
     },
     "metadata": {},
     "output_type": "display_data"
    },
    {
     "name": "stdout",
     "output_type": "stream",
     "text": [
      "Epoch : [41] Train loss : [7.813974670382964]\n",
      "Val Loss : [7.97942569472573]\n",
      "Val L1 : [8.003144341280262]\n"
     ]
    },
    {
     "data": {
      "application/vnd.jupyter.widget-view+json": {
       "model_id": "e5883538932a4c4f9097596aeed7ffb1",
       "version_major": 2,
       "version_minor": 0
      },
      "text/plain": [
       "  0%|          | 0/982 [00:00<?, ?it/s]"
      ]
     },
     "metadata": {},
     "output_type": "display_data"
    },
    {
     "name": "stdout",
     "output_type": "stream",
     "text": [
      "Epoch : [42] Train loss : [7.8188858168188275]\n",
      "Val Loss : [7.870144874399359]\n",
      "Val L1 : [7.85790572426039]\n"
     ]
    },
    {
     "data": {
      "application/vnd.jupyter.widget-view+json": {
       "model_id": "2f9412ecd6d84055842e46939993f786",
       "version_major": 2,
       "version_minor": 0
      },
      "text/plain": [
       "  0%|          | 0/982 [00:00<?, ?it/s]"
      ]
     },
     "metadata": {},
     "output_type": "display_data"
    },
    {
     "name": "stdout",
     "output_type": "stream",
     "text": [
      "Epoch : [43] Train loss : [7.768546945937054]\n",
      "Val Loss : [7.896913714842363]\n",
      "Val L1 : [7.89680742684613]\n"
     ]
    },
    {
     "data": {
      "application/vnd.jupyter.widget-view+json": {
       "model_id": "3313a549546c48519d1087731f6bdc4e",
       "version_major": 2,
       "version_minor": 0
      },
      "text/plain": [
       "  0%|          | 0/982 [00:00<?, ?it/s]"
      ]
     },
     "metadata": {},
     "output_type": "display_data"
    },
    {
     "name": "stdout",
     "output_type": "stream",
     "text": [
      "Epoch : [44] Train loss : [7.741553056992727]\n",
      "Val Loss : [7.830056251179088]\n",
      "Val L1 : [7.828659839958038]\n"
     ]
    },
    {
     "data": {
      "application/vnd.jupyter.widget-view+json": {
       "model_id": "71aa7cf204a64260ba6ed0ef0d3b6829",
       "version_major": 2,
       "version_minor": 0
      },
      "text/plain": [
       "  0%|          | 0/982 [00:00<?, ?it/s]"
      ]
     },
     "metadata": {},
     "output_type": "display_data"
    },
    {
     "name": "stdout",
     "output_type": "stream",
     "text": [
      "Epoch : [45] Train loss : [7.750043969533109]\n",
      "Val Loss : [7.727111122824929]\n",
      "Val L1 : [7.746053906088231]\n",
      "Save Model~_~ MODEL_NAME : Conv1d_ver_7_adult_8.pth\n"
     ]
    },
    {
     "data": {
      "application/vnd.jupyter.widget-view+json": {
       "model_id": "a5847a9a87bd4c51b6318247d91bdf6c",
       "version_major": 2,
       "version_minor": 0
      },
      "text/plain": [
       "  0%|          | 0/982 [00:00<?, ?it/s]"
      ]
     },
     "metadata": {},
     "output_type": "display_data"
    },
    {
     "name": "stdout",
     "output_type": "stream",
     "text": [
      "Epoch : [46] Train loss : [7.732313120680768]\n",
      "Val Loss : [8.017683844132858]\n",
      "Val L1 : [8.028408383366713]\n"
     ]
    },
    {
     "data": {
      "application/vnd.jupyter.widget-view+json": {
       "model_id": "a2fdd90b8e9b4d6098a75cc9ba71e071",
       "version_major": 2,
       "version_minor": 0
      },
      "text/plain": [
       "  0%|          | 0/982 [00:00<?, ?it/s]"
      ]
     },
     "metadata": {},
     "output_type": "display_data"
    },
    {
     "name": "stdout",
     "output_type": "stream",
     "text": [
      "Epoch : [47] Train loss : [7.694300293679635]\n",
      "Val Loss : [7.811865641854026]\n",
      "Val L1 : [7.8241602594326425]\n"
     ]
    },
    {
     "data": {
      "application/vnd.jupyter.widget-view+json": {
       "model_id": "46db0e819dd94c07924d28c00cd00f2a",
       "version_major": 2,
       "version_minor": 0
      },
      "text/plain": [
       "  0%|          | 0/982 [00:00<?, ?it/s]"
      ]
     },
     "metadata": {},
     "output_type": "display_data"
    },
    {
     "name": "stdout",
     "output_type": "stream",
     "text": [
      "Epoch : [48] Train loss : [7.698139252342178]\n",
      "Val Loss : [7.842049390619452]\n",
      "Val L1 : [7.82940946923286]\n"
     ]
    },
    {
     "data": {
      "application/vnd.jupyter.widget-view+json": {
       "model_id": "0265dd3083704e40bb700f883f4b267d",
       "version_major": 2,
       "version_minor": 0
      },
      "text/plain": [
       "  0%|          | 0/982 [00:00<?, ?it/s]"
      ]
     },
     "metadata": {},
     "output_type": "display_data"
    },
    {
     "name": "stdout",
     "output_type": "stream",
     "text": [
      "Epoch : [49] Train loss : [7.625723488704736]\n",
      "Val Loss : [7.9044793215664955]\n",
      "Val L1 : [7.859609362320777]\n"
     ]
    },
    {
     "data": {
      "application/vnd.jupyter.widget-view+json": {
       "model_id": "524833f0c233456a9e9c8414d19b4073",
       "version_major": 2,
       "version_minor": 0
      },
      "text/plain": [
       "  0%|          | 0/982 [00:00<?, ?it/s]"
      ]
     },
     "metadata": {},
     "output_type": "display_data"
    },
    {
     "name": "stdout",
     "output_type": "stream",
     "text": [
      "Epoch : [50] Train loss : [7.621003871537032]\n",
      "Val Loss : [7.9191520604220305]\n",
      "Val L1 : [7.922712851800345]\n"
     ]
    },
    {
     "data": {
      "application/vnd.jupyter.widget-view+json": {
       "model_id": "b7c97e22bec443cfb1385f09cf22b628",
       "version_major": 2,
       "version_minor": 0
      },
      "text/plain": [
       "  0%|          | 0/982 [00:00<?, ?it/s]"
      ]
     },
     "metadata": {},
     "output_type": "display_data"
    },
    {
     "name": "stdout",
     "output_type": "stream",
     "text": [
      "Epoch : [51] Train loss : [7.591825606623881]\n",
      "Val Loss : [7.913689296895807]\n",
      "Val L1 : [7.953016511212105]\n"
     ]
    },
    {
     "data": {
      "application/vnd.jupyter.widget-view+json": {
       "model_id": "f98a231b1fea4eec9f3b0c22e560e57c",
       "version_major": 2,
       "version_minor": 0
      },
      "text/plain": [
       "  0%|          | 0/982 [00:00<?, ?it/s]"
      ]
     },
     "metadata": {},
     "output_type": "display_data"
    },
    {
     "name": "stdout",
     "output_type": "stream",
     "text": [
      "Epoch : [52] Train loss : [7.630423574972055]\n",
      "Val Loss : [8.000425884940407]\n",
      "Val L1 : [7.9990649860021374]\n"
     ]
    },
    {
     "data": {
      "application/vnd.jupyter.widget-view+json": {
       "model_id": "a074601dd72143b8afe0ac9b9004df7c",
       "version_major": 2,
       "version_minor": 0
      },
      "text/plain": [
       "  0%|          | 0/982 [00:00<?, ?it/s]"
      ]
     },
     "metadata": {},
     "output_type": "display_data"
    },
    {
     "name": "stdout",
     "output_type": "stream",
     "text": [
      "Epoch : [53] Train loss : [7.514978816698622]\n",
      "Val Loss : [8.081891896507956]\n",
      "Val L1 : [8.095591908539605]\n"
     ]
    },
    {
     "data": {
      "application/vnd.jupyter.widget-view+json": {
       "model_id": "69fc73b3ca194d9da0856d3e67ee77e2",
       "version_major": 2,
       "version_minor": 0
      },
      "text/plain": [
       "  0%|          | 0/982 [00:00<?, ?it/s]"
      ]
     },
     "metadata": {},
     "output_type": "display_data"
    },
    {
     "name": "stdout",
     "output_type": "stream",
     "text": [
      "Epoch : [54] Train loss : [7.511402193252035]\n",
      "Val Loss : [7.8834196350791235]\n",
      "Val L1 : [7.923987063432492]\n"
     ]
    },
    {
     "data": {
      "application/vnd.jupyter.widget-view+json": {
       "model_id": "466834b7800a43f6a9f4af591634d1b9",
       "version_major": 2,
       "version_minor": 0
      },
      "text/plain": [
       "  0%|          | 0/982 [00:00<?, ?it/s]"
      ]
     },
     "metadata": {},
     "output_type": "display_data"
    },
    {
     "name": "stdout",
     "output_type": "stream",
     "text": [
      "Epoch : [55] Train loss : [7.503397237501902]\n",
      "Val Loss : [7.823564373363148]\n",
      "Val L1 : [7.837064232593963]\n"
     ]
    },
    {
     "data": {
      "application/vnd.jupyter.widget-view+json": {
       "model_id": "17644e1e56f54b81be72ee79ac6ba253",
       "version_major": 2,
       "version_minor": 0
      },
      "text/plain": [
       "  0%|          | 0/982 [00:00<?, ?it/s]"
      ]
     },
     "metadata": {},
     "output_type": "display_data"
    },
    {
     "name": "stdout",
     "output_type": "stream",
     "text": [
      "Epoch : [56] Train loss : [7.5024914590987075]\n",
      "Val Loss : [8.340897872231224]\n",
      "Val L1 : [8.301017615310101]\n",
      "Epoch 00056: reducing learning rate of group 0 to 5.0000e-04.\n"
     ]
    },
    {
     "data": {
      "application/vnd.jupyter.widget-view+json": {
       "model_id": "42ec96ab6c5d49689ed4f312fcb89300",
       "version_major": 2,
       "version_minor": 0
      },
      "text/plain": [
       "  0%|          | 0/982 [00:00<?, ?it/s]"
      ]
     },
     "metadata": {},
     "output_type": "display_data"
    },
    {
     "name": "stdout",
     "output_type": "stream",
     "text": [
      "Epoch : [57] Train loss : [7.077895679201953]\n",
      "Val Loss : [7.718024982105602]\n",
      "Val L1 : [7.706043797031173]\n",
      "Save Model~_~ MODEL_NAME : Conv1d_ver_7_adult_8.pth\n"
     ]
    },
    {
     "data": {
      "application/vnd.jupyter.widget-view+json": {
       "model_id": "3a01bcb455a14cc294eb55a54f7c4c6d",
       "version_major": 2,
       "version_minor": 0
      },
      "text/plain": [
       "  0%|          | 0/982 [00:00<?, ?it/s]"
      ]
     },
     "metadata": {},
     "output_type": "display_data"
    },
    {
     "name": "stdout",
     "output_type": "stream",
     "text": [
      "Epoch : [58] Train loss : [7.026103077012507]\n",
      "Val Loss : [7.899279871853915]\n",
      "Val L1 : [7.927869681437582]\n"
     ]
    },
    {
     "data": {
      "application/vnd.jupyter.widget-view+json": {
       "model_id": "6ecb8cff59124ea4a3e114e0772ebaa7",
       "version_major": 2,
       "version_minor": 0
      },
      "text/plain": [
       "  0%|          | 0/982 [00:00<?, ?it/s]"
      ]
     },
     "metadata": {},
     "output_type": "display_data"
    },
    {
     "name": "stdout",
     "output_type": "stream",
     "text": [
      "Epoch : [59] Train loss : [6.943010180642308]\n",
      "Val Loss : [7.692489238218828]\n",
      "Val L1 : [7.713887480268506]\n",
      "Save Model~_~ MODEL_NAME : Conv1d_ver_7_adult_8.pth\n"
     ]
    },
    {
     "data": {
      "application/vnd.jupyter.widget-view+json": {
       "model_id": "e36d5687af614c6fb17d312fe41a7e77",
       "version_major": 2,
       "version_minor": 0
      },
      "text/plain": [
       "  0%|          | 0/982 [00:00<?, ?it/s]"
      ]
     },
     "metadata": {},
     "output_type": "display_data"
    },
    {
     "name": "stdout",
     "output_type": "stream",
     "text": [
      "Epoch : [60] Train loss : [6.890458218191889]\n",
      "Val Loss : [7.838184681805697]\n",
      "Val L1 : [7.840258302114754]\n"
     ]
    },
    {
     "data": {
      "application/vnd.jupyter.widget-view+json": {
       "model_id": "123d5855fdcb40ae862bde914c80dca4",
       "version_major": 2,
       "version_minor": 0
      },
      "text/plain": [
       "  0%|          | 0/982 [00:00<?, ?it/s]"
      ]
     },
     "metadata": {},
     "output_type": "display_data"
    },
    {
     "name": "stdout",
     "output_type": "stream",
     "text": [
      "Epoch : [61] Train loss : [6.85503359433347]\n",
      "Val Loss : [7.72831413529136]\n",
      "Val L1 : [7.7301879276177266]\n"
     ]
    },
    {
     "data": {
      "application/vnd.jupyter.widget-view+json": {
       "model_id": "6bdbd83ffa874a52a7f6cf35e5e988b3",
       "version_major": 2,
       "version_minor": 0
      },
      "text/plain": [
       "  0%|          | 0/982 [00:00<?, ?it/s]"
      ]
     },
     "metadata": {},
     "output_type": "display_data"
    },
    {
     "name": "stdout",
     "output_type": "stream",
     "text": [
      "Epoch : [62] Train loss : [6.737140799248534]\n",
      "Val Loss : [7.958159203962846]\n",
      "Val L1 : [7.939682257961065]\n"
     ]
    },
    {
     "data": {
      "application/vnd.jupyter.widget-view+json": {
       "model_id": "fe729cecdac942959a5ad005cb2e4d63",
       "version_major": 2,
       "version_minor": 0
      },
      "text/plain": [
       "  0%|          | 0/982 [00:00<?, ?it/s]"
      ]
     },
     "metadata": {},
     "output_type": "display_data"
    },
    {
     "name": "stdout",
     "output_type": "stream",
     "text": [
      "Epoch : [63] Train loss : [6.734916320157876]\n",
      "Val Loss : [7.799825911088424]\n",
      "Val L1 : [7.808320402347597]\n"
     ]
    },
    {
     "data": {
      "application/vnd.jupyter.widget-view+json": {
       "model_id": "f8bc5a7839934a5db1a1a15280a6ef8d",
       "version_major": 2,
       "version_minor": 0
      },
      "text/plain": [
       "  0%|          | 0/982 [00:00<?, ?it/s]"
      ]
     },
     "metadata": {},
     "output_type": "display_data"
    },
    {
     "name": "stdout",
     "output_type": "stream",
     "text": [
      "Epoch : [64] Train loss : [6.708824933667775]\n",
      "Val Loss : [7.864699987931685]\n",
      "Val L1 : [7.859183663693403]\n"
     ]
    },
    {
     "data": {
      "application/vnd.jupyter.widget-view+json": {
       "model_id": "6f10883c4c364ca2abbcf16fe71de253",
       "version_major": 2,
       "version_minor": 0
      },
      "text/plain": [
       "  0%|          | 0/982 [00:00<?, ?it/s]"
      ]
     },
     "metadata": {},
     "output_type": "display_data"
    },
    {
     "name": "stdout",
     "output_type": "stream",
     "text": [
      "Epoch : [65] Train loss : [6.649396083505479]\n",
      "Val Loss : [7.979855372688987]\n",
      "Val L1 : [7.966079348479438]\n"
     ]
    },
    {
     "data": {
      "application/vnd.jupyter.widget-view+json": {
       "model_id": "63f5248a18ad4ac791ef2073bc9efb93",
       "version_major": 2,
       "version_minor": 0
      },
      "text/plain": [
       "  0%|          | 0/982 [00:00<?, ?it/s]"
      ]
     },
     "metadata": {},
     "output_type": "display_data"
    },
    {
     "name": "stdout",
     "output_type": "stream",
     "text": [
      "Epoch : [66] Train loss : [6.63162847983133]\n",
      "Val Loss : [7.895265479521318]\n",
      "Val L1 : [7.89112704695125]\n"
     ]
    },
    {
     "data": {
      "application/vnd.jupyter.widget-view+json": {
       "model_id": "c4f419f6d0bf49f281f9305e6e4be64a",
       "version_major": 2,
       "version_minor": 0
      },
      "text/plain": [
       "  0%|          | 0/982 [00:00<?, ?it/s]"
      ]
     },
     "metadata": {},
     "output_type": "display_data"
    },
    {
     "name": "stdout",
     "output_type": "stream",
     "text": [
      "Epoch : [67] Train loss : [6.58557937150089]\n",
      "Val Loss : [7.886192074688998]\n",
      "Val L1 : [7.896474301029413]\n"
     ]
    },
    {
     "data": {
      "application/vnd.jupyter.widget-view+json": {
       "model_id": "247099593ec54d00b951a780c72f07d8",
       "version_major": 2,
       "version_minor": 0
      },
      "text/plain": [
       "  0%|          | 0/982 [00:00<?, ?it/s]"
      ]
     },
     "metadata": {},
     "output_type": "display_data"
    },
    {
     "name": "stdout",
     "output_type": "stream",
     "text": [
      "Epoch : [68] Train loss : [6.534287878549269]\n",
      "Val Loss : [7.969944906234741]\n",
      "Val L1 : [7.961373448303572]\n"
     ]
    },
    {
     "data": {
      "application/vnd.jupyter.widget-view+json": {
       "model_id": "162183123be94d2181749da7033f8c75",
       "version_major": 2,
       "version_minor": 0
      },
      "text/plain": [
       "  0%|          | 0/982 [00:00<?, ?it/s]"
      ]
     },
     "metadata": {},
     "output_type": "display_data"
    },
    {
     "name": "stdout",
     "output_type": "stream",
     "text": [
      "Epoch : [69] Train loss : [6.557077731959931]\n",
      "Val Loss : [7.87161827954379]\n",
      "Val L1 : [7.86669245504035]\n"
     ]
    },
    {
     "data": {
      "application/vnd.jupyter.widget-view+json": {
       "model_id": "436443f2bc9741e988cb729bd7b6a8da",
       "version_major": 2,
       "version_minor": 0
      },
      "text/plain": [
       "  0%|          | 0/982 [00:00<?, ?it/s]"
      ]
     },
     "metadata": {},
     "output_type": "display_data"
    },
    {
     "name": "stdout",
     "output_type": "stream",
     "text": [
      "Epoch : [70] Train loss : [6.4301044770996345]\n",
      "Val Loss : [7.964665885405107]\n",
      "Val L1 : [7.948155006911488]\n",
      "Epoch 00070: reducing learning rate of group 0 to 2.5000e-04.\n",
      "Final Best error : [7.713887480268506]\n",
      "Final Best loss : [7.692489238218828]\n",
      "(31417, 5000, 12)\n",
      "(3490, 5000, 12)\n",
      "(31417,)\n",
      "(3490,)\n",
      "(31417,)\n",
      "(3490,)\n",
      "Adult 9 fold model training start ~_~\n",
      "=================================================================\n",
      "Layer (type:depth-idx)                   Param #\n",
      "=================================================================\n",
      "Model                                    --\n",
      "├─Sequential: 1-1                        --\n",
      "│    └─Conv1d: 2-1                       592\n",
      "│    └─ReLU: 2-2                         --\n",
      "│    └─GroupNorm: 2-3                    32\n",
      "│    └─Conv1d: 2-4                       784\n",
      "│    └─ReLU: 2-5                         --\n",
      "│    └─GroupNorm: 2-6                    32\n",
      "│    └─Conv1d: 2-7                       784\n",
      "│    └─ReLU: 2-8                         --\n",
      "│    └─GroupNorm: 2-9                    32\n",
      "│    └─AvgPool1d: 2-10                   --\n",
      "├─Sequential: 1-2                        --\n",
      "│    └─Conv1d: 2-11                      1,568\n",
      "│    └─ReLU: 2-12                        --\n",
      "│    └─GroupNorm: 2-13                   64\n",
      "│    └─Conv1d: 2-14                      3,104\n",
      "│    └─ReLU: 2-15                        --\n",
      "│    └─GroupNorm: 2-16                   64\n",
      "│    └─Conv1d: 2-17                      3,104\n",
      "│    └─ReLU: 2-18                        --\n",
      "│    └─GroupNorm: 2-19                   64\n",
      "│    └─AvgPool1d: 2-20                   --\n",
      "├─Sequential: 1-3                        --\n",
      "│    └─Conv1d: 2-21                      6,208\n",
      "│    └─ReLU: 2-22                        --\n",
      "│    └─GroupNorm: 2-23                   128\n",
      "│    └─Conv1d: 2-24                      12,352\n",
      "│    └─ReLU: 2-25                        --\n",
      "│    └─GroupNorm: 2-26                   128\n",
      "│    └─Conv1d: 2-27                      12,352\n",
      "│    └─ReLU: 2-28                        --\n",
      "│    └─GroupNorm: 2-29                   128\n",
      "│    └─AvgPool1d: 2-30                   --\n",
      "├─Sequential: 1-4                        --\n",
      "│    └─Conv1d: 2-31                      24,704\n",
      "│    └─ReLU: 2-32                        --\n",
      "│    └─GroupNorm: 2-33                   256\n",
      "│    └─Conv1d: 2-34                      49,280\n",
      "│    └─ReLU: 2-35                        --\n",
      "│    └─GroupNorm: 2-36                   256\n",
      "│    └─Conv1d: 2-37                      49,280\n",
      "│    └─ReLU: 2-38                        --\n",
      "│    └─GroupNorm: 2-39                   256\n",
      "│    └─AvgPool1d: 2-40                   --\n",
      "├─AdaptiveAvgPool1d: 1-5                 --\n",
      "├─Sequential: 1-6                        --\n",
      "│    └─Dropout: 2-41                     --\n",
      "│    └─Linear: 2-42                      130\n",
      "=================================================================\n",
      "Total params: 165,682\n",
      "Trainable params: 165,682\n",
      "Non-trainable params: 0\n",
      "=================================================================\n"
     ]
    },
    {
     "name": "stderr",
     "output_type": "stream",
     "text": [
      "/var/folders/wh/7nbvd7tj6j99g3z6knc92ccc0000gn/T/ipykernel_19191/326351055.py:38: UserWarning: nn.init.constant is now deprecated in favor of nn.init.constant_.\n",
      "  nn.init.constant(m.weight, 1)\n",
      "/var/folders/wh/7nbvd7tj6j99g3z6knc92ccc0000gn/T/ipykernel_19191/326351055.py:39: UserWarning: nn.init.constant is now deprecated in favor of nn.init.constant_.\n",
      "  nn.init.constant(m.bias, 0)\n"
     ]
    },
    {
     "data": {
      "application/vnd.jupyter.widget-view+json": {
       "model_id": "d3b13dfd6101413a8d696583adc66fed",
       "version_major": 2,
       "version_minor": 0
      },
      "text/plain": [
       "  0%|          | 0/982 [00:00<?, ?it/s]"
      ]
     },
     "metadata": {},
     "output_type": "display_data"
    },
    {
     "name": "stdout",
     "output_type": "stream",
     "text": [
      "Epoch : [1] Train loss : [16.711943003893385]\n",
      "Val Loss : [13.149356668645686]\n",
      "Val L1 : [13.205905365602336]\n",
      "Save Model~_~ MODEL_NAME : Conv1d_ver_7_adult_9.pth\n"
     ]
    },
    {
     "data": {
      "application/vnd.jupyter.widget-view+json": {
       "model_id": "09fcd8689edd420eb077e572427cfe56",
       "version_major": 2,
       "version_minor": 0
      },
      "text/plain": [
       "  0%|          | 0/982 [00:00<?, ?it/s]"
      ]
     },
     "metadata": {},
     "output_type": "display_data"
    },
    {
     "name": "stdout",
     "output_type": "stream",
     "text": [
      "Epoch : [2] Train loss : [13.062230702087495]\n",
      "Val Loss : [11.826175108822909]\n",
      "Val L1 : [11.887050418799108]\n",
      "Save Model~_~ MODEL_NAME : Conv1d_ver_7_adult_9.pth\n"
     ]
    },
    {
     "data": {
      "application/vnd.jupyter.widget-view+json": {
       "model_id": "e2484bd9c7954a1fb9fb365f1256b349",
       "version_major": 2,
       "version_minor": 0
      },
      "text/plain": [
       "  0%|          | 0/982 [00:00<?, ?it/s]"
      ]
     },
     "metadata": {},
     "output_type": "display_data"
    },
    {
     "name": "stdout",
     "output_type": "stream",
     "text": [
      "Epoch : [3] Train loss : [11.053333030455953]\n",
      "Val Loss : [9.75475246256048]\n",
      "Val L1 : [9.807304110158139]\n",
      "Save Model~_~ MODEL_NAME : Conv1d_ver_7_adult_9.pth\n"
     ]
    },
    {
     "data": {
      "application/vnd.jupyter.widget-view+json": {
       "model_id": "50cbde1741504f6397ac74c14fa98f4a",
       "version_major": 2,
       "version_minor": 0
      },
      "text/plain": [
       "  0%|          | 0/982 [00:00<?, ?it/s]"
      ]
     },
     "metadata": {},
     "output_type": "display_data"
    },
    {
     "name": "stdout",
     "output_type": "stream",
     "text": [
      "Epoch : [4] Train loss : [10.160582445303923]\n",
      "Val Loss : [9.516594895449552]\n",
      "Val L1 : [9.57843408229358]\n",
      "Save Model~_~ MODEL_NAME : Conv1d_ver_7_adult_9.pth\n"
     ]
    },
    {
     "data": {
      "application/vnd.jupyter.widget-view+json": {
       "model_id": "fb03db5470084255b896904f412750e2",
       "version_major": 2,
       "version_minor": 0
      },
      "text/plain": [
       "  0%|          | 0/982 [00:00<?, ?it/s]"
      ]
     },
     "metadata": {},
     "output_type": "display_data"
    },
    {
     "name": "stdout",
     "output_type": "stream",
     "text": [
      "Epoch : [5] Train loss : [9.894361207538612]\n",
      "Val Loss : [9.416199007901279]\n",
      "Val L1 : [9.458225005130712]\n",
      "Save Model~_~ MODEL_NAME : Conv1d_ver_7_adult_9.pth\n"
     ]
    },
    {
     "data": {
      "application/vnd.jupyter.widget-view+json": {
       "model_id": "eb32265a1590446e84984596075637e7",
       "version_major": 2,
       "version_minor": 0
      },
      "text/plain": [
       "  0%|          | 0/982 [00:00<?, ?it/s]"
      ]
     },
     "metadata": {},
     "output_type": "display_data"
    },
    {
     "name": "stdout",
     "output_type": "stream",
     "text": [
      "Epoch : [6] Train loss : [9.64564456619216]\n",
      "Val Loss : [9.208355725895276]\n",
      "Val L1 : [9.231325759450481]\n",
      "Save Model~_~ MODEL_NAME : Conv1d_ver_7_adult_9.pth\n"
     ]
    },
    {
     "data": {
      "application/vnd.jupyter.widget-view+json": {
       "model_id": "6d28efcd2ead4ce896c8566f3b8d0b3a",
       "version_major": 2,
       "version_minor": 0
      },
      "text/plain": [
       "  0%|          | 0/982 [00:00<?, ?it/s]"
      ]
     },
     "metadata": {},
     "output_type": "display_data"
    },
    {
     "name": "stdout",
     "output_type": "stream",
     "text": [
      "Epoch : [7] Train loss : [9.582417347280654]\n",
      "Val Loss : [8.925103694742376]\n",
      "Val L1 : [8.967336377714972]\n",
      "Save Model~_~ MODEL_NAME : Conv1d_ver_7_adult_9.pth\n"
     ]
    },
    {
     "data": {
      "application/vnd.jupyter.widget-view+json": {
       "model_id": "d0d76e22e7104344a52337546f0cdf6f",
       "version_major": 2,
       "version_minor": 0
      },
      "text/plain": [
       "  0%|          | 0/982 [00:00<?, ?it/s]"
      ]
     },
     "metadata": {},
     "output_type": "display_data"
    },
    {
     "name": "stdout",
     "output_type": "stream",
     "text": [
      "Epoch : [8] Train loss : [9.394118591141556]\n",
      "Val Loss : [9.878465405377474]\n",
      "Val L1 : [9.923945788735988]\n"
     ]
    },
    {
     "data": {
      "application/vnd.jupyter.widget-view+json": {
       "model_id": "c7d37a9f59de480e8345a3098ea25dd5",
       "version_major": 2,
       "version_minor": 0
      },
      "text/plain": [
       "  0%|          | 0/982 [00:00<?, ?it/s]"
      ]
     },
     "metadata": {},
     "output_type": "display_data"
    },
    {
     "name": "stdout",
     "output_type": "stream",
     "text": [
      "Epoch : [9] Train loss : [9.289586753806368]\n",
      "Val Loss : [8.76740083694458]\n",
      "Val L1 : [8.800791210294795]\n",
      "Save Model~_~ MODEL_NAME : Conv1d_ver_7_adult_9.pth\n"
     ]
    },
    {
     "data": {
      "application/vnd.jupyter.widget-view+json": {
       "model_id": "334f2c87d2d84bc596a01b720ceaa6aa",
       "version_major": 2,
       "version_minor": 0
      },
      "text/plain": [
       "  0%|          | 0/982 [00:00<?, ?it/s]"
      ]
     },
     "metadata": {},
     "output_type": "display_data"
    },
    {
     "name": "stdout",
     "output_type": "stream",
     "text": [
      "Epoch : [10] Train loss : [9.158599810299222]\n",
      "Val Loss : [8.65794861533425]\n",
      "Val L1 : [8.69794091167286]\n",
      "Save Model~_~ MODEL_NAME : Conv1d_ver_7_adult_9.pth\n"
     ]
    },
    {
     "data": {
      "application/vnd.jupyter.widget-view+json": {
       "model_id": "b3713a9af4864f0dba35f9af1c9d2822",
       "version_major": 2,
       "version_minor": 0
      },
      "text/plain": [
       "  0%|          | 0/982 [00:00<?, ?it/s]"
      ]
     },
     "metadata": {},
     "output_type": "display_data"
    },
    {
     "name": "stdout",
     "output_type": "stream",
     "text": [
      "Epoch : [11] Train loss : [9.096466933151369]\n",
      "Val Loss : [8.620211514559658]\n",
      "Val L1 : [8.659895108832329]\n",
      "Save Model~_~ MODEL_NAME : Conv1d_ver_7_adult_9.pth\n"
     ]
    },
    {
     "data": {
      "application/vnd.jupyter.widget-view+json": {
       "model_id": "4df39b46e60c4a8986d037f98d0ff04c",
       "version_major": 2,
       "version_minor": 0
      },
      "text/plain": [
       "  0%|          | 0/982 [00:00<?, ?it/s]"
      ]
     },
     "metadata": {},
     "output_type": "display_data"
    },
    {
     "name": "stdout",
     "output_type": "stream",
     "text": [
      "Epoch : [12] Train loss : [8.9726690872138]\n",
      "Val Loss : [8.629280792583119]\n",
      "Val L1 : [8.680277489659439]\n"
     ]
    },
    {
     "data": {
      "application/vnd.jupyter.widget-view+json": {
       "model_id": "236f4131dc3740309d6499714ce4bf29",
       "version_major": 2,
       "version_minor": 0
      },
      "text/plain": [
       "  0%|          | 0/982 [00:00<?, ?it/s]"
      ]
     },
     "metadata": {},
     "output_type": "display_data"
    },
    {
     "name": "stdout",
     "output_type": "stream",
     "text": [
      "Epoch : [13] Train loss : [8.955100591216699]\n",
      "Val Loss : [8.71306474425576]\n",
      "Val L1 : [8.758664200572367]\n"
     ]
    },
    {
     "data": {
      "application/vnd.jupyter.widget-view+json": {
       "model_id": "93ac519abd57460192c524e030cb6a24",
       "version_major": 2,
       "version_minor": 0
      },
      "text/plain": [
       "  0%|          | 0/982 [00:00<?, ?it/s]"
      ]
     },
     "metadata": {},
     "output_type": "display_data"
    },
    {
     "name": "stdout",
     "output_type": "stream",
     "text": [
      "Epoch : [14] Train loss : [8.849202118191846]\n",
      "Val Loss : [8.335930065675216]\n",
      "Val L1 : [8.375537488385394]\n",
      "Save Model~_~ MODEL_NAME : Conv1d_ver_7_adult_9.pth\n"
     ]
    },
    {
     "data": {
      "application/vnd.jupyter.widget-view+json": {
       "model_id": "9e0d276d56374131b1a1f72aa16a56e2",
       "version_major": 2,
       "version_minor": 0
      },
      "text/plain": [
       "  0%|          | 0/982 [00:00<?, ?it/s]"
      ]
     },
     "metadata": {},
     "output_type": "display_data"
    },
    {
     "name": "stdout",
     "output_type": "stream",
     "text": [
      "Epoch : [15] Train loss : [8.827025737393413]\n",
      "Val Loss : [8.600930127230557]\n",
      "Val L1 : [8.624889649224487]\n"
     ]
    },
    {
     "data": {
      "application/vnd.jupyter.widget-view+json": {
       "model_id": "b703f58941dd45a49219af6febf66c02",
       "version_major": 2,
       "version_minor": 0
      },
      "text/plain": [
       "  0%|          | 0/982 [00:00<?, ?it/s]"
      ]
     },
     "metadata": {},
     "output_type": "display_data"
    },
    {
     "name": "stdout",
     "output_type": "stream",
     "text": [
      "Epoch : [16] Train loss : [8.794296154422332]\n",
      "Val Loss : [8.70199747952548]\n",
      "Val L1 : [8.74676278614383]\n"
     ]
    },
    {
     "data": {
      "application/vnd.jupyter.widget-view+json": {
       "model_id": "811f8c1324814b81a5d8402766f62a41",
       "version_major": 2,
       "version_minor": 0
      },
      "text/plain": [
       "  0%|          | 0/982 [00:00<?, ?it/s]"
      ]
     },
     "metadata": {},
     "output_type": "display_data"
    },
    {
     "name": "stdout",
     "output_type": "stream",
     "text": [
      "Epoch : [17] Train loss : [8.697758700357193]\n",
      "Val Loss : [8.550773746317082]\n",
      "Val L1 : [8.59808794693824]\n"
     ]
    },
    {
     "data": {
      "application/vnd.jupyter.widget-view+json": {
       "model_id": "7370bc51b6654d7baabd71eb4a6a4c37",
       "version_major": 2,
       "version_minor": 0
      },
      "text/plain": [
       "  0%|          | 0/982 [00:00<?, ?it/s]"
      ]
     },
     "metadata": {},
     "output_type": "display_data"
    },
    {
     "name": "stdout",
     "output_type": "stream",
     "text": [
      "Epoch : [18] Train loss : [8.62733267329618]\n",
      "Val Loss : [8.29598424651406]\n",
      "Val L1 : [8.339322962938544]\n",
      "Save Model~_~ MODEL_NAME : Conv1d_ver_7_adult_9.pth\n"
     ]
    },
    {
     "data": {
      "application/vnd.jupyter.widget-view+json": {
       "model_id": "a0f7810496dd4b7684a7bc9d63d19743",
       "version_major": 2,
       "version_minor": 0
      },
      "text/plain": [
       "  0%|          | 0/982 [00:00<?, ?it/s]"
      ]
     },
     "metadata": {},
     "output_type": "display_data"
    },
    {
     "name": "stdout",
     "output_type": "stream",
     "text": [
      "Epoch : [19] Train loss : [8.63019550065159]\n",
      "Val Loss : [8.199642064354636]\n",
      "Val L1 : [8.238621079409361]\n",
      "Save Model~_~ MODEL_NAME : Conv1d_ver_7_adult_9.pth\n"
     ]
    },
    {
     "data": {
      "application/vnd.jupyter.widget-view+json": {
       "model_id": "ac86c1f8da19412f8d0f13a00cb55920",
       "version_major": 2,
       "version_minor": 0
      },
      "text/plain": [
       "  0%|          | 0/982 [00:00<?, ?it/s]"
      ]
     },
     "metadata": {},
     "output_type": "display_data"
    },
    {
     "name": "stdout",
     "output_type": "stream",
     "text": [
      "Epoch : [20] Train loss : [8.573777141493352]\n",
      "Val Loss : [8.11940575946461]\n",
      "Val L1 : [8.16195862887582]\n",
      "Save Model~_~ MODEL_NAME : Conv1d_ver_7_adult_9.pth\n"
     ]
    },
    {
     "data": {
      "application/vnd.jupyter.widget-view+json": {
       "model_id": "ab08b708e431402799dc787d7fa151b4",
       "version_major": 2,
       "version_minor": 0
      },
      "text/plain": [
       "  0%|          | 0/982 [00:00<?, ?it/s]"
      ]
     },
     "metadata": {},
     "output_type": "display_data"
    },
    {
     "name": "stdout",
     "output_type": "stream",
     "text": [
      "Epoch : [21] Train loss : [8.518702151576273]\n",
      "Val Loss : [8.193127619136463]\n",
      "Val L1 : [8.234695951030043]\n"
     ]
    },
    {
     "data": {
      "application/vnd.jupyter.widget-view+json": {
       "model_id": "4437d794710c41919203f9b788689e3b",
       "version_major": 2,
       "version_minor": 0
      },
      "text/plain": [
       "  0%|          | 0/982 [00:00<?, ?it/s]"
      ]
     },
     "metadata": {},
     "output_type": "display_data"
    },
    {
     "name": "stdout",
     "output_type": "stream",
     "text": [
      "Epoch : [22] Train loss : [8.457334716062682]\n",
      "Val Loss : [8.11889721697027]\n",
      "Val L1 : [8.149774847057966]\n",
      "Save Model~_~ MODEL_NAME : Conv1d_ver_7_adult_9.pth\n"
     ]
    },
    {
     "data": {
      "application/vnd.jupyter.widget-view+json": {
       "model_id": "994ea3d9002c4a319b56c8c8f1005948",
       "version_major": 2,
       "version_minor": 0
      },
      "text/plain": [
       "  0%|          | 0/982 [00:00<?, ?it/s]"
      ]
     },
     "metadata": {},
     "output_type": "display_data"
    },
    {
     "name": "stdout",
     "output_type": "stream",
     "text": [
      "Epoch : [23] Train loss : [8.429832873179326]\n",
      "Val Loss : [8.066072984175248]\n",
      "Val L1 : [8.10851956452203]\n",
      "Save Model~_~ MODEL_NAME : Conv1d_ver_7_adult_9.pth\n"
     ]
    },
    {
     "data": {
      "application/vnd.jupyter.widget-view+json": {
       "model_id": "d442fa9ecd264547913e3f1a03552208",
       "version_major": 2,
       "version_minor": 0
      },
      "text/plain": [
       "  0%|          | 0/982 [00:00<?, ?it/s]"
      ]
     },
     "metadata": {},
     "output_type": "display_data"
    },
    {
     "name": "stdout",
     "output_type": "stream",
     "text": [
      "Epoch : [24] Train loss : [8.42456273051726]\n",
      "Val Loss : [8.283266518332741]\n",
      "Val L1 : [8.322170041147139]\n"
     ]
    },
    {
     "data": {
      "application/vnd.jupyter.widget-view+json": {
       "model_id": "3c459614fc704f59bd69eaabd295cac8",
       "version_major": 2,
       "version_minor": 0
      },
      "text/plain": [
       "  0%|          | 0/982 [00:00<?, ?it/s]"
      ]
     },
     "metadata": {},
     "output_type": "display_data"
    },
    {
     "name": "stdout",
     "output_type": "stream",
     "text": [
      "Epoch : [25] Train loss : [8.332344346522314]\n",
      "Val Loss : [8.068082202564586]\n",
      "Val L1 : [8.101448770648771]\n"
     ]
    },
    {
     "data": {
      "application/vnd.jupyter.widget-view+json": {
       "model_id": "d3112a15175c4bebb07e5201159b8000",
       "version_major": 2,
       "version_minor": 0
      },
      "text/plain": [
       "  0%|          | 0/982 [00:00<?, ?it/s]"
      ]
     },
     "metadata": {},
     "output_type": "display_data"
    },
    {
     "name": "stdout",
     "output_type": "stream",
     "text": [
      "Epoch : [26] Train loss : [8.401836662816905]\n",
      "Val Loss : [8.147512310201472]\n",
      "Val L1 : [8.172922155167107]\n"
     ]
    },
    {
     "data": {
      "application/vnd.jupyter.widget-view+json": {
       "model_id": "ba0b1e8668c347ccb5acb9b814366059",
       "version_major": 2,
       "version_minor": 0
      },
      "text/plain": [
       "  0%|          | 0/982 [00:00<?, ?it/s]"
      ]
     },
     "metadata": {},
     "output_type": "display_data"
    },
    {
     "name": "stdout",
     "output_type": "stream",
     "text": [
      "Epoch : [27] Train loss : [8.29646840551963]\n",
      "Val Loss : [8.215714623711326]\n",
      "Val L1 : [8.236701411162542]\n"
     ]
    },
    {
     "data": {
      "application/vnd.jupyter.widget-view+json": {
       "model_id": "41ff93a2b1ca4ab89d4392245d7880fd",
       "version_major": 2,
       "version_minor": 0
      },
      "text/plain": [
       "  0%|          | 0/982 [00:00<?, ?it/s]"
      ]
     },
     "metadata": {},
     "output_type": "display_data"
    },
    {
     "name": "stdout",
     "output_type": "stream",
     "text": [
      "Epoch : [28] Train loss : [8.20783388104798]\n",
      "Val Loss : [7.98563718362288]\n",
      "Val L1 : [8.027463927173342]\n",
      "Save Model~_~ MODEL_NAME : Conv1d_ver_7_adult_9.pth\n"
     ]
    },
    {
     "data": {
      "application/vnd.jupyter.widget-view+json": {
       "model_id": "f57cef003ec042beb6c34f3017c438c4",
       "version_major": 2,
       "version_minor": 0
      },
      "text/plain": [
       "  0%|          | 0/982 [00:00<?, ?it/s]"
      ]
     },
     "metadata": {},
     "output_type": "display_data"
    },
    {
     "name": "stdout",
     "output_type": "stream",
     "text": [
      "Epoch : [29] Train loss : [8.26353435700877]\n",
      "Val Loss : [7.94220780025829]\n",
      "Val L1 : [7.972938177442141]\n",
      "Save Model~_~ MODEL_NAME : Conv1d_ver_7_adult_9.pth\n"
     ]
    },
    {
     "data": {
      "application/vnd.jupyter.widget-view+json": {
       "model_id": "6a110b32b1ce49008bb4973c9fe5984a",
       "version_major": 2,
       "version_minor": 0
      },
      "text/plain": [
       "  0%|          | 0/982 [00:00<?, ?it/s]"
      ]
     },
     "metadata": {},
     "output_type": "display_data"
    },
    {
     "name": "stdout",
     "output_type": "stream",
     "text": [
      "Epoch : [30] Train loss : [8.186102238303532]\n",
      "Val Loss : [8.141496805711226]\n",
      "Val L1 : [8.182182145323658]\n"
     ]
    },
    {
     "data": {
      "application/vnd.jupyter.widget-view+json": {
       "model_id": "2ce2ca9621614bd6ac9d966e8f961d06",
       "version_major": 2,
       "version_minor": 0
      },
      "text/plain": [
       "  0%|          | 0/982 [00:00<?, ?it/s]"
      ]
     },
     "metadata": {},
     "output_type": "display_data"
    },
    {
     "name": "stdout",
     "output_type": "stream",
     "text": [
      "Epoch : [31] Train loss : [8.177246116572144]\n",
      "Val Loss : [8.087488716298884]\n",
      "Val L1 : [8.116490779155304]\n"
     ]
    },
    {
     "data": {
      "application/vnd.jupyter.widget-view+json": {
       "model_id": "c65646323af042f8a985391f44ce91a7",
       "version_major": 2,
       "version_minor": 0
      },
      "text/plain": [
       "  0%|          | 0/982 [00:00<?, ?it/s]"
      ]
     },
     "metadata": {},
     "output_type": "display_data"
    },
    {
     "name": "stdout",
     "output_type": "stream",
     "text": [
      "Epoch : [32] Train loss : [8.194607706516678]\n",
      "Val Loss : [8.235468972812999]\n",
      "Val L1 : [8.276156743003167]\n"
     ]
    },
    {
     "data": {
      "application/vnd.jupyter.widget-view+json": {
       "model_id": "eafbfb984890449ea79f762173798ba9",
       "version_major": 2,
       "version_minor": 0
      },
      "text/plain": [
       "  0%|          | 0/982 [00:00<?, ?it/s]"
      ]
     },
     "metadata": {},
     "output_type": "display_data"
    },
    {
     "name": "stdout",
     "output_type": "stream",
     "text": [
      "Epoch : [33] Train loss : [8.140997726417122]\n",
      "Val Loss : [7.862960698387839]\n",
      "Val L1 : [7.89594562661682]\n",
      "Save Model~_~ MODEL_NAME : Conv1d_ver_7_adult_9.pth\n"
     ]
    },
    {
     "data": {
      "application/vnd.jupyter.widget-view+json": {
       "model_id": "6b073eaa5f754a459f93287c0baf484a",
       "version_major": 2,
       "version_minor": 0
      },
      "text/plain": [
       "  0%|          | 0/982 [00:00<?, ?it/s]"
      ]
     },
     "metadata": {},
     "output_type": "display_data"
    },
    {
     "name": "stdout",
     "output_type": "stream",
     "text": [
      "Epoch : [34] Train loss : [8.073737061436454]\n",
      "Val Loss : [8.004283631931651]\n",
      "Val L1 : [8.046005464351621]\n"
     ]
    },
    {
     "data": {
      "application/vnd.jupyter.widget-view+json": {
       "model_id": "072f5ab56ed24d898926f80577d84f37",
       "version_major": 2,
       "version_minor": 0
      },
      "text/plain": [
       "  0%|          | 0/982 [00:00<?, ?it/s]"
      ]
     },
     "metadata": {},
     "output_type": "display_data"
    },
    {
     "name": "stdout",
     "output_type": "stream",
     "text": [
      "Epoch : [35] Train loss : [8.038873661802645]\n",
      "Val Loss : [7.883968379280784]\n",
      "Val L1 : [7.920136900959179]\n"
     ]
    },
    {
     "data": {
      "application/vnd.jupyter.widget-view+json": {
       "model_id": "8242711b90a648a891ee7a45174b4e83",
       "version_major": 2,
       "version_minor": 0
      },
      "text/plain": [
       "  0%|          | 0/982 [00:00<?, ?it/s]"
      ]
     },
     "metadata": {},
     "output_type": "display_data"
    },
    {
     "name": "stdout",
     "output_type": "stream",
     "text": [
      "Epoch : [36] Train loss : [8.032818613130061]\n",
      "Val Loss : [7.926185837658969]\n",
      "Val L1 : [7.973948972751213]\n"
     ]
    },
    {
     "data": {
      "application/vnd.jupyter.widget-view+json": {
       "model_id": "d44c4aa5f9e2472b9c5d9fa85053f098",
       "version_major": 2,
       "version_minor": 0
      },
      "text/plain": [
       "  0%|          | 0/982 [00:00<?, ?it/s]"
      ]
     },
     "metadata": {},
     "output_type": "display_data"
    },
    {
     "name": "stdout",
     "output_type": "stream",
     "text": [
      "Epoch : [37] Train loss : [7.978100396950716]\n",
      "Val Loss : [7.855474294315685]\n",
      "Val L1 : [7.901400767766302]\n",
      "Save Model~_~ MODEL_NAME : Conv1d_ver_7_adult_9.pth\n"
     ]
    },
    {
     "data": {
      "application/vnd.jupyter.widget-view+json": {
       "model_id": "7a06e25a70f04990b5157257943fd55c",
       "version_major": 2,
       "version_minor": 0
      },
      "text/plain": [
       "  0%|          | 0/982 [00:00<?, ?it/s]"
      ]
     },
     "metadata": {},
     "output_type": "display_data"
    },
    {
     "name": "stdout",
     "output_type": "stream",
     "text": [
      "Epoch : [38] Train loss : [7.975166160074611]\n",
      "Val Loss : [7.837338508259166]\n",
      "Val L1 : [7.873535820269653]\n",
      "Save Model~_~ MODEL_NAME : Conv1d_ver_7_adult_9.pth\n"
     ]
    },
    {
     "data": {
      "application/vnd.jupyter.widget-view+json": {
       "model_id": "dfbf1c2f362a4e53af03c1c53a93d1f6",
       "version_major": 2,
       "version_minor": 0
      },
      "text/plain": [
       "  0%|          | 0/982 [00:00<?, ?it/s]"
      ]
     },
     "metadata": {},
     "output_type": "display_data"
    },
    {
     "name": "stdout",
     "output_type": "stream",
     "text": [
      "Epoch : [39] Train loss : [7.9277781755521195]\n",
      "Val Loss : [8.023599620298906]\n",
      "Val L1 : [8.057047842293551]\n"
     ]
    },
    {
     "data": {
      "application/vnd.jupyter.widget-view+json": {
       "model_id": "ff18e9ce2d8945339ba9da73dffad002",
       "version_major": 2,
       "version_minor": 0
      },
      "text/plain": [
       "  0%|          | 0/982 [00:00<?, ?it/s]"
      ]
     },
     "metadata": {},
     "output_type": "display_data"
    },
    {
     "name": "stdout",
     "output_type": "stream",
     "text": [
      "Epoch : [40] Train loss : [7.931001002822534]\n",
      "Val Loss : [7.896650682796132]\n",
      "Val L1 : [7.930649893468294]\n"
     ]
    },
    {
     "data": {
      "application/vnd.jupyter.widget-view+json": {
       "model_id": "27f6cf0ccb3447faa5023986ddb9848f",
       "version_major": 2,
       "version_minor": 0
      },
      "text/plain": [
       "  0%|          | 0/982 [00:00<?, ?it/s]"
      ]
     },
     "metadata": {},
     "output_type": "display_data"
    },
    {
     "name": "stdout",
     "output_type": "stream",
     "text": [
      "Epoch : [41] Train loss : [7.882012675590282]\n",
      "Val Loss : [8.054971382834694]\n",
      "Val L1 : [8.086450751121543]\n"
     ]
    },
    {
     "data": {
      "application/vnd.jupyter.widget-view+json": {
       "model_id": "e079d3d35f97421fac215a893cb7c11c",
       "version_major": 2,
       "version_minor": 0
      },
      "text/plain": [
       "  0%|          | 0/982 [00:00<?, ?it/s]"
      ]
     },
     "metadata": {},
     "output_type": "display_data"
    },
    {
     "name": "stdout",
     "output_type": "stream",
     "text": [
      "Epoch : [42] Train loss : [7.865612164048702]\n",
      "Val Loss : [7.772925207831642]\n",
      "Val L1 : [7.817417596745969]\n",
      "Save Model~_~ MODEL_NAME : Conv1d_ver_7_adult_9.pth\n"
     ]
    },
    {
     "data": {
      "application/vnd.jupyter.widget-view+json": {
       "model_id": "52e0baef739d4c83a2b67b10dea12659",
       "version_major": 2,
       "version_minor": 0
      },
      "text/plain": [
       "  0%|          | 0/982 [00:00<?, ?it/s]"
      ]
     },
     "metadata": {},
     "output_type": "display_data"
    },
    {
     "name": "stdout",
     "output_type": "stream",
     "text": [
      "Epoch : [43] Train loss : [7.829205959731838]\n",
      "Val Loss : [7.911189061945135]\n",
      "Val L1 : [7.963569778835876]\n"
     ]
    },
    {
     "data": {
      "application/vnd.jupyter.widget-view+json": {
       "model_id": "f12e3edcb1824e299b67d11b469c53b6",
       "version_major": 2,
       "version_minor": 0
      },
      "text/plain": [
       "  0%|          | 0/982 [00:00<?, ?it/s]"
      ]
     },
     "metadata": {},
     "output_type": "display_data"
    },
    {
     "name": "stdout",
     "output_type": "stream",
     "text": [
      "Epoch : [44] Train loss : [7.811081238045469]\n",
      "Val Loss : [7.830303573608399]\n",
      "Val L1 : [7.861066158316539]\n"
     ]
    },
    {
     "data": {
      "application/vnd.jupyter.widget-view+json": {
       "model_id": "ce71253b20884f0d96fc3b6a4714137c",
       "version_major": 2,
       "version_minor": 0
      },
      "text/plain": [
       "  0%|          | 0/982 [00:00<?, ?it/s]"
      ]
     },
     "metadata": {},
     "output_type": "display_data"
    },
    {
     "name": "stdout",
     "output_type": "stream",
     "text": [
      "Epoch : [45] Train loss : [7.800047767623622]\n",
      "Val Loss : [7.994648452238603]\n",
      "Val L1 : [8.055992906346361]\n"
     ]
    },
    {
     "data": {
      "application/vnd.jupyter.widget-view+json": {
       "model_id": "a786712b31e1491584214412e15d326c",
       "version_major": 2,
       "version_minor": 0
      },
      "text/plain": [
       "  0%|          | 0/982 [00:00<?, ?it/s]"
      ]
     },
     "metadata": {},
     "output_type": "display_data"
    },
    {
     "name": "stdout",
     "output_type": "stream",
     "text": [
      "Epoch : [46] Train loss : [7.807571649551392]\n",
      "Val Loss : [8.004416387731379]\n",
      "Val L1 : [8.06357317653973]\n"
     ]
    },
    {
     "data": {
      "application/vnd.jupyter.widget-view+json": {
       "model_id": "1d22f3c28c7b431b8c32620b0e01bdef",
       "version_major": 2,
       "version_minor": 0
      },
      "text/plain": [
       "  0%|          | 0/982 [00:00<?, ?it/s]"
      ]
     },
     "metadata": {},
     "output_type": "display_data"
    },
    {
     "name": "stdout",
     "output_type": "stream",
     "text": [
      "Epoch : [47] Train loss : [7.744173779749822]\n",
      "Val Loss : [7.752993913130327]\n",
      "Val L1 : [7.8010385005043705]\n",
      "Save Model~_~ MODEL_NAME : Conv1d_ver_7_adult_9.pth\n"
     ]
    },
    {
     "data": {
      "application/vnd.jupyter.widget-view+json": {
       "model_id": "d1226539df0e45d39af5b35433e29800",
       "version_major": 2,
       "version_minor": 0
      },
      "text/plain": [
       "  0%|          | 0/982 [00:00<?, ?it/s]"
      ]
     },
     "metadata": {},
     "output_type": "display_data"
    },
    {
     "name": "stdout",
     "output_type": "stream",
     "text": [
      "Epoch : [48] Train loss : [7.784038584975264]\n",
      "Val Loss : [7.781666365536776]\n",
      "Val L1 : [7.81822316790037]\n"
     ]
    },
    {
     "data": {
      "application/vnd.jupyter.widget-view+json": {
       "model_id": "8097e03cad254ce78b5fa3e461f597a7",
       "version_major": 2,
       "version_minor": 0
      },
      "text/plain": [
       "  0%|          | 0/982 [00:00<?, ?it/s]"
      ]
     },
     "metadata": {},
     "output_type": "display_data"
    },
    {
     "name": "stdout",
     "output_type": "stream",
     "text": [
      "Epoch : [49] Train loss : [7.652645649589492]\n",
      "Val Loss : [7.8948249340057375]\n",
      "Val L1 : [7.939911430271444]\n"
     ]
    },
    {
     "data": {
      "application/vnd.jupyter.widget-view+json": {
       "model_id": "f639267084854ceebaae75ac6825f41a",
       "version_major": 2,
       "version_minor": 0
      },
      "text/plain": [
       "  0%|          | 0/982 [00:00<?, ?it/s]"
      ]
     },
     "metadata": {},
     "output_type": "display_data"
    },
    {
     "name": "stdout",
     "output_type": "stream",
     "text": [
      "Epoch : [50] Train loss : [7.688890742187344]\n",
      "Val Loss : [7.8092709671367295]\n",
      "Val L1 : [7.828354078582501]\n"
     ]
    },
    {
     "data": {
      "application/vnd.jupyter.widget-view+json": {
       "model_id": "580e89ccdf3444939c85911b96fd792f",
       "version_major": 2,
       "version_minor": 0
      },
      "text/plain": [
       "  0%|          | 0/982 [00:00<?, ?it/s]"
      ]
     },
     "metadata": {},
     "output_type": "display_data"
    },
    {
     "name": "stdout",
     "output_type": "stream",
     "text": [
      "Epoch : [51] Train loss : [7.666394543502093]\n",
      "Val Loss : [7.804377456144853]\n",
      "Val L1 : [7.8406938593845315]\n"
     ]
    },
    {
     "data": {
      "application/vnd.jupyter.widget-view+json": {
       "model_id": "1d965d8744664ee8b117928f35d377d8",
       "version_major": 2,
       "version_minor": 0
      },
      "text/plain": [
       "  0%|          | 0/982 [00:00<?, ?it/s]"
      ]
     },
     "metadata": {},
     "output_type": "display_data"
    },
    {
     "name": "stdout",
     "output_type": "stream",
     "text": [
      "Epoch : [52] Train loss : [7.649376727413014]\n",
      "Val Loss : [8.031177091598511]\n",
      "Val L1 : [8.082783368118854]\n"
     ]
    },
    {
     "data": {
      "application/vnd.jupyter.widget-view+json": {
       "model_id": "94b3973e7c13446386886cc770b7cd99",
       "version_major": 2,
       "version_minor": 0
      },
      "text/plain": [
       "  0%|          | 0/982 [00:00<?, ?it/s]"
      ]
     },
     "metadata": {},
     "output_type": "display_data"
    },
    {
     "name": "stdout",
     "output_type": "stream",
     "text": [
      "Epoch : [53] Train loss : [7.570608615389666]\n",
      "Val Loss : [7.7792609734968705]\n",
      "Val L1 : [7.801794920541496]\n"
     ]
    },
    {
     "data": {
      "application/vnd.jupyter.widget-view+json": {
       "model_id": "b8e6ca9d5b6c4e47a28c0259ef0a4a99",
       "version_major": 2,
       "version_minor": 0
      },
      "text/plain": [
       "  0%|          | 0/982 [00:00<?, ?it/s]"
      ]
     },
     "metadata": {},
     "output_type": "display_data"
    },
    {
     "name": "stdout",
     "output_type": "stream",
     "text": [
      "Epoch : [54] Train loss : [7.558528636477872]\n",
      "Val Loss : [7.752035214684226]\n",
      "Val L1 : [7.7929075847724105]\n",
      "Save Model~_~ MODEL_NAME : Conv1d_ver_7_adult_9.pth\n"
     ]
    },
    {
     "data": {
      "application/vnd.jupyter.widget-view+json": {
       "model_id": "b20baf7792db456ca778ea4ef45379b8",
       "version_major": 2,
       "version_minor": 0
      },
      "text/plain": [
       "  0%|          | 0/982 [00:00<?, ?it/s]"
      ]
     },
     "metadata": {},
     "output_type": "display_data"
    },
    {
     "name": "stdout",
     "output_type": "stream",
     "text": [
      "Epoch : [55] Train loss : [7.573017953612411]\n",
      "Val Loss : [7.737593373385343]\n",
      "Val L1 : [7.773835102944798]\n",
      "Save Model~_~ MODEL_NAME : Conv1d_ver_7_adult_9.pth\n"
     ]
    },
    {
     "data": {
      "application/vnd.jupyter.widget-view+json": {
       "model_id": "2983d159e52f44889891acad8770b3c6",
       "version_major": 2,
       "version_minor": 0
      },
      "text/plain": [
       "  0%|          | 0/982 [00:00<?, ?it/s]"
      ]
     },
     "metadata": {},
     "output_type": "display_data"
    },
    {
     "name": "stdout",
     "output_type": "stream",
     "text": [
      "Epoch : [56] Train loss : [7.544668352531076]\n",
      "Val Loss : [8.023474515568127]\n",
      "Val L1 : [8.055377806086936]\n"
     ]
    },
    {
     "data": {
      "application/vnd.jupyter.widget-view+json": {
       "model_id": "c8ca895d4154451bacaf6c9758bad1a9",
       "version_major": 2,
       "version_minor": 0
      },
      "text/plain": [
       "  0%|          | 0/982 [00:00<?, ?it/s]"
      ]
     },
     "metadata": {},
     "output_type": "display_data"
    },
    {
     "name": "stdout",
     "output_type": "stream",
     "text": [
      "Epoch : [57] Train loss : [7.5255073359930345]\n",
      "Val Loss : [7.724379920959473]\n",
      "Val L1 : [7.755186689753929]\n",
      "Save Model~_~ MODEL_NAME : Conv1d_ver_7_adult_9.pth\n"
     ]
    },
    {
     "data": {
      "application/vnd.jupyter.widget-view+json": {
       "model_id": "77fba5841e0a44c0ae79287c116a727c",
       "version_major": 2,
       "version_minor": 0
      },
      "text/plain": [
       "  0%|          | 0/982 [00:00<?, ?it/s]"
      ]
     },
     "metadata": {},
     "output_type": "display_data"
    },
    {
     "name": "stdout",
     "output_type": "stream",
     "text": [
      "Epoch : [58] Train loss : [7.483447422563666]\n",
      "Val Loss : [7.811419972506436]\n",
      "Val L1 : [7.8616387479284775]\n"
     ]
    },
    {
     "data": {
      "application/vnd.jupyter.widget-view+json": {
       "model_id": "0d067870fc1e4ab29c147624aad31849",
       "version_major": 2,
       "version_minor": 0
      },
      "text/plain": [
       "  0%|          | 0/982 [00:00<?, ?it/s]"
      ]
     },
     "metadata": {},
     "output_type": "display_data"
    },
    {
     "name": "stdout",
     "output_type": "stream",
     "text": [
      "Epoch : [59] Train loss : [7.494088090364413]\n",
      "Val Loss : [8.024256671558726]\n",
      "Val L1 : [8.067552539202408]\n"
     ]
    },
    {
     "data": {
      "application/vnd.jupyter.widget-view+json": {
       "model_id": "40c73bf51d0e4178be0791ac8870e7d0",
       "version_major": 2,
       "version_minor": 0
      },
      "text/plain": [
       "  0%|          | 0/982 [00:00<?, ?it/s]"
      ]
     },
     "metadata": {},
     "output_type": "display_data"
    },
    {
     "name": "stdout",
     "output_type": "stream",
     "text": [
      "Epoch : [60] Train loss : [7.465288150577584]\n",
      "Val Loss : [7.802758585322987]\n",
      "Val L1 : [7.856703508754173]\n"
     ]
    },
    {
     "data": {
      "application/vnd.jupyter.widget-view+json": {
       "model_id": "1098ec72aed54c2e8bbd7447e973b6a4",
       "version_major": 2,
       "version_minor": 0
      },
      "text/plain": [
       "  0%|          | 0/982 [00:00<?, ?it/s]"
      ]
     },
     "metadata": {},
     "output_type": "display_data"
    },
    {
     "name": "stdout",
     "output_type": "stream",
     "text": [
      "Epoch : [61] Train loss : [7.458731398320246]\n",
      "Val Loss : [7.820888644998724]\n",
      "Val L1 : [7.85436738022419]\n"
     ]
    },
    {
     "data": {
      "application/vnd.jupyter.widget-view+json": {
       "model_id": "39fadd123d574c019885e2372e6244e0",
       "version_major": 2,
       "version_minor": 0
      },
      "text/plain": [
       "  0%|          | 0/982 [00:00<?, ?it/s]"
      ]
     },
     "metadata": {},
     "output_type": "display_data"
    },
    {
     "name": "stdout",
     "output_type": "stream",
     "text": [
      "Epoch : [62] Train loss : [7.340619717013326]\n",
      "Val Loss : [7.729973537271673]\n",
      "Val L1 : [7.772402613074185]\n"
     ]
    },
    {
     "data": {
      "application/vnd.jupyter.widget-view+json": {
       "model_id": "fde5def4b8a24ac284cc157ede6a18b8",
       "version_major": 2,
       "version_minor": 0
      },
      "text/plain": [
       "  0%|          | 0/982 [00:00<?, ?it/s]"
      ]
     },
     "metadata": {},
     "output_type": "display_data"
    },
    {
     "name": "stdout",
     "output_type": "stream",
     "text": [
      "Epoch : [63] Train loss : [7.423857963740704]\n",
      "Val Loss : [7.925728550824252]\n",
      "Val L1 : [7.943908513787824]\n"
     ]
    },
    {
     "data": {
      "application/vnd.jupyter.widget-view+json": {
       "model_id": "abe3329b253346bf80ded42d44d78f11",
       "version_major": 2,
       "version_minor": 0
      },
      "text/plain": [
       "  0%|          | 0/982 [00:00<?, ?it/s]"
      ]
     },
     "metadata": {},
     "output_type": "display_data"
    },
    {
     "name": "stdout",
     "output_type": "stream",
     "text": [
      "Epoch : [64] Train loss : [7.350878261500124]\n",
      "Val Loss : [7.695263433456421]\n",
      "Val L1 : [7.720269740959976]\n",
      "Save Model~_~ MODEL_NAME : Conv1d_ver_7_adult_9.pth\n"
     ]
    },
    {
     "data": {
      "application/vnd.jupyter.widget-view+json": {
       "model_id": "12eea0d1108c4e448ee86266229a92bb",
       "version_major": 2,
       "version_minor": 0
      },
      "text/plain": [
       "  0%|          | 0/982 [00:00<?, ?it/s]"
      ]
     },
     "metadata": {},
     "output_type": "display_data"
    },
    {
     "name": "stdout",
     "output_type": "stream",
     "text": [
      "Epoch : [65] Train loss : [7.3286915223613045]\n",
      "Val Loss : [7.787992564114657]\n",
      "Val L1 : [7.810798118449214]\n"
     ]
    },
    {
     "data": {
      "application/vnd.jupyter.widget-view+json": {
       "model_id": "3a3e13adc7bd4772a6a9e80289187c26",
       "version_major": 2,
       "version_minor": 0
      },
      "text/plain": [
       "  0%|          | 0/982 [00:00<?, ?it/s]"
      ]
     },
     "metadata": {},
     "output_type": "display_data"
    },
    {
     "name": "stdout",
     "output_type": "stream",
     "text": [
      "Epoch : [66] Train loss : [7.328342790759023]\n",
      "Val Loss : [8.23307271003723]\n",
      "Val L1 : [8.285082396531857]\n"
     ]
    },
    {
     "data": {
      "application/vnd.jupyter.widget-view+json": {
       "model_id": "7bd349f63992499aaee6a460386b097d",
       "version_major": 2,
       "version_minor": 0
      },
      "text/plain": [
       "  0%|          | 0/982 [00:00<?, ?it/s]"
      ]
     },
     "metadata": {},
     "output_type": "display_data"
    },
    {
     "name": "stdout",
     "output_type": "stream",
     "text": [
      "Epoch : [67] Train loss : [7.323662493962135]\n",
      "Val Loss : [7.706769323348999]\n",
      "Val L1 : [7.7431281841245285]\n"
     ]
    },
    {
     "data": {
      "application/vnd.jupyter.widget-view+json": {
       "model_id": "cf3c530434de4f85ad79549e8a7d54a0",
       "version_major": 2,
       "version_minor": 0
      },
      "text/plain": [
       "  0%|          | 0/982 [00:00<?, ?it/s]"
      ]
     },
     "metadata": {},
     "output_type": "display_data"
    },
    {
     "name": "stdout",
     "output_type": "stream",
     "text": [
      "Epoch : [68] Train loss : [7.281430322623787]\n",
      "Val Loss : [8.153822972557762]\n",
      "Val L1 : [8.196530390742174]\n"
     ]
    },
    {
     "data": {
      "application/vnd.jupyter.widget-view+json": {
       "model_id": "67602e4e34c44abcb50f1679e9ce0453",
       "version_major": 2,
       "version_minor": 0
      },
      "text/plain": [
       "  0%|          | 0/982 [00:00<?, ?it/s]"
      ]
     },
     "metadata": {},
     "output_type": "display_data"
    },
    {
     "name": "stdout",
     "output_type": "stream",
     "text": [
      "Epoch : [69] Train loss : [7.282261139506478]\n",
      "Val Loss : [7.803708943453702]\n",
      "Val L1 : [7.849149047064576]\n"
     ]
    },
    {
     "data": {
      "application/vnd.jupyter.widget-view+json": {
       "model_id": "90530fa719b9458aa04ebb97a258971c",
       "version_major": 2,
       "version_minor": 0
      },
      "text/plain": [
       "  0%|          | 0/982 [00:00<?, ?it/s]"
      ]
     },
     "metadata": {},
     "output_type": "display_data"
    },
    {
     "name": "stdout",
     "output_type": "stream",
     "text": [
      "Epoch : [70] Train loss : [7.224303938463604]\n",
      "Val Loss : [7.964007707075639]\n",
      "Val L1 : [8.028113348777794]\n",
      "Final Best error : [7.720269740959976]\n",
      "Final Best loss : [7.695263433456421]\n",
      "(31417, 5000, 12)\n",
      "(3490, 5000, 12)\n",
      "(31417,)\n",
      "(3490,)\n",
      "(31417,)\n",
      "(3490,)\n",
      "Adult 10 fold model training start ~_~\n",
      "=================================================================\n",
      "Layer (type:depth-idx)                   Param #\n",
      "=================================================================\n",
      "Model                                    --\n",
      "├─Sequential: 1-1                        --\n",
      "│    └─Conv1d: 2-1                       592\n",
      "│    └─ReLU: 2-2                         --\n",
      "│    └─GroupNorm: 2-3                    32\n",
      "│    └─Conv1d: 2-4                       784\n",
      "│    └─ReLU: 2-5                         --\n",
      "│    └─GroupNorm: 2-6                    32\n",
      "│    └─Conv1d: 2-7                       784\n",
      "│    └─ReLU: 2-8                         --\n",
      "│    └─GroupNorm: 2-9                    32\n",
      "│    └─AvgPool1d: 2-10                   --\n",
      "├─Sequential: 1-2                        --\n",
      "│    └─Conv1d: 2-11                      1,568\n",
      "│    └─ReLU: 2-12                        --\n",
      "│    └─GroupNorm: 2-13                   64\n",
      "│    └─Conv1d: 2-14                      3,104\n",
      "│    └─ReLU: 2-15                        --\n",
      "│    └─GroupNorm: 2-16                   64\n",
      "│    └─Conv1d: 2-17                      3,104\n",
      "│    └─ReLU: 2-18                        --\n",
      "│    └─GroupNorm: 2-19                   64\n",
      "│    └─AvgPool1d: 2-20                   --\n",
      "├─Sequential: 1-3                        --\n",
      "│    └─Conv1d: 2-21                      6,208\n",
      "│    └─ReLU: 2-22                        --\n",
      "│    └─GroupNorm: 2-23                   128\n",
      "│    └─Conv1d: 2-24                      12,352\n",
      "│    └─ReLU: 2-25                        --\n",
      "│    └─GroupNorm: 2-26                   128\n",
      "│    └─Conv1d: 2-27                      12,352\n",
      "│    └─ReLU: 2-28                        --\n",
      "│    └─GroupNorm: 2-29                   128\n",
      "│    └─AvgPool1d: 2-30                   --\n",
      "├─Sequential: 1-4                        --\n",
      "│    └─Conv1d: 2-31                      24,704\n",
      "│    └─ReLU: 2-32                        --\n",
      "│    └─GroupNorm: 2-33                   256\n",
      "│    └─Conv1d: 2-34                      49,280\n",
      "│    └─ReLU: 2-35                        --\n",
      "│    └─GroupNorm: 2-36                   256\n",
      "│    └─Conv1d: 2-37                      49,280\n",
      "│    └─ReLU: 2-38                        --\n",
      "│    └─GroupNorm: 2-39                   256\n",
      "│    └─AvgPool1d: 2-40                   --\n",
      "├─AdaptiveAvgPool1d: 1-5                 --\n",
      "├─Sequential: 1-6                        --\n",
      "│    └─Dropout: 2-41                     --\n",
      "│    └─Linear: 2-42                      130\n",
      "=================================================================\n",
      "Total params: 165,682\n",
      "Trainable params: 165,682\n",
      "Non-trainable params: 0\n",
      "=================================================================\n"
     ]
    },
    {
     "name": "stderr",
     "output_type": "stream",
     "text": [
      "/var/folders/wh/7nbvd7tj6j99g3z6knc92ccc0000gn/T/ipykernel_19191/326351055.py:38: UserWarning: nn.init.constant is now deprecated in favor of nn.init.constant_.\n",
      "  nn.init.constant(m.weight, 1)\n",
      "/var/folders/wh/7nbvd7tj6j99g3z6knc92ccc0000gn/T/ipykernel_19191/326351055.py:39: UserWarning: nn.init.constant is now deprecated in favor of nn.init.constant_.\n",
      "  nn.init.constant(m.bias, 0)\n"
     ]
    },
    {
     "data": {
      "application/vnd.jupyter.widget-view+json": {
       "model_id": "385d0ae699514cfe8dcaa70b419e4c4b",
       "version_major": 2,
       "version_minor": 0
      },
      "text/plain": [
       "  0%|          | 0/982 [00:00<?, ?it/s]"
      ]
     },
     "metadata": {},
     "output_type": "display_data"
    },
    {
     "name": "stdout",
     "output_type": "stream",
     "text": [
      "Epoch : [1] Train loss : [16.666058197040908]\n",
      "Val Loss : [13.179253474148837]\n",
      "Val L1 : [13.221951840463545]\n",
      "Save Model~_~ MODEL_NAME : Conv1d_ver_7_adult_10.pth\n"
     ]
    },
    {
     "data": {
      "application/vnd.jupyter.widget-view+json": {
       "model_id": "c14d732a5f624b88ae64acc281b540cb",
       "version_major": 2,
       "version_minor": 0
      },
      "text/plain": [
       "  0%|          | 0/982 [00:00<?, ?it/s]"
      ]
     },
     "metadata": {},
     "output_type": "display_data"
    },
    {
     "name": "stdout",
     "output_type": "stream",
     "text": [
      "Epoch : [2] Train loss : [13.367069079288397]\n",
      "Val Loss : [12.757073983279142]\n",
      "Val L1 : [12.785779636022355]\n",
      "Save Model~_~ MODEL_NAME : Conv1d_ver_7_adult_10.pth\n"
     ]
    },
    {
     "data": {
      "application/vnd.jupyter.widget-view+json": {
       "model_id": "ccf56769da9044d1b3ed2b92017dd0eb",
       "version_major": 2,
       "version_minor": 0
      },
      "text/plain": [
       "  0%|          | 0/982 [00:00<?, ?it/s]"
      ]
     },
     "metadata": {},
     "output_type": "display_data"
    },
    {
     "name": "stdout",
     "output_type": "stream",
     "text": [
      "Epoch : [3] Train loss : [11.686289374065982]\n",
      "Val Loss : [10.063933823325417]\n",
      "Val L1 : [10.083620047910848]\n",
      "Save Model~_~ MODEL_NAME : Conv1d_ver_7_adult_10.pth\n"
     ]
    },
    {
     "data": {
      "application/vnd.jupyter.widget-view+json": {
       "model_id": "505e564abb5f45afb6bf36f487870f0c",
       "version_major": 2,
       "version_minor": 0
      },
      "text/plain": [
       "  0%|          | 0/982 [00:00<?, ?it/s]"
      ]
     },
     "metadata": {},
     "output_type": "display_data"
    },
    {
     "name": "stdout",
     "output_type": "stream",
     "text": [
      "Epoch : [4] Train loss : [10.418791624290638]\n",
      "Val Loss : [10.121245574951171]\n",
      "Val L1 : [10.129114628248024]\n"
     ]
    },
    {
     "data": {
      "application/vnd.jupyter.widget-view+json": {
       "model_id": "444a7fc1a16f4916a723ec9d624aaac2",
       "version_major": 2,
       "version_minor": 0
      },
      "text/plain": [
       "  0%|          | 0/982 [00:00<?, ?it/s]"
      ]
     },
     "metadata": {},
     "output_type": "display_data"
    },
    {
     "name": "stdout",
     "output_type": "stream",
     "text": [
      "Epoch : [5] Train loss : [10.035570695298267]\n",
      "Val Loss : [9.92961408441717]\n",
      "Val L1 : [9.948638978318703]\n",
      "Save Model~_~ MODEL_NAME : Conv1d_ver_7_adult_10.pth\n"
     ]
    },
    {
     "data": {
      "application/vnd.jupyter.widget-view+json": {
       "model_id": "1119a467d91c4457ac4a4e194bd03d16",
       "version_major": 2,
       "version_minor": 0
      },
      "text/plain": [
       "  0%|          | 0/982 [00:00<?, ?it/s]"
      ]
     },
     "metadata": {},
     "output_type": "display_data"
    },
    {
     "name": "stdout",
     "output_type": "stream",
     "text": [
      "Epoch : [6] Train loss : [9.768292200783849]\n",
      "Val Loss : [9.497582019459118]\n",
      "Val L1 : [9.494135006792567]\n",
      "Save Model~_~ MODEL_NAME : Conv1d_ver_7_adult_10.pth\n"
     ]
    },
    {
     "data": {
      "application/vnd.jupyter.widget-view+json": {
       "model_id": "aacaaa9050104ce1af3641d0ed1ef8f8",
       "version_major": 2,
       "version_minor": 0
      },
      "text/plain": [
       "  0%|          | 0/982 [00:00<?, ?it/s]"
      ]
     },
     "metadata": {},
     "output_type": "display_data"
    },
    {
     "name": "stdout",
     "output_type": "stream",
     "text": [
      "Epoch : [7] Train loss : [9.616513215354408]\n",
      "Val Loss : [9.028953326832164]\n",
      "Val L1 : [9.073620528682937]\n",
      "Save Model~_~ MODEL_NAME : Conv1d_ver_7_adult_10.pth\n"
     ]
    },
    {
     "data": {
      "application/vnd.jupyter.widget-view+json": {
       "model_id": "544f25fd14ea4cb08821adda08a479c6",
       "version_major": 2,
       "version_minor": 0
      },
      "text/plain": [
       "  0%|          | 0/982 [00:00<?, ?it/s]"
      ]
     },
     "metadata": {},
     "output_type": "display_data"
    },
    {
     "name": "stdout",
     "output_type": "stream",
     "text": [
      "Epoch : [8] Train loss : [9.418409700549061]\n",
      "Val Loss : [8.74188212481412]\n",
      "Val L1 : [8.74484977995427]\n",
      "Save Model~_~ MODEL_NAME : Conv1d_ver_7_adult_10.pth\n"
     ]
    },
    {
     "data": {
      "application/vnd.jupyter.widget-view+json": {
       "model_id": "4d821293b07141a8b6261b5bde0f8e13",
       "version_major": 2,
       "version_minor": 0
      },
      "text/plain": [
       "  0%|          | 0/982 [00:00<?, ?it/s]"
      ]
     },
     "metadata": {},
     "output_type": "display_data"
    },
    {
     "name": "stdout",
     "output_type": "stream",
     "text": [
      "Epoch : [9] Train loss : [9.322826157762174]\n",
      "Val Loss : [8.735089401765304]\n",
      "Val L1 : [8.753879817645666]\n",
      "Save Model~_~ MODEL_NAME : Conv1d_ver_7_adult_10.pth\n"
     ]
    },
    {
     "data": {
      "application/vnd.jupyter.widget-view+json": {
       "model_id": "1fbd4aa1f6254092896ea16ead397a88",
       "version_major": 2,
       "version_minor": 0
      },
      "text/plain": [
       "  0%|          | 0/982 [00:00<?, ?it/s]"
      ]
     },
     "metadata": {},
     "output_type": "display_data"
    },
    {
     "name": "stdout",
     "output_type": "stream",
     "text": [
      "Epoch : [10] Train loss : [9.199567968150992]\n",
      "Val Loss : [8.648727711764248]\n",
      "Val L1 : [8.674845628273863]\n",
      "Save Model~_~ MODEL_NAME : Conv1d_ver_7_adult_10.pth\n"
     ]
    },
    {
     "data": {
      "application/vnd.jupyter.widget-view+json": {
       "model_id": "fd187854f8594542ad4d94cdd1febd78",
       "version_major": 2,
       "version_minor": 0
      },
      "text/plain": [
       "  0%|          | 0/982 [00:00<?, ?it/s]"
      ]
     },
     "metadata": {},
     "output_type": "display_data"
    },
    {
     "name": "stdout",
     "output_type": "stream",
     "text": [
      "Epoch : [11] Train loss : [9.171659749297163]\n",
      "Val Loss : [8.605342422832143]\n",
      "Val L1 : [8.63158319631757]\n",
      "Save Model~_~ MODEL_NAME : Conv1d_ver_7_adult_10.pth\n"
     ]
    },
    {
     "data": {
      "application/vnd.jupyter.widget-view+json": {
       "model_id": "a04299bc9d644e7caf438d06ba2ebfbe",
       "version_major": 2,
       "version_minor": 0
      },
      "text/plain": [
       "  0%|          | 0/982 [00:00<?, ?it/s]"
      ]
     },
     "metadata": {},
     "output_type": "display_data"
    },
    {
     "name": "stdout",
     "output_type": "stream",
     "text": [
      "Epoch : [12] Train loss : [9.063053714282159]\n",
      "Val Loss : [8.375295938145031]\n",
      "Val L1 : [8.378294100392514]\n",
      "Save Model~_~ MODEL_NAME : Conv1d_ver_7_adult_10.pth\n"
     ]
    },
    {
     "data": {
      "application/vnd.jupyter.widget-view+json": {
       "model_id": "4443e9f207e5481ca893852a2a91f861",
       "version_major": 2,
       "version_minor": 0
      },
      "text/plain": [
       "  0%|          | 0/982 [00:00<?, ?it/s]"
      ]
     },
     "metadata": {},
     "output_type": "display_data"
    },
    {
     "name": "stdout",
     "output_type": "stream",
     "text": [
      "Epoch : [13] Train loss : [9.017573181820499]\n",
      "Val Loss : [8.351316950537942]\n",
      "Val L1 : [8.380775186052295]\n",
      "Save Model~_~ MODEL_NAME : Conv1d_ver_7_adult_10.pth\n"
     ]
    },
    {
     "data": {
      "application/vnd.jupyter.widget-view+json": {
       "model_id": "9f2ee663fd5b4be18bac8f71dd32293e",
       "version_major": 2,
       "version_minor": 0
      },
      "text/plain": [
       "  0%|          | 0/982 [00:00<?, ?it/s]"
      ]
     },
     "metadata": {},
     "output_type": "display_data"
    },
    {
     "name": "stdout",
     "output_type": "stream",
     "text": [
      "Epoch : [14] Train loss : [8.996550276420267]\n",
      "Val Loss : [8.31677441596985]\n",
      "Val L1 : [8.339047031347937]\n",
      "Save Model~_~ MODEL_NAME : Conv1d_ver_7_adult_10.pth\n"
     ]
    },
    {
     "data": {
      "application/vnd.jupyter.widget-view+json": {
       "model_id": "6b539e959b9e4733b4adc63f6f09cd63",
       "version_major": 2,
       "version_minor": 0
      },
      "text/plain": [
       "  0%|          | 0/982 [00:00<?, ?it/s]"
      ]
     },
     "metadata": {},
     "output_type": "display_data"
    },
    {
     "name": "stdout",
     "output_type": "stream",
     "text": [
      "Epoch : [15] Train loss : [8.93341050954069]\n",
      "Val Loss : [8.99113036069003]\n",
      "Val L1 : [8.994901243936708]\n"
     ]
    },
    {
     "data": {
      "application/vnd.jupyter.widget-view+json": {
       "model_id": "19e898eb0a02457a83c77efcd454b160",
       "version_major": 2,
       "version_minor": 0
      },
      "text/plain": [
       "  0%|          | 0/982 [00:00<?, ?it/s]"
      ]
     },
     "metadata": {},
     "output_type": "display_data"
    },
    {
     "name": "stdout",
     "output_type": "stream",
     "text": [
      "Epoch : [16] Train loss : [8.891233660781456]\n",
      "Val Loss : [8.403808624094182]\n",
      "Val L1 : [8.405338992362037]\n"
     ]
    },
    {
     "data": {
      "application/vnd.jupyter.widget-view+json": {
       "model_id": "108cc4150bbd42b593cc90d785063630",
       "version_major": 2,
       "version_minor": 0
      },
      "text/plain": [
       "  0%|          | 0/982 [00:00<?, ?it/s]"
      ]
     },
     "metadata": {},
     "output_type": "display_data"
    },
    {
     "name": "stdout",
     "output_type": "stream",
     "text": [
      "Epoch : [17] Train loss : [8.785168040308593]\n",
      "Val Loss : [8.280308511040428]\n",
      "Val L1 : [8.282346315028674]\n",
      "Save Model~_~ MODEL_NAME : Conv1d_ver_7_adult_10.pth\n"
     ]
    },
    {
     "data": {
      "application/vnd.jupyter.widget-view+json": {
       "model_id": "95c726336a8a435abb49b1e7310f3875",
       "version_major": 2,
       "version_minor": 0
      },
      "text/plain": [
       "  0%|          | 0/982 [00:00<?, ?it/s]"
      ]
     },
     "metadata": {},
     "output_type": "display_data"
    },
    {
     "name": "stdout",
     "output_type": "stream",
     "text": [
      "Epoch : [18] Train loss : [8.740649022784106]\n",
      "Val Loss : [8.321956751563333]\n",
      "Val L1 : [8.315622014917412]\n"
     ]
    },
    {
     "data": {
      "application/vnd.jupyter.widget-view+json": {
       "model_id": "59218f2839374f1999a4d2dfcd71bceb",
       "version_major": 2,
       "version_minor": 0
      },
      "text/plain": [
       "  0%|          | 0/982 [00:00<?, ?it/s]"
      ]
     },
     "metadata": {},
     "output_type": "display_data"
    },
    {
     "name": "stdout",
     "output_type": "stream",
     "text": [
      "Epoch : [19] Train loss : [8.706369020788344]\n",
      "Val Loss : [8.193933712352406]\n",
      "Val L1 : [8.17466979149761]\n",
      "Save Model~_~ MODEL_NAME : Conv1d_ver_7_adult_10.pth\n"
     ]
    },
    {
     "data": {
      "application/vnd.jupyter.widget-view+json": {
       "model_id": "ff61e0fe0e874006bba260b5afa4cce1",
       "version_major": 2,
       "version_minor": 0
      },
      "text/plain": [
       "  0%|          | 0/982 [00:00<?, ?it/s]"
      ]
     },
     "metadata": {},
     "output_type": "display_data"
    },
    {
     "name": "stdout",
     "output_type": "stream",
     "text": [
      "Epoch : [20] Train loss : [8.616112219097658]\n",
      "Val Loss : [8.41901966008273]\n",
      "Val L1 : [8.442737482611976]\n"
     ]
    },
    {
     "data": {
      "application/vnd.jupyter.widget-view+json": {
       "model_id": "d5d352df69804d23a0d2cd24b2edb6d3",
       "version_major": 2,
       "version_minor": 0
      },
      "text/plain": [
       "  0%|          | 0/982 [00:00<?, ?it/s]"
      ]
     },
     "metadata": {},
     "output_type": "display_data"
    },
    {
     "name": "stdout",
     "output_type": "stream",
     "text": [
      "Epoch : [21] Train loss : [8.564879913194117]\n",
      "Val Loss : [8.265618302605368]\n",
      "Val L1 : [8.28845485479579]\n"
     ]
    },
    {
     "data": {
      "application/vnd.jupyter.widget-view+json": {
       "model_id": "65aecd8fea7c484381d7a3142be89acd",
       "version_major": 2,
       "version_minor": 0
      },
      "text/plain": [
       "  0%|          | 0/982 [00:00<?, ?it/s]"
      ]
     },
     "metadata": {},
     "output_type": "display_data"
    },
    {
     "name": "stdout",
     "output_type": "stream",
     "text": [
      "Epoch : [22] Train loss : [8.581677124602246]\n",
      "Val Loss : [8.268416725505482]\n",
      "Val L1 : [8.273883301480794]\n"
     ]
    },
    {
     "data": {
      "application/vnd.jupyter.widget-view+json": {
       "model_id": "632e0d69042e4f97b9a01a335a603b59",
       "version_major": 2,
       "version_minor": 0
      },
      "text/plain": [
       "  0%|          | 0/982 [00:00<?, ?it/s]"
      ]
     },
     "metadata": {},
     "output_type": "display_data"
    },
    {
     "name": "stdout",
     "output_type": "stream",
     "text": [
      "Epoch : [23] Train loss : [8.545328670509479]\n",
      "Val Loss : [8.047968613017689]\n",
      "Val L1 : [8.025786431539366]\n",
      "Save Model~_~ MODEL_NAME : Conv1d_ver_7_adult_10.pth\n"
     ]
    },
    {
     "data": {
      "application/vnd.jupyter.widget-view+json": {
       "model_id": "a4ab7ebef8fc4c48b24664a810f37323",
       "version_major": 2,
       "version_minor": 0
      },
      "text/plain": [
       "  0%|          | 0/982 [00:00<?, ?it/s]"
      ]
     },
     "metadata": {},
     "output_type": "display_data"
    },
    {
     "name": "stdout",
     "output_type": "stream",
     "text": [
      "Epoch : [24] Train loss : [8.48657327611189]\n",
      "Val Loss : [8.250281039151279]\n",
      "Val L1 : [8.244775739303632]\n"
     ]
    },
    {
     "data": {
      "application/vnd.jupyter.widget-view+json": {
       "model_id": "30558d7d52ef40db948170a4dc35a1ce",
       "version_major": 2,
       "version_minor": 0
      },
      "text/plain": [
       "  0%|          | 0/982 [00:00<?, ?it/s]"
      ]
     },
     "metadata": {},
     "output_type": "display_data"
    },
    {
     "name": "stdout",
     "output_type": "stream",
     "text": [
      "Epoch : [25] Train loss : [8.393892742708598]\n",
      "Val Loss : [8.105289853702892]\n",
      "Val L1 : [8.088989782470003]\n"
     ]
    },
    {
     "data": {
      "application/vnd.jupyter.widget-view+json": {
       "model_id": "fa5989eb45734db38011f2a1eba55134",
       "version_major": 2,
       "version_minor": 0
      },
      "text/plain": [
       "  0%|          | 0/982 [00:00<?, ?it/s]"
      ]
     },
     "metadata": {},
     "output_type": "display_data"
    },
    {
     "name": "stdout",
     "output_type": "stream",
     "text": [
      "Epoch : [26] Train loss : [8.38944921134203]\n",
      "Val Loss : [8.220289065621117]\n",
      "Val L1 : [8.199941526647967]\n"
     ]
    },
    {
     "data": {
      "application/vnd.jupyter.widget-view+json": {
       "model_id": "106ded0c5f4f4f32aa0bcfdae4b777c5",
       "version_major": 2,
       "version_minor": 0
      },
      "text/plain": [
       "  0%|          | 0/982 [00:00<?, ?it/s]"
      ]
     },
     "metadata": {},
     "output_type": "display_data"
    },
    {
     "name": "stdout",
     "output_type": "stream",
     "text": [
      "Epoch : [27] Train loss : [8.342971648800884]\n",
      "Val Loss : [7.916102500395342]\n",
      "Val L1 : [7.902511636575518]\n",
      "Save Model~_~ MODEL_NAME : Conv1d_ver_7_adult_10.pth\n"
     ]
    },
    {
     "data": {
      "application/vnd.jupyter.widget-view+json": {
       "model_id": "bc090986767e4927b5370e6f73df4756",
       "version_major": 2,
       "version_minor": 0
      },
      "text/plain": [
       "  0%|          | 0/982 [00:00<?, ?it/s]"
      ]
     },
     "metadata": {},
     "output_type": "display_data"
    },
    {
     "name": "stdout",
     "output_type": "stream",
     "text": [
      "Epoch : [28] Train loss : [8.321862031388914]\n",
      "Val Loss : [8.090966840223832]\n",
      "Val L1 : [8.054066071059438]\n"
     ]
    },
    {
     "data": {
      "application/vnd.jupyter.widget-view+json": {
       "model_id": "6938c1366a3448129504cbbcb10c9e40",
       "version_major": 2,
       "version_minor": 0
      },
      "text/plain": [
       "  0%|          | 0/982 [00:00<?, ?it/s]"
      ]
     },
     "metadata": {},
     "output_type": "display_data"
    },
    {
     "name": "stdout",
     "output_type": "stream",
     "text": [
      "Epoch : [29] Train loss : [8.310054932009663]\n",
      "Val Loss : [7.967497881976041]\n",
      "Val L1 : [7.961194812260931]\n"
     ]
    },
    {
     "data": {
      "application/vnd.jupyter.widget-view+json": {
       "model_id": "2479c1b2e7e745a49564c2dbaf439d19",
       "version_major": 2,
       "version_minor": 0
      },
      "text/plain": [
       "  0%|          | 0/982 [00:00<?, ?it/s]"
      ]
     },
     "metadata": {},
     "output_type": "display_data"
    },
    {
     "name": "stdout",
     "output_type": "stream",
     "text": [
      "Epoch : [30] Train loss : [8.272341060055735]\n",
      "Val Loss : [8.006365455280651]\n",
      "Val L1 : [8.01452644752568]\n"
     ]
    },
    {
     "data": {
      "application/vnd.jupyter.widget-view+json": {
       "model_id": "e8a9f46ad63a466aa497da6f6869682a",
       "version_major": 2,
       "version_minor": 0
      },
      "text/plain": [
       "  0%|          | 0/982 [00:00<?, ?it/s]"
      ]
     },
     "metadata": {},
     "output_type": "display_data"
    },
    {
     "name": "stdout",
     "output_type": "stream",
     "text": [
      "Epoch : [31] Train loss : [8.248026694396849]\n",
      "Val Loss : [8.261140593615446]\n",
      "Val L1 : [8.25255928586069]\n"
     ]
    },
    {
     "data": {
      "application/vnd.jupyter.widget-view+json": {
       "model_id": "4b34bfbc1de34fd8bf6aeb3a37e4454a",
       "version_major": 2,
       "version_minor": 0
      },
      "text/plain": [
       "  0%|          | 0/982 [00:00<?, ?it/s]"
      ]
     },
     "metadata": {},
     "output_type": "display_data"
    },
    {
     "name": "stdout",
     "output_type": "stream",
     "text": [
      "Epoch : [32] Train loss : [8.273012959544381]\n",
      "Val Loss : [8.205774727734653]\n",
      "Val L1 : [8.227018553616324]\n"
     ]
    },
    {
     "data": {
      "application/vnd.jupyter.widget-view+json": {
       "model_id": "d24775a6c8e74b28a63102b6fd0682d8",
       "version_major": 2,
       "version_minor": 0
      },
      "text/plain": [
       "  0%|          | 0/982 [00:00<?, ?it/s]"
      ]
     },
     "metadata": {},
     "output_type": "display_data"
    },
    {
     "name": "stdout",
     "output_type": "stream",
     "text": [
      "Epoch : [33] Train loss : [8.210087392577814]\n",
      "Val Loss : [7.860925748131492]\n",
      "Val L1 : [7.845011553723355]\n",
      "Save Model~_~ MODEL_NAME : Conv1d_ver_7_adult_10.pth\n"
     ]
    },
    {
     "data": {
      "application/vnd.jupyter.widget-view+json": {
       "model_id": "268a1b5f4f7b4a8590b7e6b5f2353a1e",
       "version_major": 2,
       "version_minor": 0
      },
      "text/plain": [
       "  0%|          | 0/982 [00:00<?, ?it/s]"
      ]
     },
     "metadata": {},
     "output_type": "display_data"
    },
    {
     "name": "stdout",
     "output_type": "stream",
     "text": [
      "Epoch : [34] Train loss : [8.124684211435726]\n",
      "Val Loss : [7.8997358798980715]\n",
      "Val L1 : [7.89928361679558]\n"
     ]
    },
    {
     "data": {
      "application/vnd.jupyter.widget-view+json": {
       "model_id": "96d3bee4f4da4faeb910bc457596f997",
       "version_major": 2,
       "version_minor": 0
      },
      "text/plain": [
       "  0%|          | 0/982 [00:00<?, ?it/s]"
      ]
     },
     "metadata": {},
     "output_type": "display_data"
    },
    {
     "name": "stdout",
     "output_type": "stream",
     "text": [
      "Epoch : [35] Train loss : [8.12530637904243]\n",
      "Val Loss : [7.984434726021506]\n",
      "Val L1 : [7.9773625365642555]\n"
     ]
    },
    {
     "data": {
      "application/vnd.jupyter.widget-view+json": {
       "model_id": "3941250a396a40db9aa33bf0a605af00",
       "version_major": 2,
       "version_minor": 0
      },
      "text/plain": [
       "  0%|          | 0/982 [00:00<?, ?it/s]"
      ]
     },
     "metadata": {},
     "output_type": "display_data"
    },
    {
     "name": "stdout",
     "output_type": "stream",
     "text": [
      "Epoch : [36] Train loss : [8.068485050240263]\n",
      "Val Loss : [7.898276515440507]\n",
      "Val L1 : [7.89900692226552]\n"
     ]
    },
    {
     "data": {
      "application/vnd.jupyter.widget-view+json": {
       "model_id": "4d82a8dad1e94f5db21d9fda936397ee",
       "version_major": 2,
       "version_minor": 0
      },
      "text/plain": [
       "  0%|          | 0/982 [00:00<?, ?it/s]"
      ]
     },
     "metadata": {},
     "output_type": "display_data"
    },
    {
     "name": "stdout",
     "output_type": "stream",
     "text": [
      "Epoch : [37] Train loss : [8.04715069151216]\n",
      "Val Loss : [8.09059510231018]\n",
      "Val L1 : [8.07396072289322]\n"
     ]
    },
    {
     "data": {
      "application/vnd.jupyter.widget-view+json": {
       "model_id": "1da8ab330311487696236392a20618e2",
       "version_major": 2,
       "version_minor": 0
      },
      "text/plain": [
       "  0%|          | 0/982 [00:00<?, ?it/s]"
      ]
     },
     "metadata": {},
     "output_type": "display_data"
    },
    {
     "name": "stdout",
     "output_type": "stream",
     "text": [
      "Epoch : [38] Train loss : [8.0483002007129]\n",
      "Val Loss : [8.036080897938122]\n",
      "Val L1 : [8.016442360645721]\n"
     ]
    },
    {
     "data": {
      "application/vnd.jupyter.widget-view+json": {
       "model_id": "64d3ed5e8e6b4cdcb807b57da702ece0",
       "version_major": 2,
       "version_minor": 0
      },
      "text/plain": [
       "  0%|          | 0/982 [00:00<?, ?it/s]"
      ]
     },
     "metadata": {},
     "output_type": "display_data"
    },
    {
     "name": "stdout",
     "output_type": "stream",
     "text": [
      "Epoch : [39] Train loss : [7.986610211082971]\n",
      "Val Loss : [8.329058200662786]\n",
      "Val L1 : [8.287784223911755]\n"
     ]
    },
    {
     "data": {
      "application/vnd.jupyter.widget-view+json": {
       "model_id": "6377afa9c7fa4032981b42359de15eb4",
       "version_major": 2,
       "version_minor": 0
      },
      "text/plain": [
       "  0%|          | 0/982 [00:00<?, ?it/s]"
      ]
     },
     "metadata": {},
     "output_type": "display_data"
    },
    {
     "name": "stdout",
     "output_type": "stream",
     "text": [
      "Epoch : [40] Train loss : [7.96647285249714]\n",
      "Val Loss : [7.91887542551214]\n",
      "Val L1 : [7.939197995532891]\n"
     ]
    },
    {
     "data": {
      "application/vnd.jupyter.widget-view+json": {
       "model_id": "bdfa9ea181df4834a26984610d62439c",
       "version_major": 2,
       "version_minor": 0
      },
      "text/plain": [
       "  0%|          | 0/982 [00:00<?, ?it/s]"
      ]
     },
     "metadata": {},
     "output_type": "display_data"
    },
    {
     "name": "stdout",
     "output_type": "stream",
     "text": [
      "Epoch : [41] Train loss : [7.944399320909302]\n",
      "Val Loss : [8.127331677350131]\n",
      "Val L1 : [8.121066993560353]\n"
     ]
    },
    {
     "data": {
      "application/vnd.jupyter.widget-view+json": {
       "model_id": "bd8398090e1a4586bb6e78618d8d2b46",
       "version_major": 2,
       "version_minor": 0
      },
      "text/plain": [
       "  0%|          | 0/982 [00:00<?, ?it/s]"
      ]
     },
     "metadata": {},
     "output_type": "display_data"
    },
    {
     "name": "stdout",
     "output_type": "stream",
     "text": [
      "Epoch : [42] Train loss : [7.952401675906055]\n",
      "Val Loss : [7.792265397852117]\n",
      "Val L1 : [7.779820502863231]\n",
      "Save Model~_~ MODEL_NAME : Conv1d_ver_7_adult_10.pth\n"
     ]
    },
    {
     "data": {
      "application/vnd.jupyter.widget-view+json": {
       "model_id": "c241d93af3124382888ad084cd82d1a8",
       "version_major": 2,
       "version_minor": 0
      },
      "text/plain": [
       "  0%|          | 0/982 [00:00<?, ?it/s]"
      ]
     },
     "metadata": {},
     "output_type": "display_data"
    },
    {
     "name": "stdout",
     "output_type": "stream",
     "text": [
      "Epoch : [43] Train loss : [7.882678441263265]\n",
      "Val Loss : [7.762436415932395]\n",
      "Val L1 : [7.772106880034963]\n",
      "Save Model~_~ MODEL_NAME : Conv1d_ver_7_adult_10.pth\n"
     ]
    },
    {
     "data": {
      "application/vnd.jupyter.widget-view+json": {
       "model_id": "90e9aed9217047cb86b94c93f2d2cd37",
       "version_major": 2,
       "version_minor": 0
      },
      "text/plain": [
       "  0%|          | 0/982 [00:00<?, ?it/s]"
      ]
     },
     "metadata": {},
     "output_type": "display_data"
    },
    {
     "name": "stdout",
     "output_type": "stream",
     "text": [
      "Epoch : [44] Train loss : [7.840540114342559]\n",
      "Val Loss : [7.731213881752708]\n",
      "Val L1 : [7.7228735325329625]\n",
      "Save Model~_~ MODEL_NAME : Conv1d_ver_7_adult_10.pth\n"
     ]
    },
    {
     "data": {
      "application/vnd.jupyter.widget-view+json": {
       "model_id": "1027e79c8ef14a91b249db23574172c8",
       "version_major": 2,
       "version_minor": 0
      },
      "text/plain": [
       "  0%|          | 0/982 [00:00<?, ?it/s]"
      ]
     },
     "metadata": {},
     "output_type": "display_data"
    },
    {
     "name": "stdout",
     "output_type": "stream",
     "text": [
      "Epoch : [45] Train loss : [7.8864059686175185]\n",
      "Val Loss : [7.750042689930309]\n",
      "Val L1 : [7.741962975007415]\n"
     ]
    },
    {
     "data": {
      "application/vnd.jupyter.widget-view+json": {
       "model_id": "1f31f8a131d0444c9b1f3303f9a674af",
       "version_major": 2,
       "version_minor": 0
      },
      "text/plain": [
       "  0%|          | 0/982 [00:00<?, ?it/s]"
      ]
     },
     "metadata": {},
     "output_type": "display_data"
    },
    {
     "name": "stdout",
     "output_type": "stream",
     "text": [
      "Epoch : [46] Train loss : [7.8225983689613106]\n",
      "Val Loss : [8.244200021570379]\n",
      "Val L1 : [8.221874840416676]\n"
     ]
    },
    {
     "data": {
      "application/vnd.jupyter.widget-view+json": {
       "model_id": "499046668b844dc6a454fb8b178be200",
       "version_major": 2,
       "version_minor": 0
      },
      "text/plain": [
       "  0%|          | 0/982 [00:00<?, ?it/s]"
      ]
     },
     "metadata": {},
     "output_type": "display_data"
    },
    {
     "name": "stdout",
     "output_type": "stream",
     "text": [
      "Epoch : [47] Train loss : [7.833370043158288]\n",
      "Val Loss : [7.759570594267411]\n",
      "Val L1 : [7.771432277056412]\n"
     ]
    },
    {
     "data": {
      "application/vnd.jupyter.widget-view+json": {
       "model_id": "62ab4163dd3d42dfbc9a39d7942f8aee",
       "version_major": 2,
       "version_minor": 0
      },
      "text/plain": [
       "  0%|          | 0/982 [00:00<?, ?it/s]"
      ]
     },
     "metadata": {},
     "output_type": "display_data"
    },
    {
     "name": "stdout",
     "output_type": "stream",
     "text": [
      "Epoch : [48] Train loss : [7.794601597271238]\n",
      "Val Loss : [8.76863430630077]\n",
      "Val L1 : [8.757533202950114]\n"
     ]
    },
    {
     "data": {
      "application/vnd.jupyter.widget-view+json": {
       "model_id": "02f47734e71048c5bb1f7cf68b309de0",
       "version_major": 2,
       "version_minor": 0
      },
      "text/plain": [
       "  0%|          | 0/982 [00:00<?, ?it/s]"
      ]
     },
     "metadata": {},
     "output_type": "display_data"
    },
    {
     "name": "stdout",
     "output_type": "stream",
     "text": [
      "Epoch : [49] Train loss : [7.7178038501933734]\n",
      "Val Loss : [7.879817191037264]\n",
      "Val L1 : [7.887461246938623]\n"
     ]
    },
    {
     "data": {
      "application/vnd.jupyter.widget-view+json": {
       "model_id": "d3da02fbf9a143e1b0c85941085264e4",
       "version_major": 2,
       "version_minor": 0
      },
      "text/plain": [
       "  0%|          | 0/982 [00:00<?, ?it/s]"
      ]
     },
     "metadata": {},
     "output_type": "display_data"
    },
    {
     "name": "stdout",
     "output_type": "stream",
     "text": [
      "Epoch : [50] Train loss : [7.746013930761644]\n",
      "Val Loss : [7.711480968648737]\n",
      "Val L1 : [7.692801771191267]\n",
      "Save Model~_~ MODEL_NAME : Conv1d_ver_7_adult_10.pth\n"
     ]
    },
    {
     "data": {
      "application/vnd.jupyter.widget-view+json": {
       "model_id": "1abe8b39427c422981bb2bf1759ff9c5",
       "version_major": 2,
       "version_minor": 0
      },
      "text/plain": [
       "  0%|          | 0/982 [00:00<?, ?it/s]"
      ]
     },
     "metadata": {},
     "output_type": "display_data"
    },
    {
     "name": "stdout",
     "output_type": "stream",
     "text": [
      "Epoch : [51] Train loss : [7.7028058594938695]\n",
      "Val Loss : [7.776083191958341]\n",
      "Val L1 : [7.786242675234732]\n"
     ]
    },
    {
     "data": {
      "application/vnd.jupyter.widget-view+json": {
       "model_id": "989e9f7ca316495590d972c600a59446",
       "version_major": 2,
       "version_minor": 0
      },
      "text/plain": [
       "  0%|          | 0/982 [00:00<?, ?it/s]"
      ]
     },
     "metadata": {},
     "output_type": "display_data"
    },
    {
     "name": "stdout",
     "output_type": "stream",
     "text": [
      "Epoch : [52] Train loss : [7.6848027749848224]\n",
      "Val Loss : [7.952425003051758]\n",
      "Val L1 : [7.945352410040476]\n"
     ]
    },
    {
     "data": {
      "application/vnd.jupyter.widget-view+json": {
       "model_id": "ebbfc2516cd34dbfb637dd1562adfae1",
       "version_major": 2,
       "version_minor": 0
      },
      "text/plain": [
       "  0%|          | 0/982 [00:00<?, ?it/s]"
      ]
     },
     "metadata": {},
     "output_type": "display_data"
    },
    {
     "name": "stdout",
     "output_type": "stream",
     "text": [
      "Epoch : [53] Train loss : [7.65100279893506]\n",
      "Val Loss : [7.729389667510986]\n",
      "Val L1 : [7.7400016402105205]\n"
     ]
    },
    {
     "data": {
      "application/vnd.jupyter.widget-view+json": {
       "model_id": "29938b033fbf4fa58b8cda8f51c70269",
       "version_major": 2,
       "version_minor": 0
      },
      "text/plain": [
       "  0%|          | 0/982 [00:00<?, ?it/s]"
      ]
     },
     "metadata": {},
     "output_type": "display_data"
    },
    {
     "name": "stdout",
     "output_type": "stream",
     "text": [
      "Epoch : [54] Train loss : [7.565669008767775]\n",
      "Val Loss : [7.864253286881881]\n",
      "Val L1 : [7.823880397282903]\n"
     ]
    },
    {
     "data": {
      "application/vnd.jupyter.widget-view+json": {
       "model_id": "ce739db6384a4fefa4b68f008d3dc052",
       "version_major": 2,
       "version_minor": 0
      },
      "text/plain": [
       "  0%|          | 0/982 [00:00<?, ?it/s]"
      ]
     },
     "metadata": {},
     "output_type": "display_data"
    },
    {
     "name": "stdout",
     "output_type": "stream",
     "text": [
      "Epoch : [55] Train loss : [7.632503102121916]\n",
      "Val Loss : [7.846990065141157]\n",
      "Val L1 : [7.82737971855098]\n"
     ]
    },
    {
     "data": {
      "application/vnd.jupyter.widget-view+json": {
       "model_id": "86970507f2d24b79aa775890d80e3ceb",
       "version_major": 2,
       "version_minor": 0
      },
      "text/plain": [
       "  0%|          | 0/982 [00:00<?, ?it/s]"
      ]
     },
     "metadata": {},
     "output_type": "display_data"
    },
    {
     "name": "stdout",
     "output_type": "stream",
     "text": [
      "Epoch : [56] Train loss : [7.565201853540424]\n",
      "Val Loss : [8.015426050532948]\n",
      "Val L1 : [8.020499960672549]\n"
     ]
    },
    {
     "data": {
      "application/vnd.jupyter.widget-view+json": {
       "model_id": "3c582efd205c4940ad8bf8ee7888e517",
       "version_major": 2,
       "version_minor": 0
      },
      "text/plain": [
       "  0%|          | 0/982 [00:00<?, ?it/s]"
      ]
     },
     "metadata": {},
     "output_type": "display_data"
    },
    {
     "name": "stdout",
     "output_type": "stream",
     "text": [
      "Epoch : [57] Train loss : [7.592549355112608]\n",
      "Val Loss : [7.7110534017736265]\n",
      "Val L1 : [7.691146044471544]\n",
      "Save Model~_~ MODEL_NAME : Conv1d_ver_7_adult_10.pth\n"
     ]
    },
    {
     "data": {
      "application/vnd.jupyter.widget-view+json": {
       "model_id": "b7bd69a3ae75417faca24fc4d4fd3ce0",
       "version_major": 2,
       "version_minor": 0
      },
      "text/plain": [
       "  0%|          | 0/982 [00:00<?, ?it/s]"
      ]
     },
     "metadata": {},
     "output_type": "display_data"
    },
    {
     "name": "stdout",
     "output_type": "stream",
     "text": [
      "Epoch : [58] Train loss : [7.561241515056665]\n",
      "Val Loss : [7.6715648651123045]\n",
      "Val L1 : [7.683511888673449]\n",
      "Save Model~_~ MODEL_NAME : Conv1d_ver_7_adult_10.pth\n"
     ]
    },
    {
     "data": {
      "application/vnd.jupyter.widget-view+json": {
       "model_id": "8fd9a3b01d024c56975a7f5f5b54f0be",
       "version_major": 2,
       "version_minor": 0
      },
      "text/plain": [
       "  0%|          | 0/982 [00:00<?, ?it/s]"
      ]
     },
     "metadata": {},
     "output_type": "display_data"
    },
    {
     "name": "stdout",
     "output_type": "stream",
     "text": [
      "Epoch : [59] Train loss : [7.543908389668358]\n",
      "Val Loss : [8.145089786702936]\n",
      "Val L1 : [8.134961626112974]\n"
     ]
    },
    {
     "data": {
      "application/vnd.jupyter.widget-view+json": {
       "model_id": "d7a6dc185ad144cfb96289a6fe719b64",
       "version_major": 2,
       "version_minor": 0
      },
      "text/plain": [
       "  0%|          | 0/982 [00:00<?, ?it/s]"
      ]
     },
     "metadata": {},
     "output_type": "display_data"
    },
    {
     "name": "stdout",
     "output_type": "stream",
     "text": [
      "Epoch : [60] Train loss : [7.518939721851388]\n",
      "Val Loss : [8.303180421482432]\n",
      "Val L1 : [8.267543623303958]\n"
     ]
    },
    {
     "data": {
      "application/vnd.jupyter.widget-view+json": {
       "model_id": "8b7a6b778ffa42a99d82ecb8caf4c8c8",
       "version_major": 2,
       "version_minor": 0
      },
      "text/plain": [
       "  0%|          | 0/982 [00:00<?, ?it/s]"
      ]
     },
     "metadata": {},
     "output_type": "display_data"
    },
    {
     "name": "stdout",
     "output_type": "stream",
     "text": [
      "Epoch : [61] Train loss : [7.494025170196098]\n",
      "Val Loss : [7.681663985685868]\n",
      "Val L1 : [7.682551849605702]\n"
     ]
    },
    {
     "data": {
      "application/vnd.jupyter.widget-view+json": {
       "model_id": "4871c850e5fe4f2c85472b15e6241107",
       "version_major": 2,
       "version_minor": 0
      },
      "text/plain": [
       "  0%|          | 0/982 [00:00<?, ?it/s]"
      ]
     },
     "metadata": {},
     "output_type": "display_data"
    },
    {
     "name": "stdout",
     "output_type": "stream",
     "text": [
      "Epoch : [62] Train loss : [7.466384020939378]\n",
      "Val Loss : [7.836837655847723]\n",
      "Val L1 : [7.834690467812612]\n"
     ]
    },
    {
     "data": {
      "application/vnd.jupyter.widget-view+json": {
       "model_id": "d3fe481d121d4bf6a787f07a454ccd41",
       "version_major": 2,
       "version_minor": 0
      },
      "text/plain": [
       "  0%|          | 0/982 [00:00<?, ?it/s]"
      ]
     },
     "metadata": {},
     "output_type": "display_data"
    },
    {
     "name": "stdout",
     "output_type": "stream",
     "text": [
      "Epoch : [63] Train loss : [7.491594068387375]\n",
      "Val Loss : [8.006510595841842]\n",
      "Val L1 : [7.967895861409796]\n"
     ]
    },
    {
     "data": {
      "application/vnd.jupyter.widget-view+json": {
       "model_id": "998c6c290c3f49fdaf5e2660cfe4bc73",
       "version_major": 2,
       "version_minor": 0
      },
      "text/plain": [
       "  0%|          | 0/982 [00:00<?, ?it/s]"
      ]
     },
     "metadata": {},
     "output_type": "display_data"
    },
    {
     "name": "stdout",
     "output_type": "stream",
     "text": [
      "Epoch : [64] Train loss : [7.398732157685849]\n",
      "Val Loss : [7.922928983514959]\n",
      "Val L1 : [7.918201051947039]\n"
     ]
    },
    {
     "data": {
      "application/vnd.jupyter.widget-view+json": {
       "model_id": "bbc6bf363ffd4b729798866719074dc1",
       "version_major": 2,
       "version_minor": 0
      },
      "text/plain": [
       "  0%|          | 0/982 [00:00<?, ?it/s]"
      ]
     },
     "metadata": {},
     "output_type": "display_data"
    },
    {
     "name": "stdout",
     "output_type": "stream",
     "text": [
      "Epoch : [65] Train loss : [7.346615294332174]\n",
      "Val Loss : [7.890045699206266]\n",
      "Val L1 : [7.875612336516722]\n"
     ]
    },
    {
     "data": {
      "application/vnd.jupyter.widget-view+json": {
       "model_id": "0c34eff5dab242acbb58960897523d53",
       "version_major": 2,
       "version_minor": 0
      },
      "text/plain": [
       "  0%|          | 0/982 [00:00<?, ?it/s]"
      ]
     },
     "metadata": {},
     "output_type": "display_data"
    },
    {
     "name": "stdout",
     "output_type": "stream",
     "text": [
      "Epoch : [66] Train loss : [7.346305363532725]\n",
      "Val Loss : [8.020701612125743]\n",
      "Val L1 : [7.998954333002041]\n"
     ]
    },
    {
     "data": {
      "application/vnd.jupyter.widget-view+json": {
       "model_id": "3dcca58c426d4f6e84e95de2f455546f",
       "version_major": 2,
       "version_minor": 0
      },
      "text/plain": [
       "  0%|          | 0/982 [00:00<?, ?it/s]"
      ]
     },
     "metadata": {},
     "output_type": "display_data"
    },
    {
     "name": "stdout",
     "output_type": "stream",
     "text": [
      "Epoch : [67] Train loss : [7.334495486649865]\n",
      "Val Loss : [7.857628319480202]\n",
      "Val L1 : [7.81880248050635]\n"
     ]
    },
    {
     "data": {
      "application/vnd.jupyter.widget-view+json": {
       "model_id": "a51abad123c4454198d45e42aa233ca6",
       "version_major": 2,
       "version_minor": 0
      },
      "text/plain": [
       "  0%|          | 0/982 [00:00<?, ?it/s]"
      ]
     },
     "metadata": {},
     "output_type": "display_data"
    },
    {
     "name": "stdout",
     "output_type": "stream",
     "text": [
      "Epoch : [68] Train loss : [7.31335793663188]\n",
      "Val Loss : [7.746434120698408]\n",
      "Val L1 : [7.752915696633238]\n"
     ]
    },
    {
     "data": {
      "application/vnd.jupyter.widget-view+json": {
       "model_id": "629b5adea70944bba0686b1783abd108",
       "version_major": 2,
       "version_minor": 0
      },
      "text/plain": [
       "  0%|          | 0/982 [00:00<?, ?it/s]"
      ]
     },
     "metadata": {},
     "output_type": "display_data"
    },
    {
     "name": "stdout",
     "output_type": "stream",
     "text": [
      "Epoch : [69] Train loss : [7.315141516887486]\n",
      "Val Loss : [7.719660100069913]\n",
      "Val L1 : [7.706536055294354]\n",
      "Epoch 00069: reducing learning rate of group 0 to 5.0000e-04.\n"
     ]
    },
    {
     "data": {
      "application/vnd.jupyter.widget-view+json": {
       "model_id": "8a2eeada886c494b9bcea699ef790a05",
       "version_major": 2,
       "version_minor": 0
      },
      "text/plain": [
       "  0%|          | 0/982 [00:00<?, ?it/s]"
      ]
     },
     "metadata": {},
     "output_type": "display_data"
    },
    {
     "name": "stdout",
     "output_type": "stream",
     "text": [
      "Epoch : [70] Train loss : [6.8522826285080605]\n",
      "Val Loss : [7.707191770726984]\n",
      "Val L1 : [7.716119222996228]\n",
      "Final Best error : [7.683511888673449]\n",
      "Final Best loss : [7.6715648651123045]\n"
     ]
    }
   ],
   "source": [
    "kfold = KFold(n_splits=10)\n",
    "fold = 0\n",
    "\n",
    "for train_idx, val_idx in kfold.split(adult_np):\n",
    "    fold = fold+1\n",
    "    if fold > 6:\n",
    "        train_adult_x, val_adult_x = adult_np[train_idx], adult_np[val_idx] \n",
    "        train_adult_y, val_adult_y = train_adult_age[train_idx], train_adult_age[val_idx]\n",
    "        print(train_adult_x.shape)\n",
    "        print(val_adult_x.shape)\n",
    "        print(train_adult_y.shape)\n",
    "        print(val_adult_y.shape)\n",
    "        \n",
    "        train_adult_sex, val_adult_sex = adult_sex[train_idx], adult_sex[val_idx]\n",
    "        print(train_adult_sex.shape)\n",
    "        print(val_adult_sex.shape)\n",
    "     \n",
    "        train_adult_dataset = MyDataset(torch.tensor(train_adult_x),torch.tensor(train_adult_y), torch.tensor(train_adult_sex))\n",
    "        train_adult_loader = DataLoader(train_adult_dataset, batch_size=BS, shuffle=True)\n",
    "        val_adult_dataset = MyDataset(torch.tensor(val_adult_x),torch.tensor(val_adult_y), torch.tensor(val_adult_sex))\n",
    "        val_adult_loader = DataLoader(val_adult_dataset, batch_size=BS, shuffle=False)\n",
    "    \n",
    "        \n",
    "        it = iter(train_adult_loader)\n",
    "        input_size = next(it)[0].shape[2]\n",
    "    \n",
    "        print(f\"Adult {fold} fold model training start ~_~\")\n",
    "    \n",
    "        gc.collect()\n",
    "        ### ADULT MODEL ###\n",
    "        seed_everything(SEED)\n",
    "        model = Model(input_size)\n",
    "        model = model.to(device)\n",
    "        print(summary(model))\n",
    "        \n",
    "        optimizer = torch.optim.AdamW(params = model.parameters(), lr = LR, weight_decay=1e-2)#Opimizer : AdamW\n",
    "        scheduler = torch.optim.lr_scheduler.ReduceLROnPlateau(optimizer, mode='min', factor=0.5, patience=10, threshold = 1e-8, threshold_mode='abs', min_lr=1e-8, verbose=True)\n",
    "        trainer = Trainer(model, optimizer, train_adult_loader, val_adult_loader, scheduler, device, fold, 'adult')\n",
    "        trainer.fit()\n",
    "\n",
    "\n",
    "    "
   ]
  },
  {
   "cell_type": "code",
   "execution_count": 17,
   "id": "f732c582-5b81-4245-9753-58feb579f629",
   "metadata": {},
   "outputs": [
    {
     "name": "stdout",
     "output_type": "stream",
     "text": [
      "(7903, 5000, 12)\n",
      "(878, 5000, 12)\n",
      "(7903,)\n",
      "(878,)\n",
      "(7903,)\n",
      "(878,)\n",
      "Child 10 fold model training start ~_~\n",
      "=================================================================\n",
      "Layer (type:depth-idx)                   Param #\n",
      "=================================================================\n",
      "Model                                    --\n",
      "├─Sequential: 1-1                        --\n",
      "│    └─Conv1d: 2-1                       592\n",
      "│    └─ReLU: 2-2                         --\n",
      "│    └─GroupNorm: 2-3                    32\n",
      "│    └─Conv1d: 2-4                       784\n",
      "│    └─ReLU: 2-5                         --\n",
      "│    └─GroupNorm: 2-6                    32\n",
      "│    └─Conv1d: 2-7                       784\n",
      "│    └─ReLU: 2-8                         --\n",
      "│    └─GroupNorm: 2-9                    32\n",
      "│    └─AvgPool1d: 2-10                   --\n",
      "├─Sequential: 1-2                        --\n",
      "│    └─Conv1d: 2-11                      1,568\n",
      "│    └─ReLU: 2-12                        --\n",
      "│    └─GroupNorm: 2-13                   64\n",
      "│    └─Conv1d: 2-14                      3,104\n",
      "│    └─ReLU: 2-15                        --\n",
      "│    └─GroupNorm: 2-16                   64\n",
      "│    └─Conv1d: 2-17                      3,104\n",
      "│    └─ReLU: 2-18                        --\n",
      "│    └─GroupNorm: 2-19                   64\n",
      "│    └─AvgPool1d: 2-20                   --\n",
      "├─Sequential: 1-3                        --\n",
      "│    └─Conv1d: 2-21                      6,208\n",
      "│    └─ReLU: 2-22                        --\n",
      "│    └─GroupNorm: 2-23                   128\n",
      "│    └─Conv1d: 2-24                      12,352\n",
      "│    └─ReLU: 2-25                        --\n",
      "│    └─GroupNorm: 2-26                   128\n",
      "│    └─Conv1d: 2-27                      12,352\n",
      "│    └─ReLU: 2-28                        --\n",
      "│    └─GroupNorm: 2-29                   128\n",
      "│    └─AvgPool1d: 2-30                   --\n",
      "├─Sequential: 1-4                        --\n",
      "│    └─Conv1d: 2-31                      24,704\n",
      "│    └─ReLU: 2-32                        --\n",
      "│    └─GroupNorm: 2-33                   256\n",
      "│    └─Conv1d: 2-34                      49,280\n",
      "│    └─ReLU: 2-35                        --\n",
      "│    └─GroupNorm: 2-36                   256\n",
      "│    └─Conv1d: 2-37                      49,280\n",
      "│    └─ReLU: 2-38                        --\n",
      "│    └─GroupNorm: 2-39                   256\n",
      "│    └─AvgPool1d: 2-40                   --\n",
      "├─AdaptiveAvgPool1d: 1-5                 --\n",
      "├─Sequential: 1-6                        --\n",
      "│    └─Dropout: 2-41                     --\n",
      "│    └─Linear: 2-42                      130\n",
      "=================================================================\n",
      "Total params: 165,682\n",
      "Trainable params: 165,682\n",
      "Non-trainable params: 0\n",
      "=================================================================\n"
     ]
    },
    {
     "name": "stderr",
     "output_type": "stream",
     "text": [
      "/var/folders/wh/7nbvd7tj6j99g3z6knc92ccc0000gn/T/ipykernel_26520/326351055.py:38: UserWarning: nn.init.constant is now deprecated in favor of nn.init.constant_.\n",
      "  nn.init.constant(m.weight, 1)\n",
      "/var/folders/wh/7nbvd7tj6j99g3z6knc92ccc0000gn/T/ipykernel_26520/326351055.py:39: UserWarning: nn.init.constant is now deprecated in favor of nn.init.constant_.\n",
      "  nn.init.constant(m.bias, 0)\n"
     ]
    },
    {
     "data": {
      "application/vnd.jupyter.widget-view+json": {
       "model_id": "ca7b566013b14dd2b4d2aff826aca176",
       "version_major": 2,
       "version_minor": 0
      },
      "text/plain": [
       "  0%|          | 0/247 [00:00<?, ?it/s]"
      ]
     },
     "metadata": {},
     "output_type": "display_data"
    },
    {
     "name": "stderr",
     "output_type": "stream",
     "text": [
      "/opt/homebrew/Caskroom/miniforge/base/envs/cain_real/lib/python3.8/site-packages/torch/autograd/__init__.py:200: UserWarning: The operator 'aten::sgn.out' is not currently supported on the MPS backend and will fall back to run on the CPU. This may have performance implications. (Triggered internally at /Users/runner/work/_temp/anaconda/conda-bld/pytorch_1682343685278/work/aten/src/ATen/mps/MPSFallback.mm:11.)\n",
      "  Variable._execution_engine.run_backward(  # Calls into the C++ engine to run the backward pass\n"
     ]
    },
    {
     "name": "stdout",
     "output_type": "stream",
     "text": [
      "Epoch : [1] Train loss : [1.0575660669851883]\n",
      "Val Loss : [0.8905339794499534]\n",
      "Val L1 : [0.883103128781453]\n",
      "Save Model~_~ MODEL_NAME : Conv1d_ver_7_child_10.pth\n"
     ]
    },
    {
     "data": {
      "application/vnd.jupyter.widget-view+json": {
       "model_id": "b57a2305ba4f40e188417ba5d83c2199",
       "version_major": 2,
       "version_minor": 0
      },
      "text/plain": [
       "  0%|          | 0/247 [00:00<?, ?it/s]"
      ]
     },
     "metadata": {},
     "output_type": "display_data"
    },
    {
     "name": "stdout",
     "output_type": "stream",
     "text": [
      "Epoch : [2] Train loss : [0.8657087186570109]\n",
      "Val Loss : [0.8010637589863369]\n",
      "Val L1 : [0.7945444280099218]\n",
      "Save Model~_~ MODEL_NAME : Conv1d_ver_7_child_10.pth\n"
     ]
    },
    {
     "data": {
      "application/vnd.jupyter.widget-view+json": {
       "model_id": "835ad0f8a1e44d94ac0604a7fe192642",
       "version_major": 2,
       "version_minor": 0
      },
      "text/plain": [
       "  0%|          | 0/247 [00:00<?, ?it/s]"
      ]
     },
     "metadata": {},
     "output_type": "display_data"
    },
    {
     "name": "stdout",
     "output_type": "stream",
     "text": [
      "Epoch : [3] Train loss : [0.7731323115497466]\n",
      "Val Loss : [0.7493177056312561]\n",
      "Val L1 : [0.7429475380375065]\n",
      "Save Model~_~ MODEL_NAME : Conv1d_ver_7_child_10.pth\n"
     ]
    },
    {
     "data": {
      "application/vnd.jupyter.widget-view+json": {
       "model_id": "c8776b3239884f909c7fcefee45ebeb8",
       "version_major": 2,
       "version_minor": 0
      },
      "text/plain": [
       "  0%|          | 0/247 [00:00<?, ?it/s]"
      ]
     },
     "metadata": {},
     "output_type": "display_data"
    },
    {
     "name": "stdout",
     "output_type": "stream",
     "text": [
      "Epoch : [4] Train loss : [0.7275389473930545]\n",
      "Val Loss : [0.7102657109498978]\n",
      "Val L1 : [0.704043752308044]\n",
      "Save Model~_~ MODEL_NAME : Conv1d_ver_7_child_10.pth\n"
     ]
    },
    {
     "data": {
      "application/vnd.jupyter.widget-view+json": {
       "model_id": "d438e9862a3948f1a0f81437e15dd327",
       "version_major": 2,
       "version_minor": 0
      },
      "text/plain": [
       "  0%|          | 0/247 [00:00<?, ?it/s]"
      ]
     },
     "metadata": {},
     "output_type": "display_data"
    },
    {
     "name": "stdout",
     "output_type": "stream",
     "text": [
      "Epoch : [5] Train loss : [0.6792371151177025]\n",
      "Val Loss : [0.6781061440706253]\n",
      "Val L1 : [0.672224199225392]\n",
      "Save Model~_~ MODEL_NAME : Conv1d_ver_7_child_10.pth\n"
     ]
    },
    {
     "data": {
      "application/vnd.jupyter.widget-view+json": {
       "model_id": "920a7ecd1a8645dd99000f26dc7788e0",
       "version_major": 2,
       "version_minor": 0
      },
      "text/plain": [
       "  0%|          | 0/247 [00:00<?, ?it/s]"
      ]
     },
     "metadata": {},
     "output_type": "display_data"
    },
    {
     "name": "stdout",
     "output_type": "stream",
     "text": [
      "Epoch : [6] Train loss : [0.6434990698509371]\n",
      "Val Loss : [0.6466531508735248]\n",
      "Val L1 : [0.6404670992513996]\n",
      "Save Model~_~ MODEL_NAME : Conv1d_ver_7_child_10.pth\n"
     ]
    },
    {
     "data": {
      "application/vnd.jupyter.widget-view+json": {
       "model_id": "8fd817608154435abd023d113c76b0c7",
       "version_major": 2,
       "version_minor": 0
      },
      "text/plain": [
       "  0%|          | 0/247 [00:00<?, ?it/s]"
      ]
     },
     "metadata": {},
     "output_type": "display_data"
    },
    {
     "name": "stdout",
     "output_type": "stream",
     "text": [
      "Epoch : [7] Train loss : [0.6249928742285199]\n",
      "Val Loss : [0.6147180710520063]\n",
      "Val L1 : [0.610448949531162]\n",
      "Save Model~_~ MODEL_NAME : Conv1d_ver_7_child_10.pth\n"
     ]
    },
    {
     "data": {
      "application/vnd.jupyter.widget-view+json": {
       "model_id": "6144f3fe5bd34a5fb41dcacb23f2d86c",
       "version_major": 2,
       "version_minor": 0
      },
      "text/plain": [
       "  0%|          | 0/247 [00:00<?, ?it/s]"
      ]
     },
     "metadata": {},
     "output_type": "display_data"
    },
    {
     "name": "stdout",
     "output_type": "stream",
     "text": [
      "Epoch : [8] Train loss : [0.6084409292168945]\n",
      "Val Loss : [0.618944162768977]\n",
      "Val L1 : [0.6163583982031546]\n"
     ]
    },
    {
     "data": {
      "application/vnd.jupyter.widget-view+json": {
       "model_id": "106371b115344dedb95e5b6157fad536",
       "version_major": 2,
       "version_minor": 0
      },
      "text/plain": [
       "  0%|          | 0/247 [00:00<?, ?it/s]"
      ]
     },
     "metadata": {},
     "output_type": "display_data"
    },
    {
     "name": "stdout",
     "output_type": "stream",
     "text": [
      "Epoch : [9] Train loss : [0.6142255025595306]\n",
      "Val Loss : [0.6052306794694492]\n",
      "Val L1 : [0.5992250146009113]\n",
      "Save Model~_~ MODEL_NAME : Conv1d_ver_7_child_10.pth\n"
     ]
    },
    {
     "data": {
      "application/vnd.jupyter.widget-view+json": {
       "model_id": "af05fba03c6e471cba8e506bac2a351a",
       "version_major": 2,
       "version_minor": 0
      },
      "text/plain": [
       "  0%|          | 0/247 [00:00<?, ?it/s]"
      ]
     },
     "metadata": {},
     "output_type": "display_data"
    },
    {
     "name": "stdout",
     "output_type": "stream",
     "text": [
      "Epoch : [10] Train loss : [0.591187708290965]\n",
      "Val Loss : [0.6220691651105881]\n",
      "Val L1 : [0.6158644754210474]\n"
     ]
    },
    {
     "data": {
      "application/vnd.jupyter.widget-view+json": {
       "model_id": "06dcee4b459c4200abadca465c71da51",
       "version_major": 2,
       "version_minor": 0
      },
      "text/plain": [
       "  0%|          | 0/247 [00:00<?, ?it/s]"
      ]
     },
     "metadata": {},
     "output_type": "display_data"
    },
    {
     "name": "stdout",
     "output_type": "stream",
     "text": [
      "Epoch : [11] Train loss : [0.5810718765625587]\n",
      "Val Loss : [0.663684429866927]\n",
      "Val L1 : [0.6577842781714807]\n"
     ]
    },
    {
     "data": {
      "application/vnd.jupyter.widget-view+json": {
       "model_id": "56f5c70740a742acba12ac3435c0499c",
       "version_major": 2,
       "version_minor": 0
      },
      "text/plain": [
       "  0%|          | 0/247 [00:00<?, ?it/s]"
      ]
     },
     "metadata": {},
     "output_type": "display_data"
    },
    {
     "name": "stdout",
     "output_type": "stream",
     "text": [
      "Epoch : [12] Train loss : [0.5674925898974724]\n",
      "Val Loss : [0.6013416403106281]\n",
      "Val L1 : [0.5966551972718608]\n",
      "Save Model~_~ MODEL_NAME : Conv1d_ver_7_child_10.pth\n"
     ]
    },
    {
     "data": {
      "application/vnd.jupyter.widget-view+json": {
       "model_id": "c6fc9a3a72b347baad43d3100f7c0f9e",
       "version_major": 2,
       "version_minor": 0
      },
      "text/plain": [
       "  0%|          | 0/247 [00:00<?, ?it/s]"
      ]
     },
     "metadata": {},
     "output_type": "display_data"
    },
    {
     "name": "stdout",
     "output_type": "stream",
     "text": [
      "Epoch : [13] Train loss : [0.5585596478178434]\n",
      "Val Loss : [0.5963483686958041]\n",
      "Val L1 : [0.5919419957116959]\n",
      "Save Model~_~ MODEL_NAME : Conv1d_ver_7_child_10.pth\n"
     ]
    },
    {
     "data": {
      "application/vnd.jupyter.widget-view+json": {
       "model_id": "2434da44925d4eda934a7dbb1fc6bce7",
       "version_major": 2,
       "version_minor": 0
      },
      "text/plain": [
       "  0%|          | 0/247 [00:00<?, ?it/s]"
      ]
     },
     "metadata": {},
     "output_type": "display_data"
    },
    {
     "name": "stdout",
     "output_type": "stream",
     "text": [
      "Epoch : [14] Train loss : [0.5438318206110464]\n",
      "Val Loss : [0.6016315817832947]\n",
      "Val L1 : [0.5980528648051694]\n"
     ]
    },
    {
     "data": {
      "application/vnd.jupyter.widget-view+json": {
       "model_id": "170bcb6c541841f5811dbf314f55dc9f",
       "version_major": 2,
       "version_minor": 0
      },
      "text/plain": [
       "  0%|          | 0/247 [00:00<?, ?it/s]"
      ]
     },
     "metadata": {},
     "output_type": "display_data"
    },
    {
     "name": "stdout",
     "output_type": "stream",
     "text": [
      "Epoch : [15] Train loss : [0.5449785189589991]\n",
      "Val Loss : [0.5863090838704791]\n",
      "Val L1 : [0.5827784373728316]\n",
      "Save Model~_~ MODEL_NAME : Conv1d_ver_7_child_10.pth\n"
     ]
    },
    {
     "data": {
      "application/vnd.jupyter.widget-view+json": {
       "model_id": "6312c967ea7a4201929048416b35346b",
       "version_major": 2,
       "version_minor": 0
      },
      "text/plain": [
       "  0%|          | 0/247 [00:00<?, ?it/s]"
      ]
     },
     "metadata": {},
     "output_type": "display_data"
    },
    {
     "name": "stdout",
     "output_type": "stream",
     "text": [
      "Epoch : [16] Train loss : [0.5346042232716132]\n",
      "Val Loss : [0.607049822807312]\n",
      "Val L1 : [0.6003784011192366]\n"
     ]
    },
    {
     "data": {
      "application/vnd.jupyter.widget-view+json": {
       "model_id": "7f67658e758f4e8e9fcbde01fe0ef656",
       "version_major": 2,
       "version_minor": 0
      },
      "text/plain": [
       "  0%|          | 0/247 [00:00<?, ?it/s]"
      ]
     },
     "metadata": {},
     "output_type": "display_data"
    },
    {
     "name": "stdout",
     "output_type": "stream",
     "text": [
      "Epoch : [17] Train loss : [0.5289167781107822]\n",
      "Val Loss : [0.6140984030706542]\n",
      "Val L1 : [0.6088895191754594]\n"
     ]
    },
    {
     "data": {
      "application/vnd.jupyter.widget-view+json": {
       "model_id": "eac343abbb894f819d4b43416b2d5743",
       "version_major": 2,
       "version_minor": 0
      },
      "text/plain": [
       "  0%|          | 0/247 [00:00<?, ?it/s]"
      ]
     },
     "metadata": {},
     "output_type": "display_data"
    },
    {
     "name": "stdout",
     "output_type": "stream",
     "text": [
      "Epoch : [18] Train loss : [0.5176903009414673]\n",
      "Val Loss : [0.5937023875968797]\n",
      "Val L1 : [0.5903108440220763]\n"
     ]
    },
    {
     "data": {
      "application/vnd.jupyter.widget-view+json": {
       "model_id": "bc2a7c36ed8b42c59e0380775443d453",
       "version_major": 2,
       "version_minor": 0
      },
      "text/plain": [
       "  0%|          | 0/247 [00:00<?, ?it/s]"
      ]
     },
     "metadata": {},
     "output_type": "display_data"
    },
    {
     "name": "stdout",
     "output_type": "stream",
     "text": [
      "Epoch : [19] Train loss : [0.5121796951602827]\n",
      "Val Loss : [0.5899329100336347]\n",
      "Val L1 : [0.5893983378123857]\n"
     ]
    },
    {
     "data": {
      "application/vnd.jupyter.widget-view+json": {
       "model_id": "b5c17abc9f6848cb8678363b0ca246a6",
       "version_major": 2,
       "version_minor": 0
      },
      "text/plain": [
       "  0%|          | 0/247 [00:00<?, ?it/s]"
      ]
     },
     "metadata": {},
     "output_type": "display_data"
    },
    {
     "name": "stdout",
     "output_type": "stream",
     "text": [
      "Epoch : [20] Train loss : [0.5087665962545496]\n",
      "Val Loss : [0.5797517842480114]\n",
      "Val L1 : [0.5774061622221133]\n",
      "Save Model~_~ MODEL_NAME : Conv1d_ver_7_child_10.pth\n"
     ]
    },
    {
     "data": {
      "application/vnd.jupyter.widget-view+json": {
       "model_id": "5c63472cc75545b5871b3d02d0d87a88",
       "version_major": 2,
       "version_minor": 0
      },
      "text/plain": [
       "  0%|          | 0/247 [00:00<?, ?it/s]"
      ]
     },
     "metadata": {},
     "output_type": "display_data"
    },
    {
     "name": "stdout",
     "output_type": "stream",
     "text": [
      "Epoch : [21] Train loss : [0.508884307223293]\n",
      "Val Loss : [0.5764581497226443]\n",
      "Val L1 : [0.5721145551269853]\n",
      "Save Model~_~ MODEL_NAME : Conv1d_ver_7_child_10.pth\n"
     ]
    },
    {
     "data": {
      "application/vnd.jupyter.widget-view+json": {
       "model_id": "cedcfd2a5d1c4f4193c1e843997d7278",
       "version_major": 2,
       "version_minor": 0
      },
      "text/plain": [
       "  0%|          | 0/247 [00:00<?, ?it/s]"
      ]
     },
     "metadata": {},
     "output_type": "display_data"
    },
    {
     "name": "stdout",
     "output_type": "stream",
     "text": [
      "Epoch : [22] Train loss : [0.4989212717604541]\n",
      "Val Loss : [0.5871229012097631]\n",
      "Val L1 : [0.5836384470716696]\n"
     ]
    },
    {
     "data": {
      "application/vnd.jupyter.widget-view+json": {
       "model_id": "064741d7653e42ba9f9e50a47da5ea59",
       "version_major": 2,
       "version_minor": 0
      },
      "text/plain": [
       "  0%|          | 0/247 [00:00<?, ?it/s]"
      ]
     },
     "metadata": {},
     "output_type": "display_data"
    },
    {
     "name": "stdout",
     "output_type": "stream",
     "text": [
      "Epoch : [23] Train loss : [0.4865398609686477]\n",
      "Val Loss : [0.5910164788365364]\n",
      "Val L1 : [0.5852792647100798]\n"
     ]
    },
    {
     "data": {
      "application/vnd.jupyter.widget-view+json": {
       "model_id": "6bc7375d0ef040dead2a2372a888f769",
       "version_major": 2,
       "version_minor": 0
      },
      "text/plain": [
       "  0%|          | 0/247 [00:00<?, ?it/s]"
      ]
     },
     "metadata": {},
     "output_type": "display_data"
    },
    {
     "name": "stdout",
     "output_type": "stream",
     "text": [
      "Epoch : [24] Train loss : [0.4931797429858914]\n",
      "Val Loss : [0.5772379658051899]\n",
      "Val L1 : [0.5732594497315161]\n"
     ]
    },
    {
     "data": {
      "application/vnd.jupyter.widget-view+json": {
       "model_id": "04ca963a16c04bfd82771526c039eb31",
       "version_major": 2,
       "version_minor": 0
      },
      "text/plain": [
       "  0%|          | 0/247 [00:00<?, ?it/s]"
      ]
     },
     "metadata": {},
     "output_type": "display_data"
    },
    {
     "name": "stdout",
     "output_type": "stream",
     "text": [
      "Epoch : [25] Train loss : [0.47961686937673853]\n",
      "Val Loss : [0.572195614022868]\n",
      "Val L1 : [0.5702251623255246]\n",
      "Save Model~_~ MODEL_NAME : Conv1d_ver_7_child_10.pth\n"
     ]
    },
    {
     "data": {
      "application/vnd.jupyter.widget-view+json": {
       "model_id": "3a2bdd89b60e4521b0580c25c14c93ec",
       "version_major": 2,
       "version_minor": 0
      },
      "text/plain": [
       "  0%|          | 0/247 [00:00<?, ?it/s]"
      ]
     },
     "metadata": {},
     "output_type": "display_data"
    },
    {
     "name": "stdout",
     "output_type": "stream",
     "text": [
      "Epoch : [26] Train loss : [0.47416433993621393]\n",
      "Val Loss : [0.5796486298952784]\n",
      "Val L1 : [0.577939384084424]\n"
     ]
    },
    {
     "data": {
      "application/vnd.jupyter.widget-view+json": {
       "model_id": "7f35b54681a5466cbf4f03f91d14775f",
       "version_major": 2,
       "version_minor": 0
      },
      "text/plain": [
       "  0%|          | 0/247 [00:00<?, ?it/s]"
      ]
     },
     "metadata": {},
     "output_type": "display_data"
    },
    {
     "name": "stdout",
     "output_type": "stream",
     "text": [
      "Epoch : [27] Train loss : [0.46826925041221895]\n",
      "Val Loss : [0.5697162396141461]\n",
      "Val L1 : [0.568126851323661]\n",
      "Save Model~_~ MODEL_NAME : Conv1d_ver_7_child_10.pth\n"
     ]
    },
    {
     "data": {
      "application/vnd.jupyter.widget-view+json": {
       "model_id": "afcb8e928040429ab023ece08e7f847c",
       "version_major": 2,
       "version_minor": 0
      },
      "text/plain": [
       "  0%|          | 0/247 [00:00<?, ?it/s]"
      ]
     },
     "metadata": {},
     "output_type": "display_data"
    },
    {
     "name": "stdout",
     "output_type": "stream",
     "text": [
      "Epoch : [28] Train loss : [0.4589056469168258]\n",
      "Val Loss : [0.5845435783267021]\n",
      "Val L1 : [0.5811791424056121]\n"
     ]
    },
    {
     "data": {
      "application/vnd.jupyter.widget-view+json": {
       "model_id": "73796f4468854b7ebce9966d5d508ccf",
       "version_major": 2,
       "version_minor": 0
      },
      "text/plain": [
       "  0%|          | 0/247 [00:00<?, ?it/s]"
      ]
     },
     "metadata": {},
     "output_type": "display_data"
    },
    {
     "name": "stdout",
     "output_type": "stream",
     "text": [
      "Epoch : [29] Train loss : [0.45809756623588593]\n",
      "Val Loss : [0.6256739050149918]\n",
      "Val L1 : [0.6195074228701396]\n"
     ]
    },
    {
     "data": {
      "application/vnd.jupyter.widget-view+json": {
       "model_id": "4aea2049d8204b91b9bc026f63d5cd37",
       "version_major": 2,
       "version_minor": 0
      },
      "text/plain": [
       "  0%|          | 0/247 [00:00<?, ?it/s]"
      ]
     },
     "metadata": {},
     "output_type": "display_data"
    },
    {
     "name": "stdout",
     "output_type": "stream",
     "text": [
      "Epoch : [30] Train loss : [0.4507063003445444]\n",
      "Val Loss : [0.5831826478242874]\n",
      "Val L1 : [0.5810836209557051]\n"
     ]
    },
    {
     "data": {
      "application/vnd.jupyter.widget-view+json": {
       "model_id": "2ca091ed552d48debf8da06f868fd55d",
       "version_major": 2,
       "version_minor": 0
      },
      "text/plain": [
       "  0%|          | 0/247 [00:00<?, ?it/s]"
      ]
     },
     "metadata": {},
     "output_type": "display_data"
    },
    {
     "name": "stdout",
     "output_type": "stream",
     "text": [
      "Epoch : [31] Train loss : [0.46024686152394484]\n",
      "Val Loss : [0.564008463706289]\n",
      "Val L1 : [0.5596868625262875]\n",
      "Save Model~_~ MODEL_NAME : Conv1d_ver_7_child_10.pth\n"
     ]
    },
    {
     "data": {
      "application/vnd.jupyter.widget-view+json": {
       "model_id": "62bf2864f32846cc80e54ed44236e7ae",
       "version_major": 2,
       "version_minor": 0
      },
      "text/plain": [
       "  0%|          | 0/247 [00:00<?, ?it/s]"
      ]
     },
     "metadata": {},
     "output_type": "display_data"
    },
    {
     "name": "stdout",
     "output_type": "stream",
     "text": [
      "Epoch : [32] Train loss : [0.43733952487045935]\n",
      "Val Loss : [0.568285346031189]\n",
      "Val L1 : [0.5631774131013484]\n"
     ]
    },
    {
     "data": {
      "application/vnd.jupyter.widget-view+json": {
       "model_id": "d5b0416218834c8eba7d295642b415c1",
       "version_major": 2,
       "version_minor": 0
      },
      "text/plain": [
       "  0%|          | 0/247 [00:00<?, ?it/s]"
      ]
     },
     "metadata": {},
     "output_type": "display_data"
    },
    {
     "name": "stdout",
     "output_type": "stream",
     "text": [
      "Epoch : [33] Train loss : [0.4332264313692989]\n",
      "Val Loss : [0.5863150166613715]\n",
      "Val L1 : [0.5831177413022328]\n"
     ]
    },
    {
     "data": {
      "application/vnd.jupyter.widget-view+json": {
       "model_id": "743adc16238c4a8abd9baa850184f581",
       "version_major": 2,
       "version_minor": 0
      },
      "text/plain": [
       "  0%|          | 0/247 [00:00<?, ?it/s]"
      ]
     },
     "metadata": {},
     "output_type": "display_data"
    },
    {
     "name": "stdout",
     "output_type": "stream",
     "text": [
      "Epoch : [34] Train loss : [0.4309988591352455]\n",
      "Val Loss : [0.5803174014602389]\n",
      "Val L1 : [0.575316827192665]\n"
     ]
    },
    {
     "data": {
      "application/vnd.jupyter.widget-view+json": {
       "model_id": "c403f94753214ac4bbd58251d1dc9c45",
       "version_major": 2,
       "version_minor": 0
      },
      "text/plain": [
       "  0%|          | 0/247 [00:00<?, ?it/s]"
      ]
     },
     "metadata": {},
     "output_type": "display_data"
    },
    {
     "name": "stdout",
     "output_type": "stream",
     "text": [
      "Epoch : [35] Train loss : [0.43039079897316845]\n",
      "Val Loss : [0.5762948723776]\n",
      "Val L1 : [0.5729760354669056]\n"
     ]
    },
    {
     "data": {
      "application/vnd.jupyter.widget-view+json": {
       "model_id": "293d145a18554625b97058ffb2931eb2",
       "version_major": 2,
       "version_minor": 0
      },
      "text/plain": [
       "  0%|          | 0/247 [00:00<?, ?it/s]"
      ]
     },
     "metadata": {},
     "output_type": "display_data"
    },
    {
     "name": "stdout",
     "output_type": "stream",
     "text": [
      "Epoch : [36] Train loss : [0.4188118145654076]\n",
      "Val Loss : [0.577226633472102]\n",
      "Val L1 : [0.5729932014348839]\n"
     ]
    },
    {
     "data": {
      "application/vnd.jupyter.widget-view+json": {
       "model_id": "869a453af6c243e98c9d4746273636df",
       "version_major": 2,
       "version_minor": 0
      },
      "text/plain": [
       "  0%|          | 0/247 [00:00<?, ?it/s]"
      ]
     },
     "metadata": {},
     "output_type": "display_data"
    },
    {
     "name": "stdout",
     "output_type": "stream",
     "text": [
      "Epoch : [37] Train loss : [0.42042184244041986]\n",
      "Val Loss : [0.6168039238878659]\n",
      "Val L1 : [0.6133925977899165]\n"
     ]
    },
    {
     "data": {
      "application/vnd.jupyter.widget-view+json": {
       "model_id": "ad1f833b6c5d401e990e56baa3a2fcce",
       "version_major": 2,
       "version_minor": 0
      },
      "text/plain": [
       "  0%|          | 0/247 [00:00<?, ?it/s]"
      ]
     },
     "metadata": {},
     "output_type": "display_data"
    },
    {
     "name": "stdout",
     "output_type": "stream",
     "text": [
      "Epoch : [38] Train loss : [0.4155663291090413]\n",
      "Val Loss : [0.5870305927736419]\n",
      "Val L1 : [0.5826655615774537]\n"
     ]
    },
    {
     "data": {
      "application/vnd.jupyter.widget-view+json": {
       "model_id": "e7c2fb256dd74e3bbda4f8aaab975279",
       "version_major": 2,
       "version_minor": 0
      },
      "text/plain": [
       "  0%|          | 0/247 [00:00<?, ?it/s]"
      ]
     },
     "metadata": {},
     "output_type": "display_data"
    },
    {
     "name": "stdout",
     "output_type": "stream",
     "text": [
      "Epoch : [39] Train loss : [0.4103160843192807]\n",
      "Val Loss : [0.5917493743555886]\n",
      "Val L1 : [0.5884871994546171]\n"
     ]
    },
    {
     "data": {
      "application/vnd.jupyter.widget-view+json": {
       "model_id": "b9c274c924514505b43aea12c87adfec",
       "version_major": 2,
       "version_minor": 0
      },
      "text/plain": [
       "  0%|          | 0/247 [00:00<?, ?it/s]"
      ]
     },
     "metadata": {},
     "output_type": "display_data"
    },
    {
     "name": "stdout",
     "output_type": "stream",
     "text": [
      "Epoch : [40] Train loss : [0.4059616806294754]\n",
      "Val Loss : [0.5534418938415391]\n",
      "Val L1 : [0.5512116240986659]\n",
      "Save Model~_~ MODEL_NAME : Conv1d_ver_7_child_10.pth\n"
     ]
    },
    {
     "data": {
      "application/vnd.jupyter.widget-view+json": {
       "model_id": "6a0a8a2ec2fa4849aaf0cdf4a94f4afc",
       "version_major": 2,
       "version_minor": 0
      },
      "text/plain": [
       "  0%|          | 0/247 [00:00<?, ?it/s]"
      ]
     },
     "metadata": {},
     "output_type": "display_data"
    },
    {
     "name": "stdout",
     "output_type": "stream",
     "text": [
      "Epoch : [41] Train loss : [0.3970040562543792]\n",
      "Val Loss : [0.5810786059924534]\n",
      "Val L1 : [0.5773561388966978]\n"
     ]
    },
    {
     "data": {
      "application/vnd.jupyter.widget-view+json": {
       "model_id": "05c728545a6340038d5796323aaad92f",
       "version_major": 2,
       "version_minor": 0
      },
      "text/plain": [
       "  0%|          | 0/247 [00:00<?, ?it/s]"
      ]
     },
     "metadata": {},
     "output_type": "display_data"
    },
    {
     "name": "stdout",
     "output_type": "stream",
     "text": [
      "Epoch : [42] Train loss : [0.40260136127471924]\n",
      "Val Loss : [0.5656815394759178]\n",
      "Val L1 : [0.5622178603107946]\n"
     ]
    },
    {
     "data": {
      "application/vnd.jupyter.widget-view+json": {
       "model_id": "fe1838caa13244a9b3fed58a0e36d088",
       "version_major": 2,
       "version_minor": 0
      },
      "text/plain": [
       "  0%|          | 0/247 [00:00<?, ?it/s]"
      ]
     },
     "metadata": {},
     "output_type": "display_data"
    },
    {
     "name": "stdout",
     "output_type": "stream",
     "text": [
      "Epoch : [43] Train loss : [0.39611758623528576]\n",
      "Val Loss : [0.5585093732391085]\n",
      "Val L1 : [0.5556698212896501]\n"
     ]
    },
    {
     "data": {
      "application/vnd.jupyter.widget-view+json": {
       "model_id": "47402a57ad954013a673b1e4049c0864",
       "version_major": 2,
       "version_minor": 0
      },
      "text/plain": [
       "  0%|          | 0/247 [00:00<?, ?it/s]"
      ]
     },
     "metadata": {},
     "output_type": "display_data"
    },
    {
     "name": "stdout",
     "output_type": "stream",
     "text": [
      "Epoch : [44] Train loss : [0.3866667278744431]\n",
      "Val Loss : [0.5610709839633533]\n",
      "Val L1 : [0.5596439223015227]\n"
     ]
    },
    {
     "data": {
      "application/vnd.jupyter.widget-view+json": {
       "model_id": "ff8793a9ed294788ab14f4f317e73e7e",
       "version_major": 2,
       "version_minor": 0
      },
      "text/plain": [
       "  0%|          | 0/247 [00:00<?, ?it/s]"
      ]
     },
     "metadata": {},
     "output_type": "display_data"
    },
    {
     "name": "stdout",
     "output_type": "stream",
     "text": [
      "Epoch : [45] Train loss : [0.3946243463619518]\n",
      "Val Loss : [0.5766508515392031]\n",
      "Val L1 : [0.5735688466994529]\n"
     ]
    },
    {
     "data": {
      "application/vnd.jupyter.widget-view+json": {
       "model_id": "bc41adc917e84a6e81a49a8409243377",
       "version_major": 2,
       "version_minor": 0
      },
      "text/plain": [
       "  0%|          | 0/247 [00:00<?, ?it/s]"
      ]
     },
     "metadata": {},
     "output_type": "display_data"
    },
    {
     "name": "stdout",
     "output_type": "stream",
     "text": [
      "Epoch : [46] Train loss : [0.38267246027465773]\n",
      "Val Loss : [0.5620093611734254]\n",
      "Val L1 : [0.5580375125474701]\n"
     ]
    },
    {
     "data": {
      "application/vnd.jupyter.widget-view+json": {
       "model_id": "efc572449db149ac99752c7d7dd1843b",
       "version_major": 2,
       "version_minor": 0
      },
      "text/plain": [
       "  0%|          | 0/247 [00:00<?, ?it/s]"
      ]
     },
     "metadata": {},
     "output_type": "display_data"
    },
    {
     "name": "stdout",
     "output_type": "stream",
     "text": [
      "Epoch : [47] Train loss : [0.3781209972343947]\n",
      "Val Loss : [0.6243655585816928]\n",
      "Val L1 : [0.620184148532383]\n"
     ]
    },
    {
     "data": {
      "application/vnd.jupyter.widget-view+json": {
       "model_id": "dd38647ba79c4dd1900740dea7fcca62",
       "version_major": 2,
       "version_minor": 0
      },
      "text/plain": [
       "  0%|          | 0/247 [00:00<?, ?it/s]"
      ]
     },
     "metadata": {},
     "output_type": "display_data"
    },
    {
     "name": "stdout",
     "output_type": "stream",
     "text": [
      "Epoch : [48] Train loss : [0.3651712133816862]\n",
      "Val Loss : [0.5818261482885906]\n",
      "Val L1 : [0.5783053909795431]\n"
     ]
    },
    {
     "data": {
      "application/vnd.jupyter.widget-view+json": {
       "model_id": "68f900c957aa40a0b54fc1a352f5cd0d",
       "version_major": 2,
       "version_minor": 0
      },
      "text/plain": [
       "  0%|          | 0/247 [00:00<?, ?it/s]"
      ]
     },
     "metadata": {},
     "output_type": "display_data"
    },
    {
     "name": "stdout",
     "output_type": "stream",
     "text": [
      "Epoch : [49] Train loss : [0.3769754458535538]\n",
      "Val Loss : [0.576744580907481]\n",
      "Val L1 : [0.5734276186021422]\n"
     ]
    },
    {
     "data": {
      "application/vnd.jupyter.widget-view+json": {
       "model_id": "2761de91d8d34cd3b0481167e0d968c1",
       "version_major": 2,
       "version_minor": 0
      },
      "text/plain": [
       "  0%|          | 0/247 [00:00<?, ?it/s]"
      ]
     },
     "metadata": {},
     "output_type": "display_data"
    },
    {
     "name": "stdout",
     "output_type": "stream",
     "text": [
      "Epoch : [50] Train loss : [0.3784436648673857]\n",
      "Val Loss : [0.5770524176103728]\n",
      "Val L1 : [0.5734821329389727]\n"
     ]
    },
    {
     "data": {
      "application/vnd.jupyter.widget-view+json": {
       "model_id": "52f883c05c16452db722a97e7214a665",
       "version_major": 2,
       "version_minor": 0
      },
      "text/plain": [
       "  0%|          | 0/247 [00:00<?, ?it/s]"
      ]
     },
     "metadata": {},
     "output_type": "display_data"
    },
    {
     "name": "stdout",
     "output_type": "stream",
     "text": [
      "Epoch : [51] Train loss : [0.3624014033962358]\n",
      "Val Loss : [0.5671364452157702]\n",
      "Val L1 : [0.5649562898115308]\n",
      "Epoch 00051: reducing learning rate of group 0 to 5.0000e-04.\n"
     ]
    },
    {
     "data": {
      "application/vnd.jupyter.widget-view+json": {
       "model_id": "ae77f6cb66fb404c8099c17a09c9f349",
       "version_major": 2,
       "version_minor": 0
      },
      "text/plain": [
       "  0%|          | 0/247 [00:00<?, ?it/s]"
      ]
     },
     "metadata": {},
     "output_type": "display_data"
    },
    {
     "name": "stdout",
     "output_type": "stream",
     "text": [
      "Epoch : [52] Train loss : [0.3171386867761612]\n",
      "Val Loss : [0.546137809753418]\n",
      "Val L1 : [0.544554089359379]\n",
      "Save Model~_~ MODEL_NAME : Conv1d_ver_7_child_10.pth\n"
     ]
    },
    {
     "data": {
      "application/vnd.jupyter.widget-view+json": {
       "model_id": "916d264d520f4afaad8885314f354778",
       "version_major": 2,
       "version_minor": 0
      },
      "text/plain": [
       "  0%|          | 0/247 [00:00<?, ?it/s]"
      ]
     },
     "metadata": {},
     "output_type": "display_data"
    },
    {
     "name": "stdout",
     "output_type": "stream",
     "text": [
      "Epoch : [53] Train loss : [0.302752890989848]\n",
      "Val Loss : [0.5396800711750984]\n",
      "Val L1 : [0.536863800723759]\n",
      "Save Model~_~ MODEL_NAME : Conv1d_ver_7_child_10.pth\n"
     ]
    },
    {
     "data": {
      "application/vnd.jupyter.widget-view+json": {
       "model_id": "0ce829308f7b4b3f8218971446100451",
       "version_major": 2,
       "version_minor": 0
      },
      "text/plain": [
       "  0%|          | 0/247 [00:00<?, ?it/s]"
      ]
     },
     "metadata": {},
     "output_type": "display_data"
    },
    {
     "name": "stdout",
     "output_type": "stream",
     "text": [
      "Epoch : [54] Train loss : [0.2915643936226725]\n",
      "Val Loss : [0.5618760383554867]\n",
      "Val L1 : [0.5602020405249878]\n"
     ]
    },
    {
     "data": {
      "application/vnd.jupyter.widget-view+json": {
       "model_id": "79e49d55b67446a2b9c101a7c332d514",
       "version_major": 2,
       "version_minor": 0
      },
      "text/plain": [
       "  0%|          | 0/247 [00:00<?, ?it/s]"
      ]
     },
     "metadata": {},
     "output_type": "display_data"
    },
    {
     "name": "stdout",
     "output_type": "stream",
     "text": [
      "Epoch : [55] Train loss : [0.2817946787063892]\n",
      "Val Loss : [0.5633022072059768]\n",
      "Val L1 : [0.5602617653124968]\n"
     ]
    },
    {
     "data": {
      "application/vnd.jupyter.widget-view+json": {
       "model_id": "109686d1ce5e49378ae3cdb1de812cfc",
       "version_major": 2,
       "version_minor": 0
      },
      "text/plain": [
       "  0%|          | 0/247 [00:00<?, ?it/s]"
      ]
     },
     "metadata": {},
     "output_type": "display_data"
    },
    {
     "name": "stdout",
     "output_type": "stream",
     "text": [
      "Epoch : [56] Train loss : [0.28203284758546576]\n",
      "Val Loss : [0.5564519379820142]\n",
      "Val L1 : [0.5549845390344263]\n"
     ]
    },
    {
     "data": {
      "application/vnd.jupyter.widget-view+json": {
       "model_id": "b3f3302f767f4c89bb145f19fda00219",
       "version_major": 2,
       "version_minor": 0
      },
      "text/plain": [
       "  0%|          | 0/247 [00:00<?, ?it/s]"
      ]
     },
     "metadata": {},
     "output_type": "display_data"
    },
    {
     "name": "stdout",
     "output_type": "stream",
     "text": [
      "Epoch : [57] Train loss : [0.281571354279634]\n",
      "Val Loss : [0.5690855011343956]\n",
      "Val L1 : [0.5651732865627643]\n"
     ]
    },
    {
     "data": {
      "application/vnd.jupyter.widget-view+json": {
       "model_id": "65ce54f33d3642f1ac4b34e0e827dea2",
       "version_major": 2,
       "version_minor": 0
      },
      "text/plain": [
       "  0%|          | 0/247 [00:00<?, ?it/s]"
      ]
     },
     "metadata": {},
     "output_type": "display_data"
    },
    {
     "name": "stdout",
     "output_type": "stream",
     "text": [
      "Epoch : [58] Train loss : [0.268971726479318]\n",
      "Val Loss : [0.5499303607004029]\n",
      "Val L1 : [0.5466793219565259]\n"
     ]
    },
    {
     "data": {
      "application/vnd.jupyter.widget-view+json": {
       "model_id": "73267e080df04302bc9db35592bca636",
       "version_major": 2,
       "version_minor": 0
      },
      "text/plain": [
       "  0%|          | 0/247 [00:00<?, ?it/s]"
      ]
     },
     "metadata": {},
     "output_type": "display_data"
    },
    {
     "name": "stdout",
     "output_type": "stream",
     "text": [
      "Epoch : [59] Train loss : [0.2668416918168666]\n",
      "Val Loss : [0.5530810239059585]\n",
      "Val L1 : [0.5510232259682751]\n"
     ]
    },
    {
     "data": {
      "application/vnd.jupyter.widget-view+json": {
       "model_id": "30d383ed517043b4b445fd46de70acdf",
       "version_major": 2,
       "version_minor": 0
      },
      "text/plain": [
       "  0%|          | 0/247 [00:00<?, ?it/s]"
      ]
     },
     "metadata": {},
     "output_type": "display_data"
    },
    {
     "name": "stdout",
     "output_type": "stream",
     "text": [
      "Epoch : [60] Train loss : [0.26304747103920834]\n",
      "Val Loss : [0.5804743713566235]\n",
      "Val L1 : [0.5760319231922372]\n"
     ]
    },
    {
     "data": {
      "application/vnd.jupyter.widget-view+json": {
       "model_id": "f36921c2e97841de9e23cf7cd8b38f5d",
       "version_major": 2,
       "version_minor": 0
      },
      "text/plain": [
       "  0%|          | 0/247 [00:00<?, ?it/s]"
      ]
     },
     "metadata": {},
     "output_type": "display_data"
    },
    {
     "name": "stdout",
     "output_type": "stream",
     "text": [
      "Epoch : [61] Train loss : [0.2623319058765767]\n",
      "Val Loss : [0.5618089139461517]\n",
      "Val L1 : [0.5589996063424134]\n"
     ]
    },
    {
     "data": {
      "application/vnd.jupyter.widget-view+json": {
       "model_id": "7a9ff28cc6e04f77b44c32ca06aa36f5",
       "version_major": 2,
       "version_minor": 0
      },
      "text/plain": [
       "  0%|          | 0/247 [00:00<?, ?it/s]"
      ]
     },
     "metadata": {},
     "output_type": "display_data"
    },
    {
     "name": "stdout",
     "output_type": "stream",
     "text": [
      "Epoch : [62] Train loss : [0.2577175378558124]\n",
      "Val Loss : [0.5680191804255758]\n",
      "Val L1 : [0.5655666462958266]\n"
     ]
    },
    {
     "data": {
      "application/vnd.jupyter.widget-view+json": {
       "model_id": "9ad57c56b4bd47b4a2303ca2a202f969",
       "version_major": 2,
       "version_minor": 0
      },
      "text/plain": [
       "  0%|          | 0/247 [00:00<?, ?it/s]"
      ]
     },
     "metadata": {},
     "output_type": "display_data"
    },
    {
     "name": "stdout",
     "output_type": "stream",
     "text": [
      "Epoch : [63] Train loss : [0.25432888174105267]\n",
      "Val Loss : [0.566060737839767]\n",
      "Val L1 : [0.5625913311347603]\n"
     ]
    },
    {
     "data": {
      "application/vnd.jupyter.widget-view+json": {
       "model_id": "786176b2fb4e44a99384514fb50941ae",
       "version_major": 2,
       "version_minor": 0
      },
      "text/plain": [
       "  0%|          | 0/247 [00:00<?, ?it/s]"
      ]
     },
     "metadata": {},
     "output_type": "display_data"
    },
    {
     "name": "stdout",
     "output_type": "stream",
     "text": [
      "Epoch : [64] Train loss : [0.25665413745139776]\n",
      "Val Loss : [0.5750237607530185]\n",
      "Val L1 : [0.5696377119299763]\n",
      "Epoch 00064: reducing learning rate of group 0 to 2.5000e-04.\n"
     ]
    },
    {
     "data": {
      "application/vnd.jupyter.widget-view+json": {
       "model_id": "cb9ff2b97b6b421899e9cbfbda2bad18",
       "version_major": 2,
       "version_minor": 0
      },
      "text/plain": [
       "  0%|          | 0/247 [00:00<?, ?it/s]"
      ]
     },
     "metadata": {},
     "output_type": "display_data"
    },
    {
     "name": "stdout",
     "output_type": "stream",
     "text": [
      "Epoch : [65] Train loss : [0.22984063016016956]\n",
      "Val Loss : [0.5623819327780178]\n",
      "Val L1 : [0.5583846292082976]\n"
     ]
    },
    {
     "data": {
      "application/vnd.jupyter.widget-view+json": {
       "model_id": "7a121420e428423f82392322cb8702fb",
       "version_major": 2,
       "version_minor": 0
      },
      "text/plain": [
       "  0%|          | 0/247 [00:00<?, ?it/s]"
      ]
     },
     "metadata": {},
     "output_type": "display_data"
    },
    {
     "name": "stdout",
     "output_type": "stream",
     "text": [
      "Epoch : [66] Train loss : [0.2103743558289551]\n",
      "Val Loss : [0.5621183993560928]\n",
      "Val L1 : [0.5577757601246476]\n"
     ]
    },
    {
     "data": {
      "application/vnd.jupyter.widget-view+json": {
       "model_id": "afa49bd0429a43e399c5026ea698cc4b",
       "version_major": 2,
       "version_minor": 0
      },
      "text/plain": [
       "  0%|          | 0/247 [00:00<?, ?it/s]"
      ]
     },
     "metadata": {},
     "output_type": "display_data"
    },
    {
     "name": "stdout",
     "output_type": "stream",
     "text": [
      "Epoch : [67] Train loss : [0.20559233595967774]\n",
      "Val Loss : [0.5706717084561076]\n",
      "Val L1 : [0.5666079976869607]\n"
     ]
    },
    {
     "data": {
      "application/vnd.jupyter.widget-view+json": {
       "model_id": "c6a55ffac75e4aea9dd244c2f4700f4a",
       "version_major": 2,
       "version_minor": 0
      },
      "text/plain": [
       "  0%|          | 0/247 [00:00<?, ?it/s]"
      ]
     },
     "metadata": {},
     "output_type": "display_data"
    },
    {
     "name": "stdout",
     "output_type": "stream",
     "text": [
      "Epoch : [68] Train loss : [0.20133906503317328]\n",
      "Val Loss : [0.562433018216065]\n",
      "Val L1 : [0.5579717250748756]\n"
     ]
    },
    {
     "data": {
      "application/vnd.jupyter.widget-view+json": {
       "model_id": "a797b0e1bc2c4d40b41852d17396b2af",
       "version_major": 2,
       "version_minor": 0
      },
      "text/plain": [
       "  0%|          | 0/247 [00:00<?, ?it/s]"
      ]
     },
     "metadata": {},
     "output_type": "display_data"
    },
    {
     "name": "stdout",
     "output_type": "stream",
     "text": [
      "Epoch : [69] Train loss : [0.19640249363806567]\n",
      "Val Loss : [0.5703907066157886]\n",
      "Val L1 : [0.5673464435345763]\n"
     ]
    },
    {
     "data": {
      "application/vnd.jupyter.widget-view+json": {
       "model_id": "ce25522b57db4b92b2a2a3c4a2b919a1",
       "version_major": 2,
       "version_minor": 0
      },
      "text/plain": [
       "  0%|          | 0/247 [00:00<?, ?it/s]"
      ]
     },
     "metadata": {},
     "output_type": "display_data"
    },
    {
     "name": "stdout",
     "output_type": "stream",
     "text": [
      "Epoch : [70] Train loss : [0.1967143714427948]\n",
      "Val Loss : [0.5635482402784484]\n",
      "Val L1 : [0.5601400163762933]\n",
      "Final Best error : [0.536863800723759]\n",
      "Final Best loss : [0.5396800711750984]\n"
     ]
    }
   ],
   "source": [
    "kfold = KFold(n_splits=10)\n",
    "fold = 0\n",
    "\n",
    "for train_idx, val_idx in kfold.split(child_np):\n",
    "    fold = fold+1\n",
    "    if fold==10:\n",
    "        train_child_x, val_child_x = child_np[train_idx], child_np[val_idx]\n",
    "        train_child_y, val_child_y = train_child_age[train_idx], train_child_age[val_idx]\n",
    "        print(train_child_x.shape)\n",
    "        print(val_child_x.shape)\n",
    "        print(train_child_y.shape)\n",
    "        print(val_child_y.shape)\n",
    "    \n",
    "       \n",
    "        train_child_sex, val_child_sex = child_sex[train_idx], child_sex[val_idx]\n",
    "        print(train_child_sex.shape)\n",
    "        print(val_child_sex.shape)\n",
    "    \n",
    "        train_child_dataset = MyDataset(torch.tensor(train_child_x),torch.tensor(train_child_y), torch.tensor(train_child_sex))\n",
    "        train_child_loader = DataLoader(train_child_dataset, batch_size=BS, shuffle=True)\n",
    "        val_child_dataset = MyDataset(torch.tensor(val_child_x),torch.tensor(val_child_y), torch.tensor(val_child_sex))\n",
    "        val_child_loader = DataLoader(val_child_dataset, batch_size=BS, shuffle=False)\n",
    "    \n",
    "        it = iter(train_child_loader)\n",
    "        input_size = next(it)[0].shape[2]\n",
    "        print(f\"Child {fold} fold model training start ~_~\")\n",
    "        \n",
    "        gc.collect()\n",
    "        ### CHILD MODEL ###\n",
    "        seed_everything(SEED)\n",
    "        model = Model(input_size)\n",
    "        model = model.to(device)\n",
    "        print(summary(model))\n",
    "        \n",
    "        optimizer = torch.optim.AdamW(params = model.parameters(), lr = LR, weight_decay=1e-2)#Opimizer : AdamW\n",
    "        scheduler = torch.optim.lr_scheduler.ReduceLROnPlateau(optimizer, mode='min', factor=0.5, patience=10, threshold = 1e-8, threshold_mode='abs', min_lr=1e-8, verbose=True)\n",
    "        trainer = Trainer(model, optimizer, train_child_loader, val_child_loader, scheduler, device, fold, 'child')\n",
    "        trainer.fit()"
   ]
  },
  {
   "cell_type": "code",
   "execution_count": 18,
   "id": "d35b4caa-7a8c-4f51-8cfb-31a39fdef288",
   "metadata": {},
   "outputs": [
    {
     "data": {
      "text/html": [
       "<div>\n",
       "<style scoped>\n",
       "    .dataframe tbody tr th:only-of-type {\n",
       "        vertical-align: middle;\n",
       "    }\n",
       "\n",
       "    .dataframe tbody tr th {\n",
       "        vertical-align: top;\n",
       "    }\n",
       "\n",
       "    .dataframe thead th {\n",
       "        text-align: right;\n",
       "    }\n",
       "</style>\n",
       "<table border=\"1\" class=\"dataframe\">\n",
       "  <thead>\n",
       "    <tr style=\"text-align: right;\">\n",
       "      <th></th>\n",
       "      <th>FILENAME</th>\n",
       "      <th>GENDER</th>\n",
       "      <th>AGE</th>\n",
       "    </tr>\n",
       "  </thead>\n",
       "  <tbody>\n",
       "    <tr>\n",
       "      <th>0</th>\n",
       "      <td>ecg_child_8781</td>\n",
       "      <td>FEMALE</td>\n",
       "      <td>NaN</td>\n",
       "    </tr>\n",
       "    <tr>\n",
       "      <th>1</th>\n",
       "      <td>ecg_child_8782</td>\n",
       "      <td>MALE</td>\n",
       "      <td>NaN</td>\n",
       "    </tr>\n",
       "    <tr>\n",
       "      <th>2</th>\n",
       "      <td>ecg_child_8783</td>\n",
       "      <td>MALE</td>\n",
       "      <td>NaN</td>\n",
       "    </tr>\n",
       "    <tr>\n",
       "      <th>3</th>\n",
       "      <td>ecg_child_8784</td>\n",
       "      <td>FEMALE</td>\n",
       "      <td>NaN</td>\n",
       "    </tr>\n",
       "    <tr>\n",
       "      <th>4</th>\n",
       "      <td>ecg_child_8785</td>\n",
       "      <td>FEMALE</td>\n",
       "      <td>NaN</td>\n",
       "    </tr>\n",
       "    <tr>\n",
       "      <th>...</th>\n",
       "      <td>...</td>\n",
       "      <td>...</td>\n",
       "      <td>...</td>\n",
       "    </tr>\n",
       "    <tr>\n",
       "      <th>5470</th>\n",
       "      <td>ecg_adult_39536</td>\n",
       "      <td>FEMALE</td>\n",
       "      <td>NaN</td>\n",
       "    </tr>\n",
       "    <tr>\n",
       "      <th>5471</th>\n",
       "      <td>ecg_adult_39537</td>\n",
       "      <td>FEMALE</td>\n",
       "      <td>NaN</td>\n",
       "    </tr>\n",
       "    <tr>\n",
       "      <th>5472</th>\n",
       "      <td>ecg_adult_39538</td>\n",
       "      <td>FEMALE</td>\n",
       "      <td>NaN</td>\n",
       "    </tr>\n",
       "    <tr>\n",
       "      <th>5473</th>\n",
       "      <td>ecg_adult_39539</td>\n",
       "      <td>FEMALE</td>\n",
       "      <td>NaN</td>\n",
       "    </tr>\n",
       "    <tr>\n",
       "      <th>5474</th>\n",
       "      <td>ecg_adult_39540</td>\n",
       "      <td>FEMALE</td>\n",
       "      <td>NaN</td>\n",
       "    </tr>\n",
       "  </tbody>\n",
       "</table>\n",
       "<p>5475 rows × 3 columns</p>\n",
       "</div>"
      ],
      "text/plain": [
       "             FILENAME  GENDER  AGE\n",
       "0      ecg_child_8781  FEMALE  NaN\n",
       "1      ecg_child_8782    MALE  NaN\n",
       "2      ecg_child_8783    MALE  NaN\n",
       "3      ecg_child_8784  FEMALE  NaN\n",
       "4      ecg_child_8785  FEMALE  NaN\n",
       "...               ...     ...  ...\n",
       "5470  ecg_adult_39536  FEMALE  NaN\n",
       "5471  ecg_adult_39537  FEMALE  NaN\n",
       "5472  ecg_adult_39538  FEMALE  NaN\n",
       "5473  ecg_adult_39539  FEMALE  NaN\n",
       "5474  ecg_adult_39540  FEMALE  NaN\n",
       "\n",
       "[5475 rows x 3 columns]"
      ]
     },
     "execution_count": 18,
     "metadata": {},
     "output_type": "execute_result"
    }
   ],
   "source": [
    "adult_data_test_num = len(os.listdir('./ECG_adult_numpy_valid'))\n",
    "child_data_test_num = len(os.listdir('./ECG_child_numpy_valid'))\n",
    "\n",
    "test_csv= pd.read_csv('./submission.csv')\n",
    "test_csv"
   ]
  },
  {
   "cell_type": "code",
   "execution_count": 19,
   "id": "de022923-efa0-4b15-8a1e-d2dd59633384",
   "metadata": {},
   "outputs": [
    {
     "data": {
      "text/html": [
       "<div>\n",
       "<style scoped>\n",
       "    .dataframe tbody tr th:only-of-type {\n",
       "        vertical-align: middle;\n",
       "    }\n",
       "\n",
       "    .dataframe tbody tr th {\n",
       "        vertical-align: top;\n",
       "    }\n",
       "\n",
       "    .dataframe thead th {\n",
       "        text-align: right;\n",
       "    }\n",
       "</style>\n",
       "<table border=\"1\" class=\"dataframe\">\n",
       "  <thead>\n",
       "    <tr style=\"text-align: right;\">\n",
       "      <th></th>\n",
       "      <th>FILENAME</th>\n",
       "      <th>GENDER</th>\n",
       "      <th>AGE</th>\n",
       "    </tr>\n",
       "  </thead>\n",
       "  <tbody>\n",
       "    <tr>\n",
       "      <th>0</th>\n",
       "      <td>ecg_child_8781</td>\n",
       "      <td>1</td>\n",
       "      <td>NaN</td>\n",
       "    </tr>\n",
       "    <tr>\n",
       "      <th>1</th>\n",
       "      <td>ecg_child_8782</td>\n",
       "      <td>0</td>\n",
       "      <td>NaN</td>\n",
       "    </tr>\n",
       "    <tr>\n",
       "      <th>2</th>\n",
       "      <td>ecg_child_8783</td>\n",
       "      <td>0</td>\n",
       "      <td>NaN</td>\n",
       "    </tr>\n",
       "    <tr>\n",
       "      <th>3</th>\n",
       "      <td>ecg_child_8784</td>\n",
       "      <td>1</td>\n",
       "      <td>NaN</td>\n",
       "    </tr>\n",
       "    <tr>\n",
       "      <th>4</th>\n",
       "      <td>ecg_child_8785</td>\n",
       "      <td>1</td>\n",
       "      <td>NaN</td>\n",
       "    </tr>\n",
       "    <tr>\n",
       "      <th>...</th>\n",
       "      <td>...</td>\n",
       "      <td>...</td>\n",
       "      <td>...</td>\n",
       "    </tr>\n",
       "    <tr>\n",
       "      <th>5470</th>\n",
       "      <td>ecg_adult_39536</td>\n",
       "      <td>1</td>\n",
       "      <td>NaN</td>\n",
       "    </tr>\n",
       "    <tr>\n",
       "      <th>5471</th>\n",
       "      <td>ecg_adult_39537</td>\n",
       "      <td>1</td>\n",
       "      <td>NaN</td>\n",
       "    </tr>\n",
       "    <tr>\n",
       "      <th>5472</th>\n",
       "      <td>ecg_adult_39538</td>\n",
       "      <td>1</td>\n",
       "      <td>NaN</td>\n",
       "    </tr>\n",
       "    <tr>\n",
       "      <th>5473</th>\n",
       "      <td>ecg_adult_39539</td>\n",
       "      <td>1</td>\n",
       "      <td>NaN</td>\n",
       "    </tr>\n",
       "    <tr>\n",
       "      <th>5474</th>\n",
       "      <td>ecg_adult_39540</td>\n",
       "      <td>1</td>\n",
       "      <td>NaN</td>\n",
       "    </tr>\n",
       "  </tbody>\n",
       "</table>\n",
       "<p>5475 rows × 3 columns</p>\n",
       "</div>"
      ],
      "text/plain": [
       "             FILENAME GENDER  AGE\n",
       "0      ecg_child_8781      1  NaN\n",
       "1      ecg_child_8782      0  NaN\n",
       "2      ecg_child_8783      0  NaN\n",
       "3      ecg_child_8784      1  NaN\n",
       "4      ecg_child_8785      1  NaN\n",
       "...               ...    ...  ...\n",
       "5470  ecg_adult_39536      1  NaN\n",
       "5471  ecg_adult_39537      1  NaN\n",
       "5472  ecg_adult_39538      1  NaN\n",
       "5473  ecg_adult_39539      1  NaN\n",
       "5474  ecg_adult_39540      1  NaN\n",
       "\n",
       "[5475 rows x 3 columns]"
      ]
     },
     "execution_count": 19,
     "metadata": {},
     "output_type": "execute_result"
    }
   ],
   "source": [
    "test_csv.loc[test_csv['GENDER'] == 'MALE',  'GENDER'] = 0\n",
    "test_csv.loc[test_csv['GENDER'] == 'FEMALE',  'GENDER'] = 1\n",
    "test_csv.loc[test_csv['GENDER'] == 'unknown',  'GENDER'] = 0\n",
    "test_csv"
   ]
  },
  {
   "cell_type": "code",
   "execution_count": 20,
   "id": "3604c5bf-6b15-4eff-92b8-d6735d824964",
   "metadata": {},
   "outputs": [
    {
     "name": "stdout",
     "output_type": "stream",
     "text": [
      "['./ECG_adult_numpy_valid/ecg_adult_35141.npy', './ECG_adult_numpy_valid/ecg_adult_35142.npy', './ECG_adult_numpy_valid/ecg_adult_35143.npy', './ECG_adult_numpy_valid/ecg_adult_35144.npy', './ECG_adult_numpy_valid/ecg_adult_35145.npy', './ECG_adult_numpy_valid/ecg_adult_35146.npy', './ECG_adult_numpy_valid/ecg_adult_35147.npy', './ECG_adult_numpy_valid/ecg_adult_35148.npy', './ECG_adult_numpy_valid/ecg_adult_35149.npy', './ECG_adult_numpy_valid/ecg_adult_35150.npy']\n",
      "4375\n",
      "1100\n"
     ]
    }
   ],
   "source": [
    "test_adult_path = [f'./ECG_adult_numpy_valid/{name}.npy' for name in test_csv['FILENAME'][1100:]]\n",
    "test_child_path = [f'./ECG_child_numpy_valid/{name}.npy' for name in test_csv['FILENAME'][:1100]]\n",
    "print(test_adult_path[:10])\n",
    "print(len(test_adult_path))\n",
    "print(len(test_child_path))"
   ]
  },
  {
   "cell_type": "code",
   "execution_count": 21,
   "id": "5a44338c-3c6f-4a4d-9aa4-43d824ece597",
   "metadata": {
    "scrolled": true
   },
   "outputs": [
    {
     "data": {
      "application/vnd.jupyter.widget-view+json": {
       "model_id": "91fe00b64aa54c8889cf31ef13811412",
       "version_major": 2,
       "version_minor": 0
      },
      "text/plain": [
       "0it [00:00, ?it/s]"
      ]
     },
     "metadata": {},
     "output_type": "display_data"
    },
    {
     "data": {
      "text/plain": [
       "(4375, 5000, 12)"
      ]
     },
     "execution_count": 21,
     "metadata": {},
     "output_type": "execute_result"
    }
   ],
   "source": [
    "adult_test_np = []\n",
    "adult_test_sex =[]\n",
    "for i, path in tqdm(enumerate(test_adult_path)):\n",
    "    adult_test_np_tmp = np.load(path).reshape(5000,-1)[:,:]\n",
    "    adult_sex_tmp = test_csv['GENDER'][1100+i]\n",
    "    adult_test_np.append(adult_test_np_tmp)\n",
    "    adult_test_sex.append(adult_sex_tmp)\n",
    "adult_test_np = np.array(adult_test_np)\n",
    "adult_test_sex = np.array(adult_test_sex)\n",
    "adult_test_np.shape"
   ]
  },
  {
   "cell_type": "code",
   "execution_count": 22,
   "id": "ab8c21e6-d8b8-4611-b24f-3e4a1bf8eae2",
   "metadata": {},
   "outputs": [
    {
     "data": {
      "application/vnd.jupyter.widget-view+json": {
       "model_id": "8424467bb82d4aef89b9cd793beac88a",
       "version_major": 2,
       "version_minor": 0
      },
      "text/plain": [
       "0it [00:00, ?it/s]"
      ]
     },
     "metadata": {},
     "output_type": "display_data"
    },
    {
     "data": {
      "text/plain": [
       "(1100, 5000, 12)"
      ]
     },
     "execution_count": 22,
     "metadata": {},
     "output_type": "execute_result"
    }
   ],
   "source": [
    "child_test_np = []\n",
    "child_test_sex = []\n",
    "for i, path in tqdm(enumerate(test_child_path)):\n",
    "    child_test_np_tmp = np.load(path).reshape(5000,-1)[:,:]\n",
    "    child_sex_tmp = test_csv['GENDER'][i]\n",
    "    child_test_np.append(child_test_np_tmp)\n",
    "    child_test_sex.append(child_sex_tmp)\n",
    "child_test_np = np.array(child_test_np)\n",
    "child_test_sex = np.array(child_test_sex)\n",
    "child_test_np.shape"
   ]
  },
  {
   "cell_type": "code",
   "execution_count": 23,
   "id": "d7e6eba7-0765-41dd-bb8a-c52aa9cb7a55",
   "metadata": {},
   "outputs": [],
   "source": [
    "test_adult_dataset = TestDataset(torch.tensor(adult_test_np), torch.tensor(adult_test_sex))\n",
    "test_adult_loader = DataLoader(test_adult_dataset, batch_size=BS, shuffle=False)\n",
    "test_child_dataset = TestDataset(torch.tensor(child_test_np), torch.tensor(child_test_sex))\n",
    "test_child_loader = DataLoader(test_child_dataset, batch_size=BS, shuffle=False)"
   ]
  },
  {
   "cell_type": "code",
   "execution_count": 24,
   "id": "fe4b718b-f546-440a-a332-3ade0f049011",
   "metadata": {},
   "outputs": [
    {
     "name": "stdout",
     "output_type": "stream",
     "text": [
      "(10, 4375)\n",
      "(10, 1100)\n"
     ]
    }
   ],
   "source": [
    "child_pred_list = []\n",
    "adult_pred_list = []\n",
    "for fold in range(1,11):\n",
    "    adult_pred = []\n",
    "    child_pred = []\n",
    "    pretrained_adult_model = torch.load('./model/' + MODEL_NAME + f\"_adult_{fold}.pth\")\n",
    "    pretrained_adult_model = pretrained_adult_model.to(device)\n",
    "    pretrained_adult_model.eval()\n",
    "    pretrained_child_model = torch.load('./model/' + MODEL_NAME + f\"_child_{fold}.pth\")\n",
    "    pretrained_child_model = pretrained_child_model.to(device)\n",
    "    pretrained_child_model.eval()\n",
    "    with torch.no_grad():\n",
    "        for x, sex in iter(test_adult_loader):\n",
    "            x = x.float().to(device)\n",
    "            sex = sex.to(device)\n",
    "            batch_pred = pretrained_adult_model(x,sex).squeeze(1)    \n",
    "            adult_pred += batch_pred.cpu().detach().tolist()\n",
    "    with torch.no_grad():\n",
    "        for x, sex in iter(test_child_loader):\n",
    "            x = x.float().to(device)\n",
    "            sex = sex.to(device)\n",
    "            batch_pred = pretrained_child_model(x,sex).squeeze(1) \n",
    "            child_pred += batch_pred.cpu().detach().tolist()\n",
    "    adult_pred_list.append(adult_pred)\n",
    "    child_pred_list.append(child_pred)\n",
    "\n",
    "adult_pred_arr = np.array(adult_pred_list)\n",
    "child_pred_arr = np.array(child_pred_list)\n",
    "print(adult_pred_arr.shape)\n",
    "print(child_pred_arr.shape)"
   ]
  },
  {
   "cell_type": "code",
   "execution_count": 28,
   "id": "04afbae4-44bb-4a8c-808e-023e5635cade",
   "metadata": {},
   "outputs": [
    {
     "data": {
      "text/plain": [
       "4375"
      ]
     },
     "execution_count": 28,
     "metadata": {},
     "output_type": "execute_result"
    }
   ],
   "source": [
    "adult_pred = adult_pred_arr.mean(axis=0).tolist()\n",
    "child_pred = child_pred_arr.mean(axis=0).tolist()\n",
    "len(adult_pred)"
   ]
  },
  {
   "cell_type": "code",
   "execution_count": 29,
   "id": "c3b5b73d-2e17-4fbd-8297-33ff9d90fd2e",
   "metadata": {},
   "outputs": [
    {
     "data": {
      "text/html": [
       "<div>\n",
       "<style scoped>\n",
       "    .dataframe tbody tr th:only-of-type {\n",
       "        vertical-align: middle;\n",
       "    }\n",
       "\n",
       "    .dataframe tbody tr th {\n",
       "        vertical-align: top;\n",
       "    }\n",
       "\n",
       "    .dataframe thead th {\n",
       "        text-align: right;\n",
       "    }\n",
       "</style>\n",
       "<table border=\"1\" class=\"dataframe\">\n",
       "  <thead>\n",
       "    <tr style=\"text-align: right;\">\n",
       "      <th></th>\n",
       "      <th>FILENAME</th>\n",
       "      <th>GENDER</th>\n",
       "      <th>AGE</th>\n",
       "    </tr>\n",
       "  </thead>\n",
       "  <tbody>\n",
       "    <tr>\n",
       "      <th>0</th>\n",
       "      <td>ecg_child_8781</td>\n",
       "      <td>1</td>\n",
       "      <td>0.531807</td>\n",
       "    </tr>\n",
       "    <tr>\n",
       "      <th>1</th>\n",
       "      <td>ecg_child_8782</td>\n",
       "      <td>0</td>\n",
       "      <td>5.674960</td>\n",
       "    </tr>\n",
       "    <tr>\n",
       "      <th>2</th>\n",
       "      <td>ecg_child_8783</td>\n",
       "      <td>0</td>\n",
       "      <td>4.167224</td>\n",
       "    </tr>\n",
       "    <tr>\n",
       "      <th>3</th>\n",
       "      <td>ecg_child_8784</td>\n",
       "      <td>1</td>\n",
       "      <td>5.408663</td>\n",
       "    </tr>\n",
       "    <tr>\n",
       "      <th>4</th>\n",
       "      <td>ecg_child_8785</td>\n",
       "      <td>1</td>\n",
       "      <td>0.532511</td>\n",
       "    </tr>\n",
       "    <tr>\n",
       "      <th>...</th>\n",
       "      <td>...</td>\n",
       "      <td>...</td>\n",
       "      <td>...</td>\n",
       "    </tr>\n",
       "    <tr>\n",
       "      <th>5470</th>\n",
       "      <td>ecg_adult_39536</td>\n",
       "      <td>1</td>\n",
       "      <td>35.319862</td>\n",
       "    </tr>\n",
       "    <tr>\n",
       "      <th>5471</th>\n",
       "      <td>ecg_adult_39537</td>\n",
       "      <td>1</td>\n",
       "      <td>58.420564</td>\n",
       "    </tr>\n",
       "    <tr>\n",
       "      <th>5472</th>\n",
       "      <td>ecg_adult_39538</td>\n",
       "      <td>1</td>\n",
       "      <td>50.609446</td>\n",
       "    </tr>\n",
       "    <tr>\n",
       "      <th>5473</th>\n",
       "      <td>ecg_adult_39539</td>\n",
       "      <td>1</td>\n",
       "      <td>63.631891</td>\n",
       "    </tr>\n",
       "    <tr>\n",
       "      <th>5474</th>\n",
       "      <td>ecg_adult_39540</td>\n",
       "      <td>1</td>\n",
       "      <td>60.671680</td>\n",
       "    </tr>\n",
       "  </tbody>\n",
       "</table>\n",
       "<p>5475 rows × 3 columns</p>\n",
       "</div>"
      ],
      "text/plain": [
       "             FILENAME GENDER        AGE\n",
       "0      ecg_child_8781      1   0.531807\n",
       "1      ecg_child_8782      0   5.674960\n",
       "2      ecg_child_8783      0   4.167224\n",
       "3      ecg_child_8784      1   5.408663\n",
       "4      ecg_child_8785      1   0.532511\n",
       "...               ...    ...        ...\n",
       "5470  ecg_adult_39536      1  35.319862\n",
       "5471  ecg_adult_39537      1  58.420564\n",
       "5472  ecg_adult_39538      1  50.609446\n",
       "5473  ecg_adult_39539      1  63.631891\n",
       "5474  ecg_adult_39540      1  60.671680\n",
       "\n",
       "[5475 rows x 3 columns]"
      ]
     },
     "execution_count": 29,
     "metadata": {},
     "output_type": "execute_result"
    }
   ],
   "source": [
    "pred = child_pred+adult_pred\n",
    "\n",
    "test_csv['AGE']=pred\n",
    "test_csv"
   ]
  },
  {
   "cell_type": "code",
   "execution_count": 30,
   "id": "c42ef4ae-b8cb-43e5-9271-4c92837d753f",
   "metadata": {},
   "outputs": [],
   "source": [
    "test_csv.to_csv(f'./submission/{MODEL_NAME}.csv')"
   ]
  }
 ],
 "metadata": {
  "kernelspec": {
   "display_name": "Python 3 (ipykernel)",
   "language": "python",
   "name": "python3"
  },
  "language_info": {
   "codemirror_mode": {
    "name": "ipython",
    "version": 3
   },
   "file_extension": ".py",
   "mimetype": "text/x-python",
   "name": "python",
   "nbconvert_exporter": "python",
   "pygments_lexer": "ipython3",
   "version": "3.8.16"
  }
 },
 "nbformat": 4,
 "nbformat_minor": 5
}
